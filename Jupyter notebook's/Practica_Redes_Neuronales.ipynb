{
 "cells": [
  {
   "cell_type": "code",
   "execution_count": null,
   "metadata": {
    "id": "kHlYviSm3Rsm"
   },
   "outputs": [],
   "source": [
    "# Tensorflow y Keras\n",
    "import tensorflow as tf\n",
    "from tensorflow import keras\n",
    "from tensorflow.keras.utils import to_categorical\n",
    "\n",
    "# Otras librerías utiles\n",
    "from sklearn.model_selection import train_test_split # para separar los datos\n",
    "import pandas as pd #Carga de datos\n",
    "import numpy as np # Manipulacion de datos\n",
    "import matplotlib.pyplot as plt # Graficar"
   ]
  },
  {
   "cell_type": "markdown",
   "metadata": {
    "id": "hy2xBkI2sk8o"
   },
   "source": [
    "# Problema de Clasificación"
   ]
  },
  {
   "cell_type": "code",
   "execution_count": null,
   "metadata": {
    "colab": {
     "base_uri": "https://localhost:8080/",
     "height": 195
    },
    "id": "dvnXyzYUG78b",
    "outputId": "c4cb3c7f-f57b-4e94-8216-cef29c4b50b4"
   },
   "outputs": [
    {
     "data": {
      "text/html": [
       "<div>\n",
       "<style scoped>\n",
       "    .dataframe tbody tr th:only-of-type {\n",
       "        vertical-align: middle;\n",
       "    }\n",
       "\n",
       "    .dataframe tbody tr th {\n",
       "        vertical-align: top;\n",
       "    }\n",
       "\n",
       "    .dataframe thead th {\n",
       "        text-align: right;\n",
       "    }\n",
       "</style>\n",
       "<table border=\"1\" class=\"dataframe\">\n",
       "  <thead>\n",
       "    <tr style=\"text-align: right;\">\n",
       "      <th></th>\n",
       "      <th>Variance</th>\n",
       "      <th>Skewness</th>\n",
       "      <th>Curtosis</th>\n",
       "      <th>Entropy</th>\n",
       "      <th>Class</th>\n",
       "    </tr>\n",
       "  </thead>\n",
       "  <tbody>\n",
       "    <tr>\n",
       "      <th>0</th>\n",
       "      <td>3.62160</td>\n",
       "      <td>8.6661</td>\n",
       "      <td>-2.8073</td>\n",
       "      <td>-0.44699</td>\n",
       "      <td>0</td>\n",
       "    </tr>\n",
       "    <tr>\n",
       "      <th>1</th>\n",
       "      <td>4.54590</td>\n",
       "      <td>8.1674</td>\n",
       "      <td>-2.4586</td>\n",
       "      <td>-1.46210</td>\n",
       "      <td>0</td>\n",
       "    </tr>\n",
       "    <tr>\n",
       "      <th>2</th>\n",
       "      <td>3.86600</td>\n",
       "      <td>-2.6383</td>\n",
       "      <td>1.9242</td>\n",
       "      <td>0.10645</td>\n",
       "      <td>0</td>\n",
       "    </tr>\n",
       "    <tr>\n",
       "      <th>3</th>\n",
       "      <td>3.45660</td>\n",
       "      <td>9.5228</td>\n",
       "      <td>-4.0112</td>\n",
       "      <td>-3.59440</td>\n",
       "      <td>0</td>\n",
       "    </tr>\n",
       "    <tr>\n",
       "      <th>4</th>\n",
       "      <td>0.32924</td>\n",
       "      <td>-4.4552</td>\n",
       "      <td>4.5718</td>\n",
       "      <td>-0.98880</td>\n",
       "      <td>0</td>\n",
       "    </tr>\n",
       "  </tbody>\n",
       "</table>\n",
       "</div>"
      ],
      "text/plain": [
       "   Variance  Skewness  Curtosis  Entropy  Class\n",
       "0   3.62160    8.6661   -2.8073 -0.44699      0\n",
       "1   4.54590    8.1674   -2.4586 -1.46210      0\n",
       "2   3.86600   -2.6383    1.9242  0.10645      0\n",
       "3   3.45660    9.5228   -4.0112 -3.59440      0\n",
       "4   0.32924   -4.4552    4.5718 -0.98880      0"
      ]
     },
     "execution_count": 2,
     "metadata": {
      "tags": []
     },
     "output_type": "execute_result"
    }
   ],
   "source": [
    "nombre='Conjunto1.csv'\n",
    "datos=pd.read_csv(nombre)\n",
    "datos.head()"
   ]
  },
  {
   "cell_type": "code",
   "execution_count": null,
   "metadata": {
    "id": "czTWQ5AulKzp"
   },
   "outputs": [],
   "source": [
    "X=datos.drop('Class',axis='columns')\n",
    "y=datos['Class']"
   ]
  },
  {
   "cell_type": "code",
   "execution_count": null,
   "metadata": {
    "colab": {
     "base_uri": "https://localhost:8080/",
     "height": 195
    },
    "id": "tp_lyCZpKV6z",
    "outputId": "2f387915-0586-480a-f936-0fdd7f8286d9"
   },
   "outputs": [
    {
     "data": {
      "text/html": [
       "<div>\n",
       "<style scoped>\n",
       "    .dataframe tbody tr th:only-of-type {\n",
       "        vertical-align: middle;\n",
       "    }\n",
       "\n",
       "    .dataframe tbody tr th {\n",
       "        vertical-align: top;\n",
       "    }\n",
       "\n",
       "    .dataframe thead th {\n",
       "        text-align: right;\n",
       "    }\n",
       "</style>\n",
       "<table border=\"1\" class=\"dataframe\">\n",
       "  <thead>\n",
       "    <tr style=\"text-align: right;\">\n",
       "      <th></th>\n",
       "      <th>Variance</th>\n",
       "      <th>Skewness</th>\n",
       "      <th>Curtosis</th>\n",
       "      <th>Entropy</th>\n",
       "    </tr>\n",
       "  </thead>\n",
       "  <tbody>\n",
       "    <tr>\n",
       "      <th>0</th>\n",
       "      <td>3.62160</td>\n",
       "      <td>8.6661</td>\n",
       "      <td>-2.8073</td>\n",
       "      <td>-0.44699</td>\n",
       "    </tr>\n",
       "    <tr>\n",
       "      <th>1</th>\n",
       "      <td>4.54590</td>\n",
       "      <td>8.1674</td>\n",
       "      <td>-2.4586</td>\n",
       "      <td>-1.46210</td>\n",
       "    </tr>\n",
       "    <tr>\n",
       "      <th>2</th>\n",
       "      <td>3.86600</td>\n",
       "      <td>-2.6383</td>\n",
       "      <td>1.9242</td>\n",
       "      <td>0.10645</td>\n",
       "    </tr>\n",
       "    <tr>\n",
       "      <th>3</th>\n",
       "      <td>3.45660</td>\n",
       "      <td>9.5228</td>\n",
       "      <td>-4.0112</td>\n",
       "      <td>-3.59440</td>\n",
       "    </tr>\n",
       "    <tr>\n",
       "      <th>4</th>\n",
       "      <td>0.32924</td>\n",
       "      <td>-4.4552</td>\n",
       "      <td>4.5718</td>\n",
       "      <td>-0.98880</td>\n",
       "    </tr>\n",
       "  </tbody>\n",
       "</table>\n",
       "</div>"
      ],
      "text/plain": [
       "   Variance  Skewness  Curtosis  Entropy\n",
       "0   3.62160    8.6661   -2.8073 -0.44699\n",
       "1   4.54590    8.1674   -2.4586 -1.46210\n",
       "2   3.86600   -2.6383    1.9242  0.10645\n",
       "3   3.45660    9.5228   -4.0112 -3.59440\n",
       "4   0.32924   -4.4552    4.5718 -0.98880"
      ]
     },
     "execution_count": 4,
     "metadata": {
      "tags": []
     },
     "output_type": "execute_result"
    }
   ],
   "source": [
    "X.head()"
   ]
  },
  {
   "cell_type": "code",
   "execution_count": null,
   "metadata": {
    "colab": {
     "base_uri": "https://localhost:8080/"
    },
    "id": "eZEwR3pzKXhP",
    "outputId": "0b3308d1-e402-4e59-c213-378ed27cd156"
   },
   "outputs": [
    {
     "data": {
      "text/plain": [
       "0    0\n",
       "1    0\n",
       "2    0\n",
       "3    0\n",
       "4    0\n",
       "Name: Class, dtype: int64"
      ]
     },
     "execution_count": 5,
     "metadata": {
      "tags": []
     },
     "output_type": "execute_result"
    }
   ],
   "source": [
    "y.head()"
   ]
  },
  {
   "cell_type": "code",
   "execution_count": null,
   "metadata": {
    "colab": {
     "base_uri": "https://localhost:8080/",
     "height": 195
    },
    "id": "hjF82se7lazI",
    "outputId": "4c8001d3-afc3-4b88-e917-4ba0d4f48826"
   },
   "outputs": [
    {
     "data": {
      "text/html": [
       "<div>\n",
       "<style scoped>\n",
       "    .dataframe tbody tr th:only-of-type {\n",
       "        vertical-align: middle;\n",
       "    }\n",
       "\n",
       "    .dataframe tbody tr th {\n",
       "        vertical-align: top;\n",
       "    }\n",
       "\n",
       "    .dataframe thead th {\n",
       "        text-align: right;\n",
       "    }\n",
       "</style>\n",
       "<table border=\"1\" class=\"dataframe\">\n",
       "  <thead>\n",
       "    <tr style=\"text-align: right;\">\n",
       "      <th></th>\n",
       "      <th>0</th>\n",
       "      <th>1</th>\n",
       "    </tr>\n",
       "  </thead>\n",
       "  <tbody>\n",
       "    <tr>\n",
       "      <th>0</th>\n",
       "      <td>1</td>\n",
       "      <td>0</td>\n",
       "    </tr>\n",
       "    <tr>\n",
       "      <th>1</th>\n",
       "      <td>1</td>\n",
       "      <td>0</td>\n",
       "    </tr>\n",
       "    <tr>\n",
       "      <th>2</th>\n",
       "      <td>1</td>\n",
       "      <td>0</td>\n",
       "    </tr>\n",
       "    <tr>\n",
       "      <th>3</th>\n",
       "      <td>1</td>\n",
       "      <td>0</td>\n",
       "    </tr>\n",
       "    <tr>\n",
       "      <th>4</th>\n",
       "      <td>1</td>\n",
       "      <td>0</td>\n",
       "    </tr>\n",
       "  </tbody>\n",
       "</table>\n",
       "</div>"
      ],
      "text/plain": [
       "   0  1\n",
       "0  1  0\n",
       "1  1  0\n",
       "2  1  0\n",
       "3  1  0\n",
       "4  1  0"
      ]
     },
     "execution_count": 6,
     "metadata": {
      "tags": []
     },
     "output_type": "execute_result"
    }
   ],
   "source": [
    "y=pd.get_dummies(y)\n",
    "y.head()"
   ]
  },
  {
   "cell_type": "code",
   "execution_count": null,
   "metadata": {
    "colab": {
     "base_uri": "https://localhost:8080/"
    },
    "id": "AAuV_lZHKZ7y",
    "outputId": "9807e44b-5f36-484b-f1db-90a4abc2540f"
   },
   "outputs": [
    {
     "name": "stdout",
     "output_type": "stream",
     "text": [
      "Dimensiones de los datos de Entrenamiento: (1234, 4) (1234, 2)\n",
      "Dimensiones de los datos de Prueba: (138, 4) (138, 2)\n"
     ]
    }
   ],
   "source": [
    "X_train, X_test, y_train, y_test = train_test_split(X, y, test_size=0.10)\n",
    "\n",
    "print('Dimensiones de los datos de Entrenamiento: ' + str(X_train.shape) + ' ' +  str(y_train.shape))\n",
    "print('Dimensiones de los datos de Prueba: ' + str(X_test.shape) + ' ' +  str(y_test.shape))"
   ]
  },
  {
   "cell_type": "markdown",
   "metadata": {
    "id": "KGlsI20Dr6Jy"
   },
   "source": [
    "Los siguientes son hipervínculos a las secciones de Keras. \n",
    "\n",
    "[Capas densas](https://keras.io/api/layers/core_layers/dense/)\n",
    "\n",
    "[Funciones de activación](https://keras.io/api/layers/activations/)\n",
    "\n",
    "[Métricas](https://keras.io/api/metrics/)\n",
    "\n",
    "[Funciones de pérdida](https://keras.io/api/losses/)\n",
    "\n",
    "[Optimizador](https://keras.io/api/optimizers/)"
   ]
  },
  {
   "cell_type": "code",
   "execution_count": null,
   "metadata": {
    "id": "HvW-s1nEKo3h"
   },
   "outputs": [],
   "source": [
    "# Arquitectura\n",
    "# No es necesario definir una capa de entrada con el tamaño de input, esta\n",
    "# se setea automáticamente en los modelos secuenciales de keras\n",
    "model = tf.keras.models.Sequential([\n",
    "  tf.keras.layers.Dense(12, activation='relu'),\n",
    "  tf.keras.layers.Dense(20, activation='relu'),\n",
    "  tf.keras.layers.Dense(4, activation='tanh'),\n",
    "  tf.keras.layers.Dense(2, activation='softmax')\n",
    "])"
   ]
  },
  {
   "cell_type": "code",
   "execution_count": null,
   "metadata": {
    "id": "mYcv8IaIQn3b"
   },
   "outputs": [],
   "source": [
    "# Debemos compilar el modelo, aqui agregamos\n",
    "# Optimizador + Función de Pérdida + Métricas a evaluar en el entrenamiento\n",
    "model.compile(optimizer='Adam',                                                    # <--- optimizador\n",
    "              loss='binary_crossentropy',                                  # <--- pérdidad/error\n",
    "              metrics=['accuracy'])                                                  # <--- métricas"
   ]
  },
  {
   "cell_type": "code",
   "execution_count": null,
   "metadata": {
    "colab": {
     "base_uri": "https://localhost:8080/"
    },
    "id": "GYDjmlpHQpkH",
    "outputId": "e9fc7155-b4b7-407f-b845-54933651009e"
   },
   "outputs": [
    {
     "name": "stdout",
     "output_type": "stream",
     "text": [
      "Epoch 1/30\n",
      "35/35 [==============================] - 1s 11ms/step - loss: 0.7273 - accuracy: 0.4786 - val_loss: 0.6642 - val_accuracy: 0.7007\n",
      "Epoch 2/30\n",
      "35/35 [==============================] - 0s 2ms/step - loss: 0.6516 - accuracy: 0.6910 - val_loss: 0.6114 - val_accuracy: 0.7664\n",
      "Epoch 3/30\n",
      "35/35 [==============================] - 0s 2ms/step - loss: 0.6067 - accuracy: 0.7338 - val_loss: 0.5677 - val_accuracy: 0.8102\n",
      "Epoch 4/30\n",
      "35/35 [==============================] - 0s 3ms/step - loss: 0.5631 - accuracy: 0.7767 - val_loss: 0.5171 - val_accuracy: 0.8613\n",
      "Epoch 5/30\n",
      "35/35 [==============================] - 0s 2ms/step - loss: 0.5109 - accuracy: 0.8396 - val_loss: 0.4557 - val_accuracy: 0.9051\n",
      "Epoch 6/30\n",
      "35/35 [==============================] - 0s 2ms/step - loss: 0.4506 - accuracy: 0.8906 - val_loss: 0.4002 - val_accuracy: 0.9197\n",
      "Epoch 7/30\n",
      "35/35 [==============================] - 0s 2ms/step - loss: 0.3909 - accuracy: 0.9262 - val_loss: 0.3438 - val_accuracy: 0.9416\n",
      "Epoch 8/30\n",
      "35/35 [==============================] - 0s 2ms/step - loss: 0.3325 - accuracy: 0.9471 - val_loss: 0.2890 - val_accuracy: 0.9781\n",
      "Epoch 9/30\n",
      "35/35 [==============================] - 0s 2ms/step - loss: 0.2770 - accuracy: 0.9781 - val_loss: 0.2391 - val_accuracy: 1.0000\n",
      "Epoch 10/30\n",
      "35/35 [==============================] - 0s 2ms/step - loss: 0.2273 - accuracy: 0.9936 - val_loss: 0.1988 - val_accuracy: 1.0000\n",
      "Epoch 11/30\n",
      "35/35 [==============================] - 0s 2ms/step - loss: 0.1889 - accuracy: 0.9973 - val_loss: 0.1721 - val_accuracy: 1.0000\n",
      "Epoch 12/30\n",
      "35/35 [==============================] - 0s 2ms/step - loss: 0.1618 - accuracy: 0.9982 - val_loss: 0.1482 - val_accuracy: 1.0000\n",
      "Epoch 13/30\n",
      "35/35 [==============================] - 0s 2ms/step - loss: 0.1408 - accuracy: 1.0000 - val_loss: 0.1314 - val_accuracy: 1.0000\n",
      "Epoch 14/30\n",
      "35/35 [==============================] - 0s 2ms/step - loss: 0.1237 - accuracy: 1.0000 - val_loss: 0.1155 - val_accuracy: 1.0000\n",
      "Epoch 15/30\n",
      "35/35 [==============================] - 0s 2ms/step - loss: 0.1107 - accuracy: 1.0000 - val_loss: 0.1040 - val_accuracy: 1.0000\n",
      "Epoch 16/30\n",
      "35/35 [==============================] - 0s 2ms/step - loss: 0.0995 - accuracy: 1.0000 - val_loss: 0.0950 - val_accuracy: 1.0000\n",
      "Epoch 17/30\n",
      "35/35 [==============================] - 0s 2ms/step - loss: 0.0903 - accuracy: 1.0000 - val_loss: 0.0862 - val_accuracy: 1.0000\n",
      "Epoch 18/30\n",
      "35/35 [==============================] - 0s 2ms/step - loss: 0.0824 - accuracy: 1.0000 - val_loss: 0.0792 - val_accuracy: 1.0000\n",
      "Epoch 19/30\n",
      "35/35 [==============================] - 0s 2ms/step - loss: 0.0759 - accuracy: 1.0000 - val_loss: 0.0729 - val_accuracy: 1.0000\n",
      "Epoch 20/30\n",
      "35/35 [==============================] - 0s 3ms/step - loss: 0.0697 - accuracy: 1.0000 - val_loss: 0.0671 - val_accuracy: 1.0000\n",
      "Epoch 21/30\n",
      "35/35 [==============================] - 0s 2ms/step - loss: 0.0646 - accuracy: 1.0000 - val_loss: 0.0624 - val_accuracy: 1.0000\n",
      "Epoch 22/30\n",
      "35/35 [==============================] - 0s 2ms/step - loss: 0.0600 - accuracy: 1.0000 - val_loss: 0.0581 - val_accuracy: 1.0000\n",
      "Epoch 23/30\n",
      "35/35 [==============================] - 0s 2ms/step - loss: 0.0560 - accuracy: 1.0000 - val_loss: 0.0544 - val_accuracy: 1.0000\n",
      "Epoch 24/30\n",
      "35/35 [==============================] - 0s 2ms/step - loss: 0.0523 - accuracy: 1.0000 - val_loss: 0.0508 - val_accuracy: 1.0000\n",
      "Epoch 25/30\n",
      "35/35 [==============================] - 0s 2ms/step - loss: 0.0491 - accuracy: 1.0000 - val_loss: 0.0480 - val_accuracy: 1.0000\n",
      "Epoch 26/30\n",
      "35/35 [==============================] - 0s 2ms/step - loss: 0.0461 - accuracy: 1.0000 - val_loss: 0.0450 - val_accuracy: 1.0000\n",
      "Epoch 27/30\n",
      "35/35 [==============================] - 0s 2ms/step - loss: 0.0435 - accuracy: 1.0000 - val_loss: 0.0425 - val_accuracy: 1.0000\n",
      "Epoch 28/30\n",
      "35/35 [==============================] - 0s 2ms/step - loss: 0.0410 - accuracy: 1.0000 - val_loss: 0.0402 - val_accuracy: 1.0000\n",
      "Epoch 29/30\n",
      "35/35 [==============================] - 0s 2ms/step - loss: 0.0388 - accuracy: 1.0000 - val_loss: 0.0380 - val_accuracy: 1.0000\n",
      "Epoch 30/30\n",
      "35/35 [==============================] - 0s 2ms/step - loss: 0.0367 - accuracy: 1.0000 - val_loss: 0.0360 - val_accuracy: 1.0000\n"
     ]
    }
   ],
   "source": [
    "# Entrenamiento del modelo, aquí se ingresan\n",
    "# Conjunto de entrenamiento (X_train, y_train),  \n",
    "# número de épocas (epochs) \n",
    "# conjunto de validación (X_val, y_val) o en su defecto, un porcentaje del conjunto \n",
    "# de entrenamiento a considerar como validación (validation_split)\n",
    "history = model.fit(X_train, y_train, epochs=30, validation_split = 0.111)  "
   ]
  },
  {
   "cell_type": "code",
   "execution_count": null,
   "metadata": {
    "colab": {
     "base_uri": "https://localhost:8080/"
    },
    "id": "dWsrpdgcRwPk",
    "outputId": "bfc954fc-d967-4c02-b17f-c59d23d84068"
   },
   "outputs": [
    {
     "data": {
      "text/plain": [
       "dict"
      ]
     },
     "execution_count": 11,
     "metadata": {
      "tags": []
     },
     "output_type": "execute_result"
    }
   ],
   "source": [
    "# La información del entrenamiento la guardamos en la variable history, la cual\n",
    "# contiene el modelo (history.model) y la historia del entrenamiento (history.history)\n",
    "type(history.history)"
   ]
  },
  {
   "cell_type": "code",
   "execution_count": null,
   "metadata": {
    "id": "PhWY4pZoR6n3"
   },
   "outputs": [],
   "source": [
    "history.history"
   ]
  },
  {
   "cell_type": "code",
   "execution_count": null,
   "metadata": {
    "colab": {
     "base_uri": "https://localhost:8080/"
    },
    "id": "5FGEOnAvR9ql",
    "outputId": "db11aa86-b13e-42d3-b196-5e2598a2e7ad"
   },
   "outputs": [
    {
     "name": "stdout",
     "output_type": "stream",
     "text": [
      "Model: \"sequential\"\n",
      "_________________________________________________________________\n",
      "Layer (type)                 Output Shape              Param #   \n",
      "=================================================================\n",
      "dense (Dense)                (None, 2)                 10        \n",
      "_________________________________________________________________\n",
      "dense_1 (Dense)              (None, 4)                 12        \n",
      "_________________________________________________________________\n",
      "dense_2 (Dense)              (None, 2)                 10        \n",
      "=================================================================\n",
      "Total params: 32\n",
      "Trainable params: 32\n",
      "Non-trainable params: 0\n",
      "_________________________________________________________________\n"
     ]
    }
   ],
   "source": [
    "# El modelo\n",
    "history.model.summary()"
   ]
  },
  {
   "cell_type": "markdown",
   "metadata": {
    "id": "9_xF5zSUSEnY"
   },
   "source": [
    "## Visualizar el entrenamiento\n",
    "Al final de cada época, los valores de la función de pérdida y la(s) métrica(s) escogida(s) son almacenadas en la historia del entrenamiento, estas pueden ser analizadas gráficamente. \n",
    "\n",
    "### Métricas"
   ]
  },
  {
   "cell_type": "code",
   "execution_count": null,
   "metadata": {
    "colab": {
     "base_uri": "https://localhost:8080/",
     "height": 295
    },
    "id": "fUj1ht2fSJBp",
    "outputId": "d5a1e67c-ffa8-4389-a40a-4955592663dc"
   },
   "outputs": [
    {
     "data": {
      "image/png": "[encoded data removed]",
      "text/plain": [
       "<Figure size 432x288 with 1 Axes>"
      ]
     },
     "metadata": {
      "needs_background": "light",
      "tags": []
     },
     "output_type": "display_data"
    }
   ],
   "source": [
    "plt.plot(history.history['accuracy'])\n",
    "plt.plot(history.history['val_accuracy'])\n",
    "plt.title('model accuracy')\n",
    "plt.ylabel('accuracy')\n",
    "plt.xlabel('epoch')\n",
    "plt.legend(['train', 'val'], loc='upper left')\n",
    "plt.show()"
   ]
  },
  {
   "cell_type": "markdown",
   "metadata": {
    "id": "VVbswiu7SO4H"
   },
   "source": [
    "### Función de pérdida"
   ]
  },
  {
   "cell_type": "code",
   "execution_count": null,
   "metadata": {
    "colab": {
     "base_uri": "https://localhost:8080/",
     "height": 295
    },
    "id": "3kWmt4HcSNKo",
    "outputId": "d424be1a-47e0-4964-ffc1-174b4cbf9dc0"
   },
   "outputs": [
    {
     "data": {
      "image/png": "[encoded data removed]",
      "text/plain": [
       "<Figure size 432x288 with 1 Axes>"
      ]
     },
     "metadata": {
      "needs_background": "light",
      "tags": []
     },
     "output_type": "display_data"
    }
   ],
   "source": [
    "plt.plot(history.history['loss'])\n",
    "plt.plot(history.history['val_loss'])\n",
    "plt.title('model loss')\n",
    "plt.ylabel('loss')\n",
    "plt.xlabel('epoch')\n",
    "plt.legend(['train', 'val'], loc='upper right')\n",
    "plt.show()"
   ]
  },
  {
   "cell_type": "markdown",
   "metadata": {
    "id": "2YcyF0qCSRM-"
   },
   "source": [
    "## Accuracy + Loss"
   ]
  },
  {
   "cell_type": "code",
   "execution_count": null,
   "metadata": {
    "colab": {
     "base_uri": "https://localhost:8080/",
     "height": 350
    },
    "id": "AhM0bNhSSR8e",
    "outputId": "2f24b25b-9302-4cfc-9b9d-85891cc90c32"
   },
   "outputs": [
    {
     "data": {
      "image/png": "[encoded data removed]",
      "text/plain": [
       "<Figure size 1080x360 with 2 Axes>"
      ]
     },
     "metadata": {
      "needs_background": "light",
      "tags": []
     },
     "output_type": "display_data"
    }
   ],
   "source": [
    "plt.figure(figsize=(15,5))\n",
    "plt.subplot(1,2,1)\n",
    "plt.plot(history.history['accuracy'])\n",
    "plt.plot(history.history['val_accuracy'])\n",
    "#plt.axvline(x=1.5, ymin=0, ymax=1, c=\"r\")\n",
    "plt.title('model accuracy')\n",
    "plt.ylabel('accuracy')\n",
    "plt.xlabel('epoch')\n",
    "plt.legend(['train', 'val'], loc='upper left')\n",
    "\n",
    "plt.subplot(1,2,2)\n",
    "plt.plot(history.history['loss'])\n",
    "plt.plot(history.history['val_loss'])\n",
    "#plt.axvline(x=1.5, ymin=0, ymax=1, c=\"r\")\n",
    "plt.title('model loss')\n",
    "plt.ylabel('loss')\n",
    "plt.xlabel('epoch')\n",
    "plt.legend(['train', 'val'], loc='upper right')\n",
    "\n",
    "\n",
    "plt.show()"
   ]
  },
  {
   "cell_type": "markdown",
   "metadata": {
    "id": "j2oK5M5nmkM3"
   },
   "source": [
    "# Testing\n",
    "Esta etapa la ejecutaremos usando el mejor modelo que hayamos guardado. Es importante "
   ]
  },
  {
   "cell_type": "markdown",
   "metadata": {
    "id": "xorbWlY5mnTS"
   },
   "source": [
    "### Cargamos el mejor modelo: "
   ]
  },
  {
   "cell_type": "code",
   "execution_count": null,
   "metadata": {
    "colab": {
     "base_uri": "https://localhost:8080/"
    },
    "id": "fIX3dDfymYke",
    "outputId": "e66f7757-9b4b-4911-bbfb-eb0e14a19c09"
   },
   "outputs": [
    {
     "data": {
      "text/plain": [
       "(138, 2)"
      ]
     },
     "execution_count": 17,
     "metadata": {
      "tags": []
     },
     "output_type": "execute_result"
    }
   ],
   "source": [
    "predicciones = model.predict(X_test)\n",
    "predicciones.shape"
   ]
  },
  {
   "cell_type": "code",
   "execution_count": null,
   "metadata": {
    "colab": {
     "base_uri": "https://localhost:8080/"
    },
    "id": "8_9StMFrmzHg",
    "outputId": "f21181e9-0fd8-4429-f112-63a3b9eb1cc5"
   },
   "outputs": [
    {
     "data": {
      "text/plain": [
       "array([2.0381682e-05, 9.9997962e-01], dtype=float32)"
      ]
     },
     "execution_count": 18,
     "metadata": {
      "tags": []
     },
     "output_type": "execute_result"
    }
   ],
   "source": [
    "# La salida del modelo para un input\n",
    "predicciones[0]"
   ]
  },
  {
   "cell_type": "code",
   "execution_count": null,
   "metadata": {
    "colab": {
     "base_uri": "https://localhost:8080/"
    },
    "id": "89URMQVVm0wx",
    "outputId": "236e1158-9056-4deb-da7b-32e7b8e33923"
   },
   "outputs": [
    {
     "name": "stdout",
     "output_type": "stream",
     "text": [
      "Clase predicha: 1\n"
     ]
    }
   ],
   "source": [
    "#etiquetas = [Verdadero , Falso] mismo orden\n",
    "# En un problema de clasificación multi-clase me quedo con aquella categoría de la componente con el valor más alto\n",
    "clase = predicciones[0].argmax()\n",
    "print(f\"Clase predicha: {clase}\")"
   ]
  },
  {
   "cell_type": "code",
   "execution_count": null,
   "metadata": {
    "colab": {
     "base_uri": "https://localhost:8080/",
     "height": 77
    },
    "id": "7GxzU8MznasH",
    "outputId": "e9a51a57-37c0-40ff-a51b-71e87dfc60af"
   },
   "outputs": [
    {
     "data": {
      "text/html": [
       "<div>\n",
       "<style scoped>\n",
       "    .dataframe tbody tr th:only-of-type {\n",
       "        vertical-align: middle;\n",
       "    }\n",
       "\n",
       "    .dataframe tbody tr th {\n",
       "        vertical-align: top;\n",
       "    }\n",
       "\n",
       "    .dataframe thead th {\n",
       "        text-align: right;\n",
       "    }\n",
       "</style>\n",
       "<table border=\"1\" class=\"dataframe\">\n",
       "  <thead>\n",
       "    <tr style=\"text-align: right;\">\n",
       "      <th></th>\n",
       "      <th>Variance</th>\n",
       "      <th>Skewness</th>\n",
       "      <th>Curtosis</th>\n",
       "      <th>Entropy</th>\n",
       "      <th>Class</th>\n",
       "    </tr>\n",
       "  </thead>\n",
       "  <tbody>\n",
       "    <tr>\n",
       "      <th>17</th>\n",
       "      <td>0.80355</td>\n",
       "      <td>2.8473</td>\n",
       "      <td>4.3439</td>\n",
       "      <td>0.6017</td>\n",
       "      <td>0</td>\n",
       "    </tr>\n",
       "  </tbody>\n",
       "</table>\n",
       "</div>"
      ],
      "text/plain": [
       "    Variance  Skewness  Curtosis  Entropy  Class\n",
       "17   0.80355    2.8473    4.3439   0.6017      0"
      ]
     },
     "execution_count": 20,
     "metadata": {
      "tags": []
     },
     "output_type": "execute_result"
    }
   ],
   "source": [
    "datos[17:18]"
   ]
  },
  {
   "cell_type": "code",
   "execution_count": null,
   "metadata": {
    "colab": {
     "base_uri": "https://localhost:8080/",
     "height": 77
    },
    "id": "se36WVTSoERw",
    "outputId": "063dee24-b1eb-4ee4-ab9a-ebcceced1a35"
   },
   "outputs": [
    {
     "data": {
      "text/html": [
       "<div>\n",
       "<style scoped>\n",
       "    .dataframe tbody tr th:only-of-type {\n",
       "        vertical-align: middle;\n",
       "    }\n",
       "\n",
       "    .dataframe tbody tr th {\n",
       "        vertical-align: top;\n",
       "    }\n",
       "\n",
       "    .dataframe thead th {\n",
       "        text-align: right;\n",
       "    }\n",
       "</style>\n",
       "<table border=\"1\" class=\"dataframe\">\n",
       "  <thead>\n",
       "    <tr style=\"text-align: right;\">\n",
       "      <th></th>\n",
       "      <th>Variance</th>\n",
       "      <th>Skewness</th>\n",
       "      <th>Curtosis</th>\n",
       "      <th>Entropy</th>\n",
       "    </tr>\n",
       "  </thead>\n",
       "  <tbody>\n",
       "    <tr>\n",
       "      <th>17</th>\n",
       "      <td>0.80355</td>\n",
       "      <td>2.8473</td>\n",
       "      <td>4.3439</td>\n",
       "      <td>0.6017</td>\n",
       "    </tr>\n",
       "  </tbody>\n",
       "</table>\n",
       "</div>"
      ],
      "text/plain": [
       "    Variance  Skewness  Curtosis  Entropy\n",
       "17   0.80355    2.8473    4.3439   0.6017"
      ]
     },
     "execution_count": 21,
     "metadata": {
      "tags": []
     },
     "output_type": "execute_result"
    }
   ],
   "source": [
    "Prueba=datos[17:18].drop('Class',axis=1)\n",
    "Prueba "
   ]
  },
  {
   "cell_type": "code",
   "execution_count": null,
   "metadata": {
    "colab": {
     "base_uri": "https://localhost:8080/"
    },
    "id": "bcQAWYEtnpDk",
    "outputId": "a2a852c2-46e2-4868-c8ca-5aed434abd3e"
   },
   "outputs": [
    {
     "data": {
      "text/plain": [
       "array([[0.8762724 , 0.12372763]], dtype=float32)"
      ]
     },
     "execution_count": 22,
     "metadata": {
      "tags": []
     },
     "output_type": "execute_result"
    }
   ],
   "source": [
    "prediccion = model.predict(Prueba)\n",
    "prediccion "
   ]
  },
  {
   "cell_type": "code",
   "execution_count": null,
   "metadata": {
    "colab": {
     "base_uri": "https://localhost:8080/"
    },
    "id": "gCbkFQWPo-sn",
    "outputId": "026666f9-9e13-4de1-a9bf-a298b98e0142"
   },
   "outputs": [
    {
     "data": {
      "text/plain": [
       "0"
      ]
     },
     "execution_count": 23,
     "metadata": {
      "tags": []
     },
     "output_type": "execute_result"
    }
   ],
   "source": [
    "prediccion[0].argmax()"
   ]
  },
  {
   "cell_type": "markdown",
   "metadata": {
    "id": "SlHdgXTHpIMm"
   },
   "source": [
    "## Evaluación de métricas\n",
    "En problemas de clasificación es usual considerar la matriz de confusión, pues esta nos permite extraer varias métricas para cada etiqueta"
   ]
  },
  {
   "cell_type": "markdown",
   "metadata": {
    "id": "XTZmPiQnpI-S"
   },
   "source": [
    "**Matriz de confusión** \n",
    "\n",
    "\n",
    "Pred \\ GT         | Negative Class | Positive Class\n",
    "------------------|----------------|--------------\n",
    " Negative Class   |        TN      |       FN\n",
    " Positive Class   |        FP      |       TP\n",
    " \n",
    "- **TN**: True Negative. Se refiere a aquellos datos que fueron correctamente clasificados por el modelo en la clase negativa (Ej: no es la clase 1). \n",
    "- **TP**: True Positive. Se refiere a aquellos datos que fueron correctamente clasificados por el modelo en la clase positiva (Ej: es la clase 1)  \n",
    "- **FP**: False Positive. Se refiere a aquellos datos que fueron erróneamente clasificados por el modelo en la clase positiva (Ej: un dato cuya etiqueta real/ground truth era 1, pero cuya predicción fue 0)\n",
    "- **FN**: False Negative. Se refiere a aquellos datos que fueron erróneamente clasificados por el modelo en la clase negativa (Ej: un dato cuya etiqueta real/ground truth era 1, pero cuya predicción fue 0)\n",
    "\n",
    "Note que todas las definiciones anteriores toman como punto de referencia al modelo. Lo importante es saber qué ocurre con las predicciones. "
   ]
  },
  {
   "cell_type": "markdown",
   "metadata": {
    "id": "Nmi_UxsWpM24"
   },
   "source": [
    "- **Accuracy**\n",
    "$\\dfrac{(TP + TN)}{(TP + TN + FP + FN)}$\n",
    "\n",
    "- **Sensitivity/Recall**\n",
    "$\\dfrac{TP}{(TP + FN)}$\n",
    "\n",
    "- **Specificity SP**\n",
    "$\\dfrac{TN}{(TN + FP)}$\n",
    "\n",
    "- **Precision**\n",
    "$\\dfrac{TP}{(TP + FP)}$\n",
    "\n",
    "- **Negative Rate**\n",
    "$\\dfrac{TN}{(TN + FN)}$"
   ]
  },
  {
   "cell_type": "markdown",
   "metadata": {
    "id": "p6K9O2DipRq3"
   },
   "source": [
    "Todo esto está pensado en un problema binario. Esto se puede extender a un problema multi-clase, haciendo este análisis para cada variable por separado.\n"
   ]
  },
  {
   "cell_type": "code",
   "execution_count": null,
   "metadata": {
    "id": "Ppv05UVRpO5M"
   },
   "outputs": [],
   "source": [
    "from sklearn.metrics import confusion_matrix"
   ]
  },
  {
   "cell_type": "code",
   "execution_count": null,
   "metadata": {
    "id": "46Xl6V-epUoZ"
   },
   "outputs": [],
   "source": [
    "# Ground truth\n",
    "y_true = y_test.values.argmax(axis=1)\n",
    "\n",
    "# Prediccion decodificada: extraemos la etiqueta para cada input (argmax a lo largo de las columnas -> axis=1)\n",
    "y_pred = predicciones.argmax(axis=1)\n",
    "\n",
    "cm = confusion_matrix(y_true, y_pred, labels=None, sample_weight=None)"
   ]
  },
  {
   "cell_type": "code",
   "execution_count": null,
   "metadata": {
    "colab": {
     "base_uri": "https://localhost:8080/"
    },
    "id": "HE_hHSkrqD5a",
    "outputId": "fc6005fa-b80b-4f5b-dc69-fdff960b2e59"
   },
   "outputs": [
    {
     "data": {
      "text/plain": [
       "array([[66,  1],\n",
       "       [ 1, 70]])"
      ]
     },
     "execution_count": 26,
     "metadata": {
      "tags": []
     },
     "output_type": "execute_result"
    }
   ],
   "source": [
    "cm"
   ]
  },
  {
   "cell_type": "code",
   "execution_count": null,
   "metadata": {
    "colab": {
     "base_uri": "https://localhost:8080/"
    },
    "id": "rQDSFPUlqOXf",
    "outputId": "1201a246-9c82-42fa-ba29-d5dd5ef47ed7"
   },
   "outputs": [
    {
     "name": "stdout",
     "output_type": "stream",
     "text": [
      "Accuray Testing = 0.9855072463768116\n"
     ]
    }
   ],
   "source": [
    "# Accuracy del modelo en el testing\n",
    "acc = sum(cm.diagonal()) / cm.sum().sum()\n",
    "print(f\"Accuray Testing = {acc}\")"
   ]
  },
  {
   "cell_type": "markdown",
   "metadata": {
    "id": "8jBUiFhfsvj4"
   },
   "source": [
    "# Problema de Regresión"
   ]
  },
  {
   "cell_type": "code",
   "execution_count": null,
   "metadata": {
    "colab": {
     "base_uri": "https://localhost:8080/",
     "height": 195
    },
    "id": "XxOKiCOKsipg",
    "outputId": "823561b0-de59-4965-fc0a-0b34d558d438"
   },
   "outputs": [
    {
     "data": {
      "text/html": [
       "<div>\n",
       "<style scoped>\n",
       "    .dataframe tbody tr th:only-of-type {\n",
       "        vertical-align: middle;\n",
       "    }\n",
       "\n",
       "    .dataframe tbody tr th {\n",
       "        vertical-align: top;\n",
       "    }\n",
       "\n",
       "    .dataframe thead th {\n",
       "        text-align: right;\n",
       "    }\n",
       "</style>\n",
       "<table border=\"1\" class=\"dataframe\">\n",
       "  <thead>\n",
       "    <tr style=\"text-align: right;\">\n",
       "      <th></th>\n",
       "      <th>sbp;tobacco;ldl;adiposity;famhist;typea;obesity;alcohol;age;chd</th>\n",
       "    </tr>\n",
       "  </thead>\n",
       "  <tbody>\n",
       "    <tr>\n",
       "      <th>0</th>\n",
       "      <td>160;12.00; 5.73;23.11;Present;49;25.30; 97.20;...</td>\n",
       "    </tr>\n",
       "    <tr>\n",
       "      <th>1</th>\n",
       "      <td>144; 0.01; 4.41;28.61;Absent;55;28.87;  2.06;6...</td>\n",
       "    </tr>\n",
       "    <tr>\n",
       "      <th>2</th>\n",
       "      <td>118; 0.08; 3.48;32.28;Present;52;29.14;  3.81;...</td>\n",
       "    </tr>\n",
       "    <tr>\n",
       "      <th>3</th>\n",
       "      <td>170; 7.50; 6.41;38.03;Present;51;31.99; 24.26;...</td>\n",
       "    </tr>\n",
       "    <tr>\n",
       "      <th>4</th>\n",
       "      <td>134;13.60; 3.50;27.78;Present;60;25.99; 57.34;...</td>\n",
       "    </tr>\n",
       "  </tbody>\n",
       "</table>\n",
       "</div>"
      ],
      "text/plain": [
       "  sbp;tobacco;ldl;adiposity;famhist;typea;obesity;alcohol;age;chd\n",
       "0  160;12.00; 5.73;23.11;Present;49;25.30; 97.20;...             \n",
       "1  144; 0.01; 4.41;28.61;Absent;55;28.87;  2.06;6...             \n",
       "2  118; 0.08; 3.48;32.28;Present;52;29.14;  3.81;...             \n",
       "3  170; 7.50; 6.41;38.03;Present;51;31.99; 24.26;...             \n",
       "4  134;13.60; 3.50;27.78;Present;60;25.99; 57.34;...             "
      ]
     },
     "execution_count": 33,
     "metadata": {
      "tags": []
     },
     "output_type": "execute_result"
    }
   ],
   "source": [
    "nombre='Conjunto2.csv'\n",
    "datos=pd.read_csv(nombre)\n",
    "datos.head() "
   ]
  },
  {
   "cell_type": "code",
   "execution_count": null,
   "metadata": {
    "colab": {
     "base_uri": "https://localhost:8080/",
     "height": 195
    },
    "id": "lfyyFvtMzImu",
    "outputId": "f37a58f9-2d25-42be-b2f3-55f127f72379"
   },
   "outputs": [
    {
     "data": {
      "text/html": [
       "<div>\n",
       "<style scoped>\n",
       "    .dataframe tbody tr th:only-of-type {\n",
       "        vertical-align: middle;\n",
       "    }\n",
       "\n",
       "    .dataframe tbody tr th {\n",
       "        vertical-align: top;\n",
       "    }\n",
       "\n",
       "    .dataframe thead th {\n",
       "        text-align: right;\n",
       "    }\n",
       "</style>\n",
       "<table border=\"1\" class=\"dataframe\">\n",
       "  <thead>\n",
       "    <tr style=\"text-align: right;\">\n",
       "      <th></th>\n",
       "      <th>sbp</th>\n",
       "      <th>tobacco</th>\n",
       "      <th>ldl</th>\n",
       "      <th>adiposity</th>\n",
       "      <th>famhist</th>\n",
       "      <th>typea</th>\n",
       "      <th>obesity</th>\n",
       "      <th>alcohol</th>\n",
       "      <th>age</th>\n",
       "      <th>chd</th>\n",
       "    </tr>\n",
       "  </thead>\n",
       "  <tbody>\n",
       "    <tr>\n",
       "      <th>0</th>\n",
       "      <td>160</td>\n",
       "      <td>12.00</td>\n",
       "      <td>5.73</td>\n",
       "      <td>23.11</td>\n",
       "      <td>Present</td>\n",
       "      <td>49</td>\n",
       "      <td>25.30</td>\n",
       "      <td>97.20</td>\n",
       "      <td>52</td>\n",
       "      <td>Si</td>\n",
       "    </tr>\n",
       "    <tr>\n",
       "      <th>1</th>\n",
       "      <td>144</td>\n",
       "      <td>0.01</td>\n",
       "      <td>4.41</td>\n",
       "      <td>28.61</td>\n",
       "      <td>Absent</td>\n",
       "      <td>55</td>\n",
       "      <td>28.87</td>\n",
       "      <td>2.06</td>\n",
       "      <td>63</td>\n",
       "      <td>Si</td>\n",
       "    </tr>\n",
       "    <tr>\n",
       "      <th>2</th>\n",
       "      <td>118</td>\n",
       "      <td>0.08</td>\n",
       "      <td>3.48</td>\n",
       "      <td>32.28</td>\n",
       "      <td>Present</td>\n",
       "      <td>52</td>\n",
       "      <td>29.14</td>\n",
       "      <td>3.81</td>\n",
       "      <td>46</td>\n",
       "      <td>No</td>\n",
       "    </tr>\n",
       "    <tr>\n",
       "      <th>3</th>\n",
       "      <td>170</td>\n",
       "      <td>7.50</td>\n",
       "      <td>6.41</td>\n",
       "      <td>38.03</td>\n",
       "      <td>Present</td>\n",
       "      <td>51</td>\n",
       "      <td>31.99</td>\n",
       "      <td>24.26</td>\n",
       "      <td>58</td>\n",
       "      <td>Si</td>\n",
       "    </tr>\n",
       "    <tr>\n",
       "      <th>4</th>\n",
       "      <td>134</td>\n",
       "      <td>13.60</td>\n",
       "      <td>3.50</td>\n",
       "      <td>27.78</td>\n",
       "      <td>Present</td>\n",
       "      <td>60</td>\n",
       "      <td>25.99</td>\n",
       "      <td>57.34</td>\n",
       "      <td>49</td>\n",
       "      <td>Si</td>\n",
       "    </tr>\n",
       "  </tbody>\n",
       "</table>\n",
       "</div>"
      ],
      "text/plain": [
       "   sbp  tobacco   ldl  adiposity  famhist  typea  obesity  alcohol  age chd\n",
       "0  160    12.00  5.73      23.11  Present     49    25.30    97.20   52  Si\n",
       "1  144     0.01  4.41      28.61   Absent     55    28.87     2.06   63  Si\n",
       "2  118     0.08  3.48      32.28  Present     52    29.14     3.81   46  No\n",
       "3  170     7.50  6.41      38.03  Present     51    31.99    24.26   58  Si\n",
       "4  134    13.60  3.50      27.78  Present     60    25.99    57.34   49  Si"
      ]
     },
     "execution_count": 34,
     "metadata": {
      "tags": []
     },
     "output_type": "execute_result"
    }
   ],
   "source": [
    "datos=pd.read_csv(nombre, sep=';')\n",
    "datos.head()"
   ]
  },
  {
   "cell_type": "code",
   "execution_count": null,
   "metadata": {
    "id": "Ib0bXxzCx0O_"
   },
   "outputs": [],
   "source": [
    "X=datos.drop('obesity',axis='columns')\n",
    "y=datos['obesity']"
   ]
  },
  {
   "cell_type": "code",
   "execution_count": null,
   "metadata": {
    "colab": {
     "base_uri": "https://localhost:8080/",
     "height": 195
    },
    "id": "PXzyOvOhzQu9",
    "outputId": "ec2fedd0-9db4-4e3d-b4fb-0f23ff5ecc78"
   },
   "outputs": [
    {
     "data": {
      "text/html": [
       "<div>\n",
       "<style scoped>\n",
       "    .dataframe tbody tr th:only-of-type {\n",
       "        vertical-align: middle;\n",
       "    }\n",
       "\n",
       "    .dataframe tbody tr th {\n",
       "        vertical-align: top;\n",
       "    }\n",
       "\n",
       "    .dataframe thead th {\n",
       "        text-align: right;\n",
       "    }\n",
       "</style>\n",
       "<table border=\"1\" class=\"dataframe\">\n",
       "  <thead>\n",
       "    <tr style=\"text-align: right;\">\n",
       "      <th></th>\n",
       "      <th>sbp</th>\n",
       "      <th>tobacco</th>\n",
       "      <th>ldl</th>\n",
       "      <th>adiposity</th>\n",
       "      <th>famhist</th>\n",
       "      <th>typea</th>\n",
       "      <th>alcohol</th>\n",
       "      <th>age</th>\n",
       "      <th>chd</th>\n",
       "    </tr>\n",
       "  </thead>\n",
       "  <tbody>\n",
       "    <tr>\n",
       "      <th>0</th>\n",
       "      <td>160</td>\n",
       "      <td>12.00</td>\n",
       "      <td>5.73</td>\n",
       "      <td>23.11</td>\n",
       "      <td>Present</td>\n",
       "      <td>49</td>\n",
       "      <td>97.20</td>\n",
       "      <td>52</td>\n",
       "      <td>Si</td>\n",
       "    </tr>\n",
       "    <tr>\n",
       "      <th>1</th>\n",
       "      <td>144</td>\n",
       "      <td>0.01</td>\n",
       "      <td>4.41</td>\n",
       "      <td>28.61</td>\n",
       "      <td>Absent</td>\n",
       "      <td>55</td>\n",
       "      <td>2.06</td>\n",
       "      <td>63</td>\n",
       "      <td>Si</td>\n",
       "    </tr>\n",
       "    <tr>\n",
       "      <th>2</th>\n",
       "      <td>118</td>\n",
       "      <td>0.08</td>\n",
       "      <td>3.48</td>\n",
       "      <td>32.28</td>\n",
       "      <td>Present</td>\n",
       "      <td>52</td>\n",
       "      <td>3.81</td>\n",
       "      <td>46</td>\n",
       "      <td>No</td>\n",
       "    </tr>\n",
       "    <tr>\n",
       "      <th>3</th>\n",
       "      <td>170</td>\n",
       "      <td>7.50</td>\n",
       "      <td>6.41</td>\n",
       "      <td>38.03</td>\n",
       "      <td>Present</td>\n",
       "      <td>51</td>\n",
       "      <td>24.26</td>\n",
       "      <td>58</td>\n",
       "      <td>Si</td>\n",
       "    </tr>\n",
       "    <tr>\n",
       "      <th>4</th>\n",
       "      <td>134</td>\n",
       "      <td>13.60</td>\n",
       "      <td>3.50</td>\n",
       "      <td>27.78</td>\n",
       "      <td>Present</td>\n",
       "      <td>60</td>\n",
       "      <td>57.34</td>\n",
       "      <td>49</td>\n",
       "      <td>Si</td>\n",
       "    </tr>\n",
       "  </tbody>\n",
       "</table>\n",
       "</div>"
      ],
      "text/plain": [
       "   sbp  tobacco   ldl  adiposity  famhist  typea  alcohol  age chd\n",
       "0  160    12.00  5.73      23.11  Present     49    97.20   52  Si\n",
       "1  144     0.01  4.41      28.61   Absent     55     2.06   63  Si\n",
       "2  118     0.08  3.48      32.28  Present     52     3.81   46  No\n",
       "3  170     7.50  6.41      38.03  Present     51    24.26   58  Si\n",
       "4  134    13.60  3.50      27.78  Present     60    57.34   49  Si"
      ]
     },
     "execution_count": 36,
     "metadata": {
      "tags": []
     },
     "output_type": "execute_result"
    }
   ],
   "source": [
    "X.head()"
   ]
  },
  {
   "cell_type": "code",
   "execution_count": null,
   "metadata": {
    "colab": {
     "base_uri": "https://localhost:8080/",
     "height": 195
    },
    "id": "BtQR9aCFznSH",
    "outputId": "48c393c3-6ff7-4b6a-e526-15f498ece786"
   },
   "outputs": [
    {
     "data": {
      "text/html": [
       "<div>\n",
       "<style scoped>\n",
       "    .dataframe tbody tr th:only-of-type {\n",
       "        vertical-align: middle;\n",
       "    }\n",
       "\n",
       "    .dataframe tbody tr th {\n",
       "        vertical-align: top;\n",
       "    }\n",
       "\n",
       "    .dataframe thead th {\n",
       "        text-align: right;\n",
       "    }\n",
       "</style>\n",
       "<table border=\"1\" class=\"dataframe\">\n",
       "  <thead>\n",
       "    <tr style=\"text-align: right;\">\n",
       "      <th></th>\n",
       "      <th>sbp</th>\n",
       "      <th>tobacco</th>\n",
       "      <th>ldl</th>\n",
       "      <th>adiposity</th>\n",
       "      <th>typea</th>\n",
       "      <th>alcohol</th>\n",
       "      <th>age</th>\n",
       "      <th>famhist_Absent</th>\n",
       "      <th>famhist_Present</th>\n",
       "      <th>chd_No</th>\n",
       "      <th>chd_Si</th>\n",
       "    </tr>\n",
       "  </thead>\n",
       "  <tbody>\n",
       "    <tr>\n",
       "      <th>0</th>\n",
       "      <td>160</td>\n",
       "      <td>12.00</td>\n",
       "      <td>5.73</td>\n",
       "      <td>23.11</td>\n",
       "      <td>49</td>\n",
       "      <td>97.20</td>\n",
       "      <td>52</td>\n",
       "      <td>0</td>\n",
       "      <td>1</td>\n",
       "      <td>0</td>\n",
       "      <td>1</td>\n",
       "    </tr>\n",
       "    <tr>\n",
       "      <th>1</th>\n",
       "      <td>144</td>\n",
       "      <td>0.01</td>\n",
       "      <td>4.41</td>\n",
       "      <td>28.61</td>\n",
       "      <td>55</td>\n",
       "      <td>2.06</td>\n",
       "      <td>63</td>\n",
       "      <td>1</td>\n",
       "      <td>0</td>\n",
       "      <td>0</td>\n",
       "      <td>1</td>\n",
       "    </tr>\n",
       "    <tr>\n",
       "      <th>2</th>\n",
       "      <td>118</td>\n",
       "      <td>0.08</td>\n",
       "      <td>3.48</td>\n",
       "      <td>32.28</td>\n",
       "      <td>52</td>\n",
       "      <td>3.81</td>\n",
       "      <td>46</td>\n",
       "      <td>0</td>\n",
       "      <td>1</td>\n",
       "      <td>1</td>\n",
       "      <td>0</td>\n",
       "    </tr>\n",
       "    <tr>\n",
       "      <th>3</th>\n",
       "      <td>170</td>\n",
       "      <td>7.50</td>\n",
       "      <td>6.41</td>\n",
       "      <td>38.03</td>\n",
       "      <td>51</td>\n",
       "      <td>24.26</td>\n",
       "      <td>58</td>\n",
       "      <td>0</td>\n",
       "      <td>1</td>\n",
       "      <td>0</td>\n",
       "      <td>1</td>\n",
       "    </tr>\n",
       "    <tr>\n",
       "      <th>4</th>\n",
       "      <td>134</td>\n",
       "      <td>13.60</td>\n",
       "      <td>3.50</td>\n",
       "      <td>27.78</td>\n",
       "      <td>60</td>\n",
       "      <td>57.34</td>\n",
       "      <td>49</td>\n",
       "      <td>0</td>\n",
       "      <td>1</td>\n",
       "      <td>0</td>\n",
       "      <td>1</td>\n",
       "    </tr>\n",
       "  </tbody>\n",
       "</table>\n",
       "</div>"
      ],
      "text/plain": [
       "   sbp  tobacco   ldl  ...  famhist_Present  chd_No  chd_Si\n",
       "0  160    12.00  5.73  ...                1       0       1\n",
       "1  144     0.01  4.41  ...                0       0       1\n",
       "2  118     0.08  3.48  ...                1       1       0\n",
       "3  170     7.50  6.41  ...                1       0       1\n",
       "4  134    13.60  3.50  ...                1       0       1\n",
       "\n",
       "[5 rows x 11 columns]"
      ]
     },
     "execution_count": 37,
     "metadata": {
      "tags": []
     },
     "output_type": "execute_result"
    }
   ],
   "source": [
    "X=pd.get_dummies(X)\n",
    "X.head()"
   ]
  },
  {
   "cell_type": "code",
   "execution_count": null,
   "metadata": {
    "colab": {
     "base_uri": "https://localhost:8080/"
    },
    "id": "MCESY0CozR_h",
    "outputId": "7cd0e0f4-c880-4d6e-9ec0-8a0c382a560b"
   },
   "outputs": [
    {
     "data": {
      "text/plain": [
       "0    25.30\n",
       "1    28.87\n",
       "2    29.14\n",
       "3    31.99\n",
       "4    25.99\n",
       "Name: obesity, dtype: float64"
      ]
     },
     "execution_count": 38,
     "metadata": {
      "tags": []
     },
     "output_type": "execute_result"
    }
   ],
   "source": [
    "y.head()"
   ]
  },
  {
   "cell_type": "code",
   "execution_count": null,
   "metadata": {
    "colab": {
     "base_uri": "https://localhost:8080/"
    },
    "id": "mOQBUMwg1Y7B",
    "outputId": "a80bca0c-1047-4645-9c84-c5d7cd78db7a"
   },
   "outputs": [
    {
     "data": {
      "text/plain": [
       "0    0.332497\n",
       "1    0.444479\n",
       "2    0.452949\n",
       "3    0.542346\n",
       "4    0.354141\n",
       "Name: obesity, dtype: float64"
      ]
     },
     "execution_count": 43,
     "metadata": {
      "tags": []
     },
     "output_type": "execute_result"
    }
   ],
   "source": [
    "y=(y-y.min())/(y.max()-y.min())\n",
    "y.head()"
   ]
  },
  {
   "cell_type": "code",
   "execution_count": null,
   "metadata": {
    "colab": {
     "base_uri": "https://localhost:8080/"
    },
    "id": "MzyiUdjazVf3",
    "outputId": "fd0cc88c-f906-458c-b780-0f5f8e4f7fae"
   },
   "outputs": [
    {
     "name": "stdout",
     "output_type": "stream",
     "text": [
      "Dimensiones de los datos de Entrenamiento: (415, 11) (415,)\n",
      "Dimensiones de los datos de Prueba: (47, 11) (47,)\n"
     ]
    }
   ],
   "source": [
    "X_train, X_test, y_train, y_test = train_test_split(X, y, test_size=0.10)\n",
    "\n",
    "print('Dimensiones de los datos de Entrenamiento: ' + str(X_train.shape) + ' ' +  str(y_train.shape))\n",
    "print('Dimensiones de los datos de Prueba: ' + str(X_test.shape) + ' ' +  str(y_test.shape))"
   ]
  },
  {
   "cell_type": "code",
   "execution_count": null,
   "metadata": {
    "colab": {
     "base_uri": "https://localhost:8080/"
    },
    "id": "smf29fRyzswy",
    "outputId": "e27ea36d-a000-48d0-982b-4f63719671f4"
   },
   "outputs": [
    {
     "name": "stdout",
     "output_type": "stream",
     "text": [
      "Epoch 1/30\n",
      "12/12 [==============================] - 1s 17ms/step - loss: 0.7241 - mse: 0.7241 - mae: 0.7872 - val_loss: 0.0463 - val_mse: 0.0463 - val_mae: 0.1613\n",
      "Epoch 2/30\n",
      "12/12 [==============================] - 0s 3ms/step - loss: 0.0259 - mse: 0.0259 - mae: 0.1188 - val_loss: 0.0319 - val_mse: 0.0319 - val_mae: 0.1435\n",
      "Epoch 3/30\n",
      "12/12 [==============================] - 0s 4ms/step - loss: 0.0268 - mse: 0.0268 - mae: 0.1244 - val_loss: 0.0349 - val_mse: 0.0349 - val_mae: 0.1521\n",
      "Epoch 4/30\n",
      "12/12 [==============================] - 0s 4ms/step - loss: 0.0228 - mse: 0.0228 - mae: 0.1141 - val_loss: 0.0258 - val_mse: 0.0258 - val_mae: 0.1254\n",
      "Epoch 5/30\n",
      "12/12 [==============================] - 0s 4ms/step - loss: 0.0179 - mse: 0.0179 - mae: 0.1017 - val_loss: 0.0224 - val_mse: 0.0224 - val_mae: 0.1139\n",
      "Epoch 6/30\n",
      "12/12 [==============================] - 0s 3ms/step - loss: 0.0180 - mse: 0.0180 - mae: 0.1037 - val_loss: 0.0221 - val_mse: 0.0221 - val_mae: 0.1137\n",
      "Epoch 7/30\n",
      "12/12 [==============================] - 0s 4ms/step - loss: 0.0180 - mse: 0.0180 - mae: 0.1033 - val_loss: 0.0222 - val_mse: 0.0222 - val_mae: 0.1136\n",
      "Epoch 8/30\n",
      "12/12 [==============================] - 0s 4ms/step - loss: 0.0177 - mse: 0.0177 - mae: 0.1017 - val_loss: 0.0224 - val_mse: 0.0224 - val_mae: 0.1140\n",
      "Epoch 9/30\n",
      "12/12 [==============================] - 0s 4ms/step - loss: 0.0177 - mse: 0.0177 - mae: 0.1014 - val_loss: 0.0223 - val_mse: 0.0223 - val_mae: 0.1140\n",
      "Epoch 10/30\n",
      "12/12 [==============================] - 0s 6ms/step - loss: 0.0177 - mse: 0.0177 - mae: 0.1015 - val_loss: 0.0220 - val_mse: 0.0220 - val_mae: 0.1130\n",
      "Epoch 11/30\n",
      "12/12 [==============================] - 0s 4ms/step - loss: 0.0176 - mse: 0.0176 - mae: 0.1016 - val_loss: 0.0218 - val_mse: 0.0218 - val_mae: 0.1126\n",
      "Epoch 12/30\n",
      "12/12 [==============================] - 0s 4ms/step - loss: 0.0176 - mse: 0.0176 - mae: 0.1016 - val_loss: 0.0217 - val_mse: 0.0217 - val_mae: 0.1127\n",
      "Epoch 13/30\n",
      "12/12 [==============================] - 0s 3ms/step - loss: 0.0176 - mse: 0.0176 - mae: 0.1014 - val_loss: 0.0219 - val_mse: 0.0219 - val_mae: 0.1129\n",
      "Epoch 14/30\n",
      "12/12 [==============================] - 0s 3ms/step - loss: 0.0176 - mse: 0.0176 - mae: 0.1014 - val_loss: 0.0215 - val_mse: 0.0215 - val_mae: 0.1122\n",
      "Epoch 15/30\n",
      "12/12 [==============================] - 0s 4ms/step - loss: 0.0176 - mse: 0.0176 - mae: 0.1014 - val_loss: 0.0215 - val_mse: 0.0215 - val_mae: 0.1121\n",
      "Epoch 16/30\n",
      "12/12 [==============================] - 0s 3ms/step - loss: 0.0176 - mse: 0.0176 - mae: 0.1011 - val_loss: 0.0217 - val_mse: 0.0217 - val_mae: 0.1130\n",
      "Epoch 17/30\n",
      "12/12 [==============================] - 0s 3ms/step - loss: 0.0175 - mse: 0.0175 - mae: 0.1009 - val_loss: 0.0212 - val_mse: 0.0212 - val_mae: 0.1115\n",
      "Epoch 18/30\n",
      "12/12 [==============================] - 0s 3ms/step - loss: 0.0175 - mse: 0.0175 - mae: 0.1014 - val_loss: 0.0212 - val_mse: 0.0212 - val_mae: 0.1114\n",
      "Epoch 19/30\n",
      "12/12 [==============================] - 0s 4ms/step - loss: 0.0175 - mse: 0.0175 - mae: 0.1007 - val_loss: 0.0213 - val_mse: 0.0213 - val_mae: 0.1119\n",
      "Epoch 20/30\n",
      "12/12 [==============================] - 0s 3ms/step - loss: 0.0175 - mse: 0.0175 - mae: 0.1008 - val_loss: 0.0210 - val_mse: 0.0210 - val_mae: 0.1109\n",
      "Epoch 21/30\n",
      "12/12 [==============================] - 0s 3ms/step - loss: 0.0174 - mse: 0.0174 - mae: 0.1009 - val_loss: 0.0200 - val_mse: 0.0200 - val_mae: 0.1084\n",
      "Epoch 22/30\n",
      "12/12 [==============================] - 0s 4ms/step - loss: 0.0173 - mse: 0.0173 - mae: 0.1005 - val_loss: 0.0189 - val_mse: 0.0189 - val_mae: 0.1052\n",
      "Epoch 23/30\n",
      "12/12 [==============================] - 0s 3ms/step - loss: 0.0172 - mse: 0.0172 - mae: 0.1000 - val_loss: 0.0186 - val_mse: 0.0186 - val_mae: 0.1035\n",
      "Epoch 24/30\n",
      "12/12 [==============================] - 0s 4ms/step - loss: 0.0172 - mse: 0.0172 - mae: 0.0995 - val_loss: 0.0186 - val_mse: 0.0186 - val_mae: 0.1033\n",
      "Epoch 25/30\n",
      "12/12 [==============================] - 0s 3ms/step - loss: 0.0172 - mse: 0.0172 - mae: 0.0999 - val_loss: 0.0185 - val_mse: 0.0185 - val_mae: 0.1026\n",
      "Epoch 26/30\n",
      "12/12 [==============================] - 0s 4ms/step - loss: 0.0171 - mse: 0.0171 - mae: 0.0996 - val_loss: 0.0186 - val_mse: 0.0186 - val_mae: 0.1036\n",
      "Epoch 27/30\n",
      "12/12 [==============================] - 0s 5ms/step - loss: 0.0172 - mse: 0.0172 - mae: 0.0994 - val_loss: 0.0190 - val_mse: 0.0190 - val_mae: 0.1050\n",
      "Epoch 28/30\n",
      "12/12 [==============================] - 0s 4ms/step - loss: 0.0171 - mse: 0.0171 - mae: 0.0990 - val_loss: 0.0184 - val_mse: 0.0184 - val_mae: 0.1024\n",
      "Epoch 29/30\n",
      "12/12 [==============================] - 0s 4ms/step - loss: 0.0171 - mse: 0.0171 - mae: 0.0992 - val_loss: 0.0186 - val_mse: 0.0186 - val_mae: 0.1034\n",
      "Epoch 30/30\n",
      "12/12 [==============================] - 0s 5ms/step - loss: 0.0171 - mse: 0.0171 - mae: 0.0987 - val_loss: 0.0188 - val_mse: 0.0188 - val_mae: 0.1045\n"
     ]
    }
   ],
   "source": [
    "# Arquitectura\n",
    "# No es necesario definir una capa de entrada con el tamaño de input, esta\n",
    "# se setea automáticamente en los modelos secuenciales de keras\n",
    "model = tf.keras.models.Sequential([\n",
    "  tf.keras.layers.Dense(40, activation='relu'),\n",
    "  tf.keras.layers.Dense(14, activation='tanh'),\n",
    "  tf.keras.layers.Dense(12, activation='relu'),\n",
    "  tf.keras.layers.Dense(1, activation='relu')\n",
    "])\n",
    "# Debemos compilar el modelo, aqui agregamos\n",
    "# Optimizador + Función de Pérdida + Métricas a evaluar en el entrenamiento\n",
    "model.compile(optimizer='Adam',                                                    # <--- optimizador\n",
    "              loss='mse',                                  # <--- pérdidad/error\n",
    "              metrics=['mse','mae'])  \n",
    "# Entrenamiento del modelo, aquí se ingresan\n",
    "# Conjunto de entrenamiento (X_train, y_train),  \n",
    "# número de épocas (epochs) \n",
    "# conjunto de validación (X_val, y_val) o en su defecto, un porcentaje del conjunto \n",
    "# de entrenamiento a considerar como validación (validation_split)\n",
    "history = model.fit(X_train, y_train, epochs=30, validation_split = 0.111)      "
   ]
  },
  {
   "cell_type": "code",
   "execution_count": null,
   "metadata": {
    "colab": {
     "base_uri": "https://localhost:8080/"
    },
    "id": "grjbkk-R0HZ6",
    "outputId": "27b1c5ba-c9e4-455a-89b6-7dedfb1fcd6a"
   },
   "outputs": [
    {
     "name": "stdout",
     "output_type": "stream",
     "text": [
      "Model: \"sequential_3\"\n",
      "_________________________________________________________________\n",
      "Layer (type)                 Output Shape              Param #   \n",
      "=================================================================\n",
      "dense_10 (Dense)             (None, 10)                120       \n",
      "_________________________________________________________________\n",
      "dense_11 (Dense)             (None, 5)                 55        \n",
      "_________________________________________________________________\n",
      "dense_12 (Dense)             (None, 1)                 6         \n",
      "=================================================================\n",
      "Total params: 181\n",
      "Trainable params: 181\n",
      "Non-trainable params: 0\n",
      "_________________________________________________________________\n"
     ]
    }
   ],
   "source": [
    "# El modelo\n",
    "history.model.summary()"
   ]
  },
  {
   "cell_type": "code",
   "execution_count": null,
   "metadata": {
    "colab": {
     "base_uri": "https://localhost:8080/",
     "height": 350
    },
    "id": "Qd9_LVKY0L_d",
    "outputId": "135c57b3-5f12-4815-be87-12114386cefa"
   },
   "outputs": [
    {
     "data": {
      "image/png": "[encoded data removed]",
      "text/plain": [
       "<Figure size 1080x360 with 2 Axes>"
      ]
     },
     "metadata": {
      "needs_background": "light",
      "tags": []
     },
     "output_type": "display_data"
    }
   ],
   "source": [
    "plt.figure(figsize=(15,5))\n",
    "plt.subplot(1,2,1)\n",
    "plt.plot(history.history['mae'])\n",
    "plt.plot(history.history['val_mae'])\n",
    "#plt.axvline(x=1.5, ymin=0, ymax=1, c=\"r\")\n",
    "plt.title('model mae')\n",
    "plt.ylabel('mae')\n",
    "plt.xlabel('epoch')\n",
    "plt.legend(['train', 'val'], loc='upper left')\n",
    "\n",
    "plt.subplot(1,2,2)\n",
    "plt.plot(history.history['loss'])\n",
    "plt.plot(history.history['val_loss'])\n",
    "#plt.axvline(x=1.5, ymin=0, ymax=1, c=\"r\")\n",
    "plt.title('model loss')\n",
    "plt.ylabel('loss')\n",
    "plt.xlabel('epoch')\n",
    "plt.legend(['train', 'val'], loc='upper right')\n",
    "\n",
    "\n",
    "plt.show()"
   ]
  },
  {
   "cell_type": "code",
   "execution_count": null,
   "metadata": {
    "colab": {
     "base_uri": "https://localhost:8080/"
    },
    "id": "EokeLcn44T-r",
    "outputId": "30953f8d-958a-46ea-be2f-33804356c157"
   },
   "outputs": [
    {
     "data": {
      "text/plain": [
       "(47, 1)"
      ]
     },
     "execution_count": 58,
     "metadata": {
      "tags": []
     },
     "output_type": "execute_result"
    }
   ],
   "source": [
    "predicciones = model.predict(X_test)\n",
    "predicciones.shape"
   ]
  },
  {
   "cell_type": "code",
   "execution_count": null,
   "metadata": {
    "colab": {
     "base_uri": "https://localhost:8080/"
    },
    "id": "gipcbGlj4YCk",
    "outputId": "2495dd46-0c51-4d55-cc44-afbe33c2b451"
   },
   "outputs": [
    {
     "data": {
      "text/plain": [
       "array([[0.3505894 ],\n",
       "       [0.35057676],\n",
       "       [0.35057676],\n",
       "       [0.35057676],\n",
       "       [0.35057676]], dtype=float32)"
      ]
     },
     "execution_count": 59,
     "metadata": {
      "tags": []
     },
     "output_type": "execute_result"
    }
   ],
   "source": [
    "# La salida del modelo para un input\n",
    "predicciones[0:5]"
   ]
  },
  {
   "cell_type": "code",
   "execution_count": null,
   "metadata": {
    "colab": {
     "base_uri": "https://localhost:8080/"
    },
    "id": "_PiLbS7E4222",
    "outputId": "5bea1444-31db-4330-bee1-0cde0837fe72"
   },
   "outputs": [
    {
     "data": {
      "text/plain": [
       "array([0.34410289, 0.24309912, 0.42973651, 0.29422836, 0.29579674])"
      ]
     },
     "execution_count": 60,
     "metadata": {
      "tags": []
     },
     "output_type": "execute_result"
    }
   ],
   "source": [
    "y_test.values[0:5]"
   ]
  },
  {
   "cell_type": "code",
   "execution_count": null,
   "metadata": {
    "colab": {
     "base_uri": "https://localhost:8080/"
    },
    "id": "U6IFwDVE4xUf",
    "outputId": "18220f57-1e22-4a80-b491-79f3ce65c1f9"
   },
   "outputs": [
    {
     "name": "stdout",
     "output_type": "stream",
     "text": [
      "0.020211283439293556\n"
     ]
    }
   ],
   "source": [
    "from sklearn.metrics import mean_squared_error as mse \n",
    "error_cuadratico_medio=mse(predicciones, y_test.values)\n",
    "print(error_cuadratico_medio) "
   ]
  }
 ],
 "metadata": {
  "colab": {
   "name": "Practica_Redes_Neuronales.ipynb",
   "provenance": []
  },
  "kernelspec": {
   "display_name": "Python 3",
   "language": "python",
   "name": "python3"
  },
  "language_info": {
   "codemirror_mode": {
    "name": "ipython",
    "version": 3
   },
   "file_extension": ".py",
   "mimetype": "text/x-python",
   "name": "python",
   "nbconvert_exporter": "python",
   "pygments_lexer": "ipython3",
   "version": "3.9.2"
  }
 },
 "nbformat": 4,
 "nbformat_minor": 1
}
