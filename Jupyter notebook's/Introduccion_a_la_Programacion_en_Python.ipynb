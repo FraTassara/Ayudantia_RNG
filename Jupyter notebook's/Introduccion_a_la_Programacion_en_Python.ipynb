{
  "nbformat": 4,
  "nbformat_minor": 0,
  "metadata": {
    "anaconda-cloud": {},
    "kernelspec": {
      "display_name": "Python 3",
      "language": "python",
      "name": "python3"
    },
    "language_info": {
      "codemirror_mode": {
        "name": "ipython",
        "version": 3
      },
      "file_extension": ".py",
      "mimetype": "text/x-python",
      "name": "python",
      "nbconvert_exporter": "python",
      "pygments_lexer": "ipython3",
      "version": "3.9.2"
    },
    "colab": {
      "name": "Introduccion a la Programacion en Python.ipynb",
      "provenance": [],
      "collapsed_sections": []
    }
  },
  "cells": [
    {
      "cell_type": "markdown",
      "metadata": {
        "id": "zhrOjuv84u4P"
      },
      "source": [
        "# Introducción a la programación en Python"
      ]
    },
    {
      "cell_type": "markdown",
      "metadata": {
        "id": "-REIkI2d4u4j"
      },
      "source": [
        "## Variables y tipos"
      ]
    },
    {
      "cell_type": "markdown",
      "metadata": {
        "id": "6aFKhwSt4u4j"
      },
      "source": [
        "### Nombres de símbolos"
      ]
    },
    {
      "cell_type": "markdown",
      "metadata": {
        "id": "KdrjZLPO4u4k"
      },
      "source": [
        " Los nombres de las variables en Python pueden contener los caracteres `a-z`, `A-Z`, `0-9` y algunos caracteres especiales como `_`. Los nombres de variables normales deben comenzar con una letra. \n",
        "\n",
        "Por convención, los nombres de las variables comienzan con letra minúscula, mientras que los nombres de las clases comienzan con una letra mayúscula. \n",
        "\n",
        "Además, existen algunos palabras claves Python que no pueden ser usados como nombres de variables. Éstas son:\n",
        "\n",
        "    and, as, assert, break, class, continue, def, del, elif, else, except, \n",
        "    exec, finally, for, from, global, if, import, in, is, lambda, not, or,\n",
        "    pass, print, raise, return, try, while, with, yield\n",
        "\n",
        "Nota: Atención con la palabra `lambda`, que podría fácilmente ser un nombre de variable natural en un programa científico. Sin embargo, como es una palabra clave, no puede ser usado como nombre de una variable."
      ]
    },
    {
      "cell_type": "markdown",
      "metadata": {
        "id": "sXiD8JKf4u4l"
      },
      "source": [
        "### Asignaciones"
      ]
    },
    {
      "cell_type": "markdown",
      "metadata": {
        "id": "wO5an5cX4u4l"
      },
      "source": [
        "El operador para asignar valores en Python es el signo igual (`=`). Python es un lenguage de _escritura dinámica_, de modo que no necesitamos especificar el tipo de una variable cuando la creamos.\n",
        "\n",
        "Al asignar un valor a una variable nueva se crea esa variable:"
      ]
    },
    {
      "cell_type": "code",
      "metadata": {
        "id": "cZhZFxYi4u4m"
      },
      "source": [
        "# asignaciones de variables\n",
        "x = 1.0\n",
        "mi_variable = 12.2"
      ],
      "execution_count": null,
      "outputs": []
    },
    {
      "cell_type": "markdown",
      "metadata": {
        "id": "QOk2PN0P4u4o"
      },
      "source": [
        "Aunque no se especifique explícitamente, cada variable sí tiene un tipo asociada a ella. El tipo es extraido del valor que le fue asignado."
      ]
    },
    {
      "cell_type": "code",
      "metadata": {
        "colab": {
          "base_uri": "https://localhost:8080/"
        },
        "id": "MztcaymH4u4o",
        "outputId": "78ddb8ea-20ec-484e-c61a-31e0f172453d"
      },
      "source": [
        "type(x)"
      ],
      "execution_count": null,
      "outputs": [
        {
          "output_type": "execute_result",
          "data": {
            "text/plain": [
              "float"
            ]
          },
          "metadata": {
            "tags": []
          },
          "execution_count": 2
        }
      ]
    },
    {
      "cell_type": "markdown",
      "metadata": {
        "id": "uivEsE5G4u4r"
      },
      "source": [
        "Si asignamos un nuevo valor a una variable, su tipo puede cambiar."
      ]
    },
    {
      "cell_type": "code",
      "metadata": {
        "id": "2nyRakFp4u4r"
      },
      "source": [
        "x = 1"
      ],
      "execution_count": null,
      "outputs": []
    },
    {
      "cell_type": "code",
      "metadata": {
        "colab": {
          "base_uri": "https://localhost:8080/"
        },
        "id": "YcQ3lmtD4u4s",
        "outputId": "c3d336f3-5686-46eb-e3c6-a2477b25aec6"
      },
      "source": [
        "type(x)"
      ],
      "execution_count": null,
      "outputs": [
        {
          "output_type": "execute_result",
          "data": {
            "text/plain": [
              "int"
            ]
          },
          "metadata": {
            "tags": []
          },
          "execution_count": 4
        }
      ]
    },
    {
      "cell_type": "markdown",
      "metadata": {
        "id": "cVJBcTDL4u4s"
      },
      "source": [
        "Si tratamos de usar una variable que no ha sido definida obtenemo un mensaje de error (`NameError`):"
      ]
    },
    {
      "cell_type": "code",
      "metadata": {
        "colab": {
          "base_uri": "https://localhost:8080/",
          "height": 162
        },
        "id": "AP1sDti84u4t",
        "outputId": "8473c7b4-63fa-4e04-a54b-55909da89489"
      },
      "source": [
        "print(y)"
      ],
      "execution_count": null,
      "outputs": [
        {
          "output_type": "error",
          "ename": "NameError",
          "evalue": "ignored",
          "traceback": [
            "\u001b[0;31m---------------------------------------------------------------------------\u001b[0m",
            "\u001b[0;31mNameError\u001b[0m                                 Traceback (most recent call last)",
            "\u001b[0;32m<ipython-input-5-d9183e048de3>\u001b[0m in \u001b[0;36m<module>\u001b[0;34m()\u001b[0m\n\u001b[0;32m----> 1\u001b[0;31m \u001b[0mprint\u001b[0m\u001b[0;34m(\u001b[0m\u001b[0my\u001b[0m\u001b[0;34m)\u001b[0m\u001b[0;34m\u001b[0m\u001b[0;34m\u001b[0m\u001b[0m\n\u001b[0m",
            "\u001b[0;31mNameError\u001b[0m: name 'y' is not defined"
          ]
        }
      ]
    },
    {
      "cell_type": "markdown",
      "metadata": {
        "id": "YmDe6SKB4u4u"
      },
      "source": [
        "### Tipos Fundamentales"
      ]
    },
    {
      "cell_type": "code",
      "metadata": {
        "colab": {
          "base_uri": "https://localhost:8080/"
        },
        "id": "Ij_LlBv14u4u",
        "outputId": "4a011f9e-de4b-4d3a-92e3-40abcb55f479"
      },
      "source": [
        "# enteros\n",
        "x = 1\n",
        "type(x)"
      ],
      "execution_count": null,
      "outputs": [
        {
          "output_type": "execute_result",
          "data": {
            "text/plain": [
              "int"
            ]
          },
          "metadata": {
            "tags": []
          },
          "execution_count": 6
        }
      ]
    },
    {
      "cell_type": "code",
      "metadata": {
        "colab": {
          "base_uri": "https://localhost:8080/"
        },
        "id": "d97zX4E74u4w",
        "outputId": "aed9484e-b9bc-4e0b-9386-ec36233c8b96"
      },
      "source": [
        "# flotantes\n",
        "x = 1.0\n",
        "type(x)"
      ],
      "execution_count": null,
      "outputs": [
        {
          "output_type": "execute_result",
          "data": {
            "text/plain": [
              "float"
            ]
          },
          "metadata": {
            "tags": []
          },
          "execution_count": 7
        }
      ]
    },
    {
      "cell_type": "code",
      "metadata": {
        "colab": {
          "base_uri": "https://localhost:8080/"
        },
        "id": "qQuNrDsx4u4x",
        "outputId": "2950bc5d-246b-41e9-8a94-953ef66b303d"
      },
      "source": [
        "# booleanos\n",
        "b1 = True\n",
        "b2 = False\n",
        "\n",
        "type(b1)"
      ],
      "execution_count": null,
      "outputs": [
        {
          "output_type": "execute_result",
          "data": {
            "text/plain": [
              "bool"
            ]
          },
          "metadata": {
            "tags": []
          },
          "execution_count": 8
        }
      ]
    },
    {
      "cell_type": "code",
      "metadata": {
        "colab": {
          "base_uri": "https://localhost:8080/"
        },
        "id": "Va0pHFNR4u4x",
        "outputId": "bb55de20-8bb2-4190-944c-275692458802"
      },
      "source": [
        "# números complejos: note que se usa `j` para especificar la parte imaginaria\n",
        "x = 1.0 - 1.0j\n",
        "type(x)"
      ],
      "execution_count": null,
      "outputs": [
        {
          "output_type": "execute_result",
          "data": {
            "text/plain": [
              "complex"
            ]
          },
          "metadata": {
            "tags": []
          },
          "execution_count": 9
        }
      ]
    },
    {
      "cell_type": "code",
      "metadata": {
        "colab": {
          "base_uri": "https://localhost:8080/"
        },
        "id": "Zr8CEO1x4u4y",
        "outputId": "faa647af-b6ba-4287-a557-9f4f1efec7be"
      },
      "source": [
        "print(x)"
      ],
      "execution_count": null,
      "outputs": [
        {
          "output_type": "stream",
          "text": [
            "(1-1j)\n"
          ],
          "name": "stdout"
        }
      ]
    },
    {
      "cell_type": "code",
      "metadata": {
        "colab": {
          "base_uri": "https://localhost:8080/"
        },
        "id": "k0iHftjzXS0a",
        "outputId": "5524b494-84b3-4fa3-f1ee-a26744dbc4e8"
      },
      "source": [
        "x.imag"
      ],
      "execution_count": null,
      "outputs": [
        {
          "output_type": "execute_result",
          "data": {
            "text/plain": [
              "-1.0"
            ]
          },
          "metadata": {
            "tags": []
          },
          "execution_count": 12
        }
      ]
    },
    {
      "cell_type": "code",
      "metadata": {
        "scrolled": true,
        "colab": {
          "base_uri": "https://localhost:8080/"
        },
        "id": "R_RJnCMm4u4z",
        "outputId": "d794b451-309f-49e4-df99-63063752ff4b"
      },
      "source": [
        "print(x.real, x.imag)"
      ],
      "execution_count": null,
      "outputs": [
        {
          "output_type": "stream",
          "text": [
            "1.0 -1.0\n"
          ],
          "name": "stdout"
        }
      ]
    },
    {
      "cell_type": "markdown",
      "metadata": {
        "id": "im6la5mN4u4_"
      },
      "source": [
        "## Operadores y comparaciones\n",
        "\n",
        "La mayoría de los operadores y las comparaciones en Python funcionan como se esperaría:\n",
        "\n",
        "* Operadores aritméticos `+`, `-`, `*`, `/`, `//` (división entera), '**' potencia\n"
      ]
    },
    {
      "cell_type": "code",
      "metadata": {
        "colab": {
          "base_uri": "https://localhost:8080/"
        },
        "id": "e-GTXdHK4u5A",
        "outputId": "15a31075-3ecb-4a9a-fcc2-ad1d59ee0133"
      },
      "source": [
        "1 + 2, 1 - 2, 1 * 2, 1 / 2"
      ],
      "execution_count": null,
      "outputs": [
        {
          "output_type": "execute_result",
          "data": {
            "text/plain": [
              "(3, -1, 2, 0.5)"
            ]
          },
          "metadata": {
            "tags": []
          },
          "execution_count": 72
        }
      ]
    },
    {
      "cell_type": "code",
      "metadata": {
        "colab": {
          "base_uri": "https://localhost:8080/"
        },
        "id": "iMPP9BI24u5A",
        "outputId": "8f8672a8-cb38-4529-ee5e-c3b32d0e8f11"
      },
      "source": [
        "1.0 + 2.0, 1.0 - 2.0, 1.0 * 2.0, 1.0 / 2.0"
      ],
      "execution_count": null,
      "outputs": [
        {
          "output_type": "execute_result",
          "data": {
            "text/plain": [
              "(3.0, -1.0, 2.0, 0.5)"
            ]
          },
          "metadata": {
            "tags": []
          },
          "execution_count": 73
        }
      ]
    },
    {
      "cell_type": "code",
      "metadata": {
        "colab": {
          "base_uri": "https://localhost:8080/"
        },
        "id": "c-JHvrus4u5B",
        "outputId": "aaaeecfe-c986-454d-a0fa-b6ac07b153f8"
      },
      "source": [
        "# División entera de dos númenos flotantes\n",
        "3.0 // 2.0"
      ],
      "execution_count": null,
      "outputs": [
        {
          "output_type": "execute_result",
          "data": {
            "text/plain": [
              "1.0"
            ]
          },
          "metadata": {
            "tags": []
          },
          "execution_count": 74
        }
      ]
    },
    {
      "cell_type": "code",
      "metadata": {
        "colab": {
          "base_uri": "https://localhost:8080/"
        },
        "id": "TQnj-Y9O4u5B",
        "outputId": "5e0f8876-fc1e-4870-d5e0-6ac913f8a89f"
      },
      "source": [
        "# Atención! El operador de potencia en Python no es ^, sino **\n",
        "2**2"
      ],
      "execution_count": null,
      "outputs": [
        {
          "output_type": "execute_result",
          "data": {
            "text/plain": [
              "4"
            ]
          },
          "metadata": {
            "tags": []
          },
          "execution_count": 13
        }
      ]
    },
    {
      "cell_type": "markdown",
      "metadata": {
        "id": "aDDz-8Xn4u5B"
      },
      "source": [
        "* Los operadores booleanos se escriben como palabras: `and`, `not`, `or`. "
      ]
    },
    {
      "cell_type": "code",
      "metadata": {
        "colab": {
          "base_uri": "https://localhost:8080/"
        },
        "id": "rV3FQybG4u5C",
        "outputId": "33ceb34a-d6e5-4df5-d2b9-7d447a41074a"
      },
      "source": [
        "True and False"
      ],
      "execution_count": null,
      "outputs": [
        {
          "output_type": "execute_result",
          "data": {
            "text/plain": [
              "False"
            ]
          },
          "metadata": {
            "tags": []
          },
          "execution_count": 14
        }
      ]
    },
    {
      "cell_type": "code",
      "metadata": {
        "colab": {
          "base_uri": "https://localhost:8080/"
        },
        "id": "tq9fFcZU4u5C",
        "outputId": "88fad5c4-d7d4-4dc0-8da8-38f07048b894"
      },
      "source": [
        "not False"
      ],
      "execution_count": null,
      "outputs": [
        {
          "output_type": "execute_result",
          "data": {
            "text/plain": [
              "True"
            ]
          },
          "metadata": {
            "tags": []
          },
          "execution_count": 15
        }
      ]
    },
    {
      "cell_type": "code",
      "metadata": {
        "colab": {
          "base_uri": "https://localhost:8080/"
        },
        "id": "NNLjHjLf4u5C",
        "outputId": "7cce9185-64e8-468b-f96f-9552168a7418"
      },
      "source": [
        "True or False"
      ],
      "execution_count": null,
      "outputs": [
        {
          "output_type": "execute_result",
          "data": {
            "text/plain": [
              "True"
            ]
          },
          "metadata": {
            "tags": []
          },
          "execution_count": 16
        }
      ]
    },
    {
      "cell_type": "markdown",
      "metadata": {
        "id": "STPAupCv4u5D"
      },
      "source": [
        "* Operadores de comparación `>`, `<`, `>=` (mayor o igual), `<=` (menor o igual), `==` igualdad, `es` idéntico."
      ]
    },
    {
      "cell_type": "code",
      "metadata": {
        "colab": {
          "base_uri": "https://localhost:8080/"
        },
        "id": "BhNZg1mk4u5D",
        "outputId": "bbc4a8d6-f489-46bc-e5af-39cb7ac124c9"
      },
      "source": [
        "2 > 1, 2 < 1"
      ],
      "execution_count": null,
      "outputs": [
        {
          "output_type": "execute_result",
          "data": {
            "text/plain": [
              "(True, False)"
            ]
          },
          "metadata": {
            "tags": []
          },
          "execution_count": 18
        }
      ]
    },
    {
      "cell_type": "code",
      "metadata": {
        "colab": {
          "base_uri": "https://localhost:8080/"
        },
        "id": "o7_lSrca4u5D",
        "outputId": "57c7d577-23b6-4cc3-ab01-f2964fb74f9c"
      },
      "source": [
        "2 > 2, 2 < 2"
      ],
      "execution_count": null,
      "outputs": [
        {
          "output_type": "execute_result",
          "data": {
            "text/plain": [
              "(False, False)"
            ]
          },
          "metadata": {
            "tags": []
          },
          "execution_count": 80
        }
      ]
    },
    {
      "cell_type": "code",
      "metadata": {
        "colab": {
          "base_uri": "https://localhost:8080/"
        },
        "id": "vj1XmhRy4u5E",
        "outputId": "4c0c4104-5888-4451-cb7f-917759ea0fac"
      },
      "source": [
        "2 >= 2, 2 <= 2"
      ],
      "execution_count": null,
      "outputs": [
        {
          "output_type": "execute_result",
          "data": {
            "text/plain": [
              "(True, True)"
            ]
          },
          "metadata": {
            "tags": []
          },
          "execution_count": 81
        }
      ]
    },
    {
      "cell_type": "code",
      "metadata": {
        "colab": {
          "base_uri": "https://localhost:8080/"
        },
        "id": "E6nhM07V4u5E",
        "outputId": "28abd71f-fc4a-484a-91fa-40d4017facd6"
      },
      "source": [
        "# igualdad\n",
        "[1,2] == [1,2]"
      ],
      "execution_count": null,
      "outputs": [
        {
          "output_type": "execute_result",
          "data": {
            "text/plain": [
              "True"
            ]
          },
          "metadata": {
            "tags": []
          },
          "execution_count": 19
        }
      ]
    },
    {
      "cell_type": "code",
      "metadata": {
        "colab": {
          "base_uri": "https://localhost:8080/"
        },
        "id": "0rODlb2n4u5E",
        "outputId": "51c2770f-f1e8-436c-f02b-14408e43195b"
      },
      "source": [
        "# ¿objetos idénticos?\n",
        "l1 = l2 = [1,2]\n",
        "\n",
        "l1 is l2"
      ],
      "execution_count": null,
      "outputs": [
        {
          "output_type": "execute_result",
          "data": {
            "text/plain": [
              "True"
            ]
          },
          "metadata": {
            "tags": []
          },
          "execution_count": 83
        }
      ]
    },
    {
      "cell_type": "markdown",
      "metadata": {
        "id": "u7C9HBc24u5F"
      },
      "source": [
        "## Tipos compuestos: Cadenas, listas y diccionarios\n",
        "\n",
        "### Cadenas\n",
        "\n",
        "Las cadenas son el tipo de variables que es usado para almacenar mensajes de texto. "
      ]
    },
    {
      "cell_type": "code",
      "metadata": {
        "colab": {
          "base_uri": "https://localhost:8080/"
        },
        "id": "NXASffHk4u5F",
        "outputId": "25b27673-fdd2-43d4-cab4-199ae539dbcb"
      },
      "source": [
        "s = 'Hola mundo'\n",
        "type(s)"
      ],
      "execution_count": null,
      "outputs": [
        {
          "output_type": "execute_result",
          "data": {
            "text/plain": [
              "str"
            ]
          },
          "metadata": {
            "tags": []
          },
          "execution_count": 34
        }
      ]
    },
    {
      "cell_type": "code",
      "metadata": {
        "colab": {
          "base_uri": "https://localhost:8080/"
        },
        "id": "scfu3Iso4u5G",
        "outputId": "8706a6e2-a84f-4c51-a0bc-8155a27b584b"
      },
      "source": [
        "# longitud de la cadena: el número de caracteres que contiene\n",
        "len(s)"
      ],
      "execution_count": null,
      "outputs": [
        {
          "output_type": "execute_result",
          "data": {
            "text/plain": [
              "10"
            ]
          },
          "metadata": {
            "tags": []
          },
          "execution_count": 21
        }
      ]
    },
    {
      "cell_type": "code",
      "metadata": {
        "colab": {
          "base_uri": "https://localhost:8080/"
        },
        "id": "yuwZ6P5j4u5G",
        "outputId": "863f5691-3690-4b5e-f585-d44f9fd28326"
      },
      "source": [
        "# reemplaza una subcadena de una cadena por cadena\n",
        "s2 = s.replace(\"mundo\", \"universo\")\n",
        "print(s2)"
      ],
      "execution_count": null,
      "outputs": [
        {
          "output_type": "stream",
          "text": [
            "Hola universo\n"
          ],
          "name": "stdout"
        }
      ]
    },
    {
      "cell_type": "markdown",
      "metadata": {
        "id": "HIvO4AWk4u5H"
      },
      "source": [
        "Podemos aislar un carácter en una cadena usando `[]`:"
      ]
    },
    {
      "cell_type": "code",
      "metadata": {
        "colab": {
          "base_uri": "https://localhost:8080/",
          "height": 35
        },
        "id": "TfcxEUpw4u5H",
        "outputId": "3cb81ca1-cd98-4798-a4a5-ae7d28d698a0"
      },
      "source": [
        "s[0]"
      ],
      "execution_count": null,
      "outputs": [
        {
          "output_type": "execute_result",
          "data": {
            "application/vnd.google.colaboratory.intrinsic+json": {
              "type": "string"
            },
            "text/plain": [
              "'H'"
            ]
          },
          "metadata": {
            "tags": []
          },
          "execution_count": 23
        }
      ]
    },
    {
      "cell_type": "markdown",
      "metadata": {
        "id": "b9mtVugC4u5H"
      },
      "source": [
        "**Atención usuarios de MATLAB o R:** el indexado comienza en 0!\n",
        "\n",
        "Podemos extraer una parte de una cadena usando la sintaxis `[desde:hasta]`, que extrae caracteres entre los índices  `desde` y `hasta` **sin incluir el elemento con índice `hasta'**:"
      ]
    },
    {
      "cell_type": "code",
      "metadata": {
        "colab": {
          "base_uri": "https://localhost:8080/",
          "height": 35
        },
        "id": "1iPqXnNu4u5I",
        "outputId": "41684c63-c5bd-4f06-9933-0d9dd0f62d72"
      },
      "source": [
        "s[0:5]"
      ],
      "execution_count": null,
      "outputs": [
        {
          "output_type": "execute_result",
          "data": {
            "application/vnd.google.colaboratory.intrinsic+json": {
              "type": "string"
            },
            "text/plain": [
              "'Hola '"
            ]
          },
          "metadata": {
            "tags": []
          },
          "execution_count": 24
        }
      ]
    },
    {
      "cell_type": "markdown",
      "metadata": {
        "id": "YMy56Y7F4u5I"
      },
      "source": [
        "Si omitimos `desde` o bien `hasta` de `[desde:hasta]`, por defecto se entiende que se refiere al comienzo y/o al fin de la cadena, respectivamente:"
      ]
    },
    {
      "cell_type": "code",
      "metadata": {
        "colab": {
          "base_uri": "https://localhost:8080/",
          "height": 35
        },
        "id": "hP9406yV4u5I",
        "outputId": "d82f2b4c-f1e3-4478-a052-a30b3c63650f"
      },
      "source": [
        "s[:5]"
      ],
      "execution_count": null,
      "outputs": [
        {
          "output_type": "execute_result",
          "data": {
            "application/vnd.google.colaboratory.intrinsic+json": {
              "type": "string"
            },
            "text/plain": [
              "'Hola '"
            ]
          },
          "metadata": {
            "tags": []
          },
          "execution_count": 89
        }
      ]
    },
    {
      "cell_type": "code",
      "metadata": {
        "colab": {
          "base_uri": "https://localhost:8080/",
          "height": 35
        },
        "id": "S12T_xU34u5J",
        "outputId": "73c60cf6-0f79-49ac-c5c9-5e81d6a5e0f4"
      },
      "source": [
        "s[6:]"
      ],
      "execution_count": null,
      "outputs": [
        {
          "output_type": "execute_result",
          "data": {
            "application/vnd.google.colaboratory.intrinsic+json": {
              "type": "string"
            },
            "text/plain": [
              "'undo'"
            ]
          },
          "metadata": {
            "tags": []
          },
          "execution_count": 90
        }
      ]
    },
    {
      "cell_type": "code",
      "metadata": {
        "colab": {
          "base_uri": "https://localhost:8080/",
          "height": 35
        },
        "id": "64TTLr3q4u5J",
        "outputId": "437b50e7-4e25-4ace-cfc7-e2abff4f757d"
      },
      "source": [
        "s[:]"
      ],
      "execution_count": null,
      "outputs": [
        {
          "output_type": "execute_result",
          "data": {
            "application/vnd.google.colaboratory.intrinsic+json": {
              "type": "string"
            },
            "text/plain": [
              "'Hola mundo'"
            ]
          },
          "metadata": {
            "tags": []
          },
          "execution_count": 25
        }
      ]
    },
    {
      "cell_type": "markdown",
      "metadata": {
        "id": "YLZu3Eol4u5K"
      },
      "source": [
        "Podemos también definir el tamaño del paso usando la sintaxis `[desde:hasta:paso]` (el valor por defecto de `paso` es 1, como ya vimos):"
      ]
    },
    {
      "cell_type": "code",
      "metadata": {
        "colab": {
          "base_uri": "https://localhost:8080/",
          "height": 35
        },
        "id": "ExlMfR_i4u5K",
        "outputId": "a962c84a-eaf8-4542-b618-f97a19d64d4f"
      },
      "source": [
        "s[::1]"
      ],
      "execution_count": null,
      "outputs": [
        {
          "output_type": "execute_result",
          "data": {
            "application/vnd.google.colaboratory.intrinsic+json": {
              "type": "string"
            },
            "text/plain": [
              "'Hola mundo'"
            ]
          },
          "metadata": {
            "tags": []
          },
          "execution_count": 92
        }
      ]
    },
    {
      "cell_type": "code",
      "metadata": {
        "colab": {
          "base_uri": "https://localhost:8080/",
          "height": 35
        },
        "id": "-VvXQW-64u5K",
        "outputId": "19847231-18b7-4105-ea5f-2ecdf5d2d7e6"
      },
      "source": [
        "s[::2]"
      ],
      "execution_count": null,
      "outputs": [
        {
          "output_type": "execute_result",
          "data": {
            "application/vnd.google.colaboratory.intrinsic+json": {
              "type": "string"
            },
            "text/plain": [
              "'Hl ud'"
            ]
          },
          "metadata": {
            "tags": []
          },
          "execution_count": 93
        }
      ]
    },
    {
      "cell_type": "markdown",
      "metadata": {
        "id": "rWBRKgfg4u5L"
      },
      "source": [
        "#### Ejemplos de formateo de cadenas"
      ]
    },
    {
      "cell_type": "code",
      "metadata": {
        "colab": {
          "base_uri": "https://localhost:8080/"
        },
        "id": "iai6aMoe4u5L",
        "outputId": "2facf53a-e975-4613-f503-96eccdc811b7"
      },
      "source": [
        "print(\"uno\", \"dos\", \"tres\")  # El comando print puede desplegar varias cadenas"
      ],
      "execution_count": null,
      "outputs": [
        {
          "output_type": "stream",
          "text": [
            "uno dos tres\n"
          ],
          "name": "stdout"
        }
      ]
    },
    {
      "cell_type": "code",
      "metadata": {
        "colab": {
          "base_uri": "https://localhost:8080/"
        },
        "id": "hYMVmacC4u5M",
        "outputId": "15c5f9d6-46e2-4d4c-9b85-27f078f73211"
      },
      "source": [
        "print(\"uno\", 1.0, False, -1j)  # El comando print convierte todos los argumentos a cadenas"
      ],
      "execution_count": null,
      "outputs": [
        {
          "output_type": "stream",
          "text": [
            "uno 1.0 False (-0-1j)\n"
          ],
          "name": "stdout"
        }
      ]
    },
    {
      "cell_type": "code",
      "metadata": {
        "colab": {
          "base_uri": "https://localhost:8080/",
          "height": 35
        },
        "id": "7AgonEMOYvFC",
        "outputId": "7c501c12-b898-433c-c35f-3695ec55debb"
      },
      "source": [
        "\"uno\" + \" dos\" + \" tres\""
      ],
      "execution_count": null,
      "outputs": [
        {
          "output_type": "execute_result",
          "data": {
            "application/vnd.google.colaboratory.intrinsic+json": {
              "type": "string"
            },
            "text/plain": [
              "'uno dos tres'"
            ]
          },
          "metadata": {
            "tags": []
          },
          "execution_count": 27
        }
      ]
    },
    {
      "cell_type": "code",
      "metadata": {
        "colab": {
          "base_uri": "https://localhost:8080/"
        },
        "id": "MlHVVSBy4u5N",
        "outputId": "2a93392d-028c-41ae-a7a5-33ee610897f5"
      },
      "source": [
        "print(\"uno\" + \"dos\" + \"tres\") # cadenas \"sumadas\" con + son contatenadas sin espacio entre ellas"
      ],
      "execution_count": null,
      "outputs": [
        {
          "output_type": "stream",
          "text": [
            "unodostres\n"
          ],
          "name": "stdout"
        }
      ]
    },
    {
      "cell_type": "code",
      "metadata": {
        "colab": {
          "base_uri": "https://localhost:8080/"
        },
        "id": "n_ia9lf44u5N",
        "outputId": "4054cd37-ef9c-432b-90ac-0c7e19e6d58e"
      },
      "source": [
        "print(\"valor = \"+str(1.0)) # podemos transformar un float a string y concatenarlos en la salida"
      ],
      "execution_count": null,
      "outputs": [
        {
          "output_type": "stream",
          "text": [
            "valor = 1.0\n"
          ],
          "name": "stdout"
        }
      ]
    },
    {
      "cell_type": "code",
      "metadata": {
        "colab": {
          "base_uri": "https://localhost:8080/"
        },
        "id": "TqUFmS4V4u5O",
        "outputId": "efa302c1-9704-47d0-e6bd-5d63a4e1497d"
      },
      "source": [
        "print(\"valor = %f %f\" % (1.0, 2.0)) # podemos usar formateo de cadenas en el estilo del lenguaje C"
      ],
      "execution_count": null,
      "outputs": [
        {
          "output_type": "stream",
          "text": [
            "valor = 1.000000 2.000000\n"
          ],
          "name": "stdout"
        }
      ]
    },
    {
      "cell_type": "code",
      "metadata": {
        "colab": {
          "base_uri": "https://localhost:8080/"
        },
        "id": "OMeTpK7W4u5O",
        "outputId": "0bebc886-9c4a-4233-f65e-dd53d96851a4"
      },
      "source": [
        "# este formateo crea una cadena\n",
        "s2 = \"valor1 = %.2f. valor2 = %d\" % (3.1415, 1.5)\n",
        "\n",
        "print(s2)"
      ],
      "execution_count": null,
      "outputs": [
        {
          "output_type": "stream",
          "text": [
            "valor1 = 3.14. valor2 = 1\n"
          ],
          "name": "stdout"
        }
      ]
    },
    {
      "cell_type": "code",
      "metadata": {
        "colab": {
          "base_uri": "https://localhost:8080/"
        },
        "id": "--VzQsJ84u5P",
        "outputId": "99d72cfc-633e-46db-806d-3cbc93e3f3ba"
      },
      "source": [
        "# forma alternativa, más intuitiva para formatear una cadena\n",
        "s3 = 'valor1 = {0}, valor2 = {1}'.format(3.1415, 1.5)\n",
        "\n",
        "print(s3)"
      ],
      "execution_count": null,
      "outputs": [
        {
          "output_type": "stream",
          "text": [
            "valor1 = 3.1415, valor2 = 1.5\n"
          ],
          "name": "stdout"
        }
      ]
    },
    {
      "cell_type": "markdown",
      "metadata": {
        "id": "xP6vwWmG4u5Q"
      },
      "source": [
        "### Listas\n",
        "\n",
        "Listas son muy similares a las cadenas, excepto que cada elemento puede ser de un tipo diferente.\n",
        "\n",
        "La sintaxis para crear listas en Python es `[..., ..., ...]`:"
      ]
    },
    {
      "cell_type": "code",
      "metadata": {
        "colab": {
          "base_uri": "https://localhost:8080/"
        },
        "id": "h3bs5z9r4u5Q",
        "outputId": "49f58e84-c985-40d1-8e3d-4e8a8bfcd500"
      },
      "source": [
        "l = [1,2,3,4]\n",
        "\n",
        "print(type(l))\n",
        "print(l)"
      ],
      "execution_count": null,
      "outputs": [
        {
          "output_type": "stream",
          "text": [
            "<class 'list'>\n",
            "[1, 2, 3, 4]\n"
          ],
          "name": "stdout"
        }
      ]
    },
    {
      "cell_type": "markdown",
      "metadata": {
        "id": "3MijTXeI4u5R"
      },
      "source": [
        "Podemos usar las mismas técnicas de \"rebanado\" que usamos en el caso de cadenas para manipular listas:"
      ]
    },
    {
      "cell_type": "code",
      "metadata": {
        "colab": {
          "base_uri": "https://localhost:8080/"
        },
        "id": "FPGW1Ieq4u5R",
        "outputId": "c34db1dd-a8f5-43b5-e6b6-6661079fdce8"
      },
      "source": [
        "print(l)\n",
        "\n",
        "print(l[1:3])\n",
        "\n",
        "print(l[::2])"
      ],
      "execution_count": null,
      "outputs": [
        {
          "output_type": "stream",
          "text": [
            "[1, 2, 3, 4]\n",
            "[2, 3]\n",
            "[1, 3]\n"
          ],
          "name": "stdout"
        }
      ]
    },
    {
      "cell_type": "markdown",
      "metadata": {
        "id": "n1qRl5mE4u5S"
      },
      "source": [
        "**Atención usuarios de MATLAB o R:** el indexado comienza en 0!"
      ]
    },
    {
      "cell_type": "code",
      "metadata": {
        "colab": {
          "base_uri": "https://localhost:8080/"
        },
        "id": "-RuEMz304u5S",
        "outputId": "68d9bb5d-db65-4913-ab85-12154ea4e835"
      },
      "source": [
        "l[0]"
      ],
      "execution_count": null,
      "outputs": [
        {
          "output_type": "execute_result",
          "data": {
            "text/plain": [
              "1"
            ]
          },
          "metadata": {
            "tags": []
          },
          "execution_count": 103
        }
      ]
    },
    {
      "cell_type": "markdown",
      "metadata": {
        "id": "VGg_yhIT4u5S"
      },
      "source": [
        "Los elementos en una lista no requieren ser del mismo tipo:"
      ]
    },
    {
      "cell_type": "code",
      "metadata": {
        "colab": {
          "base_uri": "https://localhost:8080/"
        },
        "id": "om9lG9Gf4u5T",
        "outputId": "c3b218f3-cbfa-41d8-ef2c-5ea435570927"
      },
      "source": [
        "l = [1, 'a', [1.0], 1-1j]\n",
        "\n",
        "print(l)"
      ],
      "execution_count": null,
      "outputs": [
        {
          "output_type": "stream",
          "text": [
            "[1, 'a', [1.0], (1-1j)]\n"
          ],
          "name": "stdout"
        }
      ]
    },
    {
      "cell_type": "markdown",
      "metadata": {
        "id": "bZhJ1Hx-4u5T"
      },
      "source": [
        "Las listas en Python pueden ser *inhomogéneas* y *arbitrariamente anidadas*:"
      ]
    },
    {
      "cell_type": "code",
      "metadata": {
        "colab": {
          "base_uri": "https://localhost:8080/"
        },
        "id": "dUby4uc_4u5T",
        "outputId": "6a6e1507-5380-4b2d-cd2f-866ed10fb116"
      },
      "source": [
        "lista_anidada = [1, ['hola', [3j, [4, [5]]]]]\n",
        "\n",
        "lista_anidada"
      ],
      "execution_count": null,
      "outputs": [
        {
          "output_type": "execute_result",
          "data": {
            "text/plain": [
              "[1, ['hola', [3j, [4, [5]]]]]"
            ]
          },
          "metadata": {
            "tags": []
          },
          "execution_count": 31
        }
      ]
    },
    {
      "cell_type": "markdown",
      "metadata": {
        "id": "MTcKmMxy4u5U"
      },
      "source": [
        "Las listas juegan un rol muy importante en Python y son, por ejemplo, usadas en bucles y otras estructuras de control de flujo (discutidas más abajo). Existen muchas funciones convenientes para generar listas de varios tipos, por ejemplo la función `range`:"
      ]
    },
    {
      "cell_type": "code",
      "metadata": {
        "colab": {
          "base_uri": "https://localhost:8080/"
        },
        "id": "PDsqecdy4u5U",
        "outputId": "05adee48-d9e8-4642-f2e9-e8516c7c3fd9"
      },
      "source": [
        "desde = 10\n",
        "hasta = 30\n",
        "paso = 2\n",
        "\n",
        "range(desde, hasta, paso)"
      ],
      "execution_count": null,
      "outputs": [
        {
          "output_type": "execute_result",
          "data": {
            "text/plain": [
              "range(10, 30, 2)"
            ]
          },
          "metadata": {
            "tags": []
          },
          "execution_count": 32
        }
      ]
    },
    {
      "cell_type": "code",
      "metadata": {
        "colab": {
          "base_uri": "https://localhost:8080/"
        },
        "id": "ZbsWgro24u5U",
        "outputId": "90d6c9ac-7e8c-450d-9b78-8ebe548bc9be"
      },
      "source": [
        "# en Python 3 range genera un interador, que puede ser convertido a una lista usando 'list(...)'. Esto no tiene efecto en Python 2\n",
        "list(range(desde, hasta, paso))"
      ],
      "execution_count": null,
      "outputs": [
        {
          "output_type": "execute_result",
          "data": {
            "text/plain": [
              "[10, 12, 14, 16, 18, 20, 22, 24, 26, 28]"
            ]
          },
          "metadata": {
            "tags": []
          },
          "execution_count": 33
        }
      ]
    },
    {
      "cell_type": "code",
      "metadata": {
        "colab": {
          "base_uri": "https://localhost:8080/"
        },
        "id": "P_ccWVdw4u5V",
        "outputId": "ec2c02c5-6865-4f2c-9067-eb20bb9c4fd0"
      },
      "source": [
        "list(range(-10, 10))"
      ],
      "execution_count": null,
      "outputs": [
        {
          "output_type": "execute_result",
          "data": {
            "text/plain": [
              "[-10, -9, -8, -7, -6, -5, -4, -3, -2, -1, 0, 1, 2, 3, 4, 5, 6, 7, 8, 9]"
            ]
          },
          "metadata": {
            "tags": []
          },
          "execution_count": 108
        }
      ]
    },
    {
      "cell_type": "code",
      "metadata": {
        "colab": {
          "base_uri": "https://localhost:8080/",
          "height": 35
        },
        "id": "usXCbgga4u5V",
        "outputId": "4ad3e4ff-d0ef-4ec1-d661-d2edbcaad72b"
      },
      "source": [
        "s"
      ],
      "execution_count": null,
      "outputs": [
        {
          "output_type": "execute_result",
          "data": {
            "application/vnd.google.colaboratory.intrinsic+json": {
              "type": "string"
            },
            "text/plain": [
              "'Hola mundo'"
            ]
          },
          "metadata": {
            "tags": []
          },
          "execution_count": 35
        }
      ]
    },
    {
      "cell_type": "code",
      "metadata": {
        "colab": {
          "base_uri": "https://localhost:8080/"
        },
        "id": "SE8p5l-y4u5V",
        "outputId": "359d8320-5268-43d0-94f7-c16a1f14a3e0"
      },
      "source": [
        "# convierte una cadena a una lista, por conversión de tipo:\n",
        "\n",
        "s2 = list(s)\n",
        "\n",
        "s2"
      ],
      "execution_count": null,
      "outputs": [
        {
          "output_type": "execute_result",
          "data": {
            "text/plain": [
              "['H', 'o', 'l', 'a', ' ', 'm', 'u', 'n', 'd', 'o']"
            ]
          },
          "metadata": {
            "tags": []
          },
          "execution_count": 36
        }
      ]
    },
    {
      "cell_type": "code",
      "metadata": {
        "colab": {
          "base_uri": "https://localhost:8080/"
        },
        "id": "JdLDzIZEaIC7",
        "outputId": "4597400a-b65a-40f8-e31b-577db7e74083"
      },
      "source": [
        "s2.sort()\n",
        "print(s2)"
      ],
      "execution_count": null,
      "outputs": [
        {
          "output_type": "stream",
          "text": [
            "[' ', 'H', 'a', 'd', 'l', 'm', 'n', 'o', 'o', 'u']\n"
          ],
          "name": "stdout"
        }
      ]
    },
    {
      "cell_type": "code",
      "metadata": {
        "colab": {
          "base_uri": "https://localhost:8080/"
        },
        "id": "f4K8ZgXA4u5W",
        "outputId": "607c50be-4d11-46cb-d848-80e997660c04"
      },
      "source": [
        "# ordenando listas\n",
        "s2.sort()\n",
        "\n",
        "print(s2)"
      ],
      "execution_count": null,
      "outputs": [
        {
          "output_type": "stream",
          "text": [
            "[' ', 'H', 'a', 'd', 'l', 'm', 'n', 'o', 'o', 'u']\n"
          ],
          "name": "stdout"
        }
      ]
    },
    {
      "cell_type": "markdown",
      "metadata": {
        "id": "NRYqLkK84u5W"
      },
      "source": [
        "#### Agregando, insertando, modificando, y removiendo elementos de listas"
      ]
    },
    {
      "cell_type": "code",
      "metadata": {
        "colab": {
          "base_uri": "https://localhost:8080/"
        },
        "id": "izjEgS814u5W",
        "outputId": "6d7affb3-9853-4362-a088-bac3ac8175ba"
      },
      "source": [
        "# crea una nueva lista vacía\n",
        "l = []\n",
        "\n",
        "# agrega un elemento a la lista, usando `append`\n",
        "l.append(\"A\")\n",
        "l.append(\"d\")\n",
        "l.append(\"d\")\n",
        "\n",
        "print(l)"
      ],
      "execution_count": null,
      "outputs": [
        {
          "output_type": "stream",
          "text": [
            "['A', 'd', 'd']\n"
          ],
          "name": "stdout"
        }
      ]
    },
    {
      "cell_type": "markdown",
      "metadata": {
        "id": "us_H1-KA4u5X"
      },
      "source": [
        "Podemos modificar listas asignando nuevos valores a los elementos de la lista. En lenguaje técnico se dice que la lista es *mutable*."
      ]
    },
    {
      "cell_type": "code",
      "metadata": {
        "colab": {
          "base_uri": "https://localhost:8080/"
        },
        "id": "APTWQxsO4u5X",
        "outputId": "3290938f-bed1-46b5-e1d2-4d9b42bfd285"
      },
      "source": [
        "l[1] = \"p\"\n",
        "l[2] = \"p\"\n",
        "\n",
        "print(l)"
      ],
      "execution_count": null,
      "outputs": [
        {
          "output_type": "stream",
          "text": [
            "['A', 'p', 'p']\n"
          ],
          "name": "stdout"
        }
      ]
    },
    {
      "cell_type": "code",
      "metadata": {
        "colab": {
          "base_uri": "https://localhost:8080/"
        },
        "id": "ABEirKGx4u5X",
        "outputId": "9f2654b7-70ce-4bb4-e451-b57d168c4a3e"
      },
      "source": [
        "l[1:3] = [\"d\", \"d\"]\n",
        "\n",
        "print(l)"
      ],
      "execution_count": null,
      "outputs": [
        {
          "output_type": "stream",
          "text": [
            "['A', 'd', 'd']\n"
          ],
          "name": "stdout"
        }
      ]
    },
    {
      "cell_type": "markdown",
      "metadata": {
        "id": "D2la_KLU4u5Y"
      },
      "source": [
        "Insertar un elemento en una posición específica `insert`"
      ]
    },
    {
      "cell_type": "code",
      "metadata": {
        "colab": {
          "base_uri": "https://localhost:8080/"
        },
        "id": "1q_5wGgU4u5Y",
        "outputId": "239d63d7-ca92-4ca3-b57b-5d3f4a4452d6"
      },
      "source": [
        "l.insert(0, \"i\")\n",
        "l.insert(1, \"n\")\n",
        "l.insert(2, \"s\")\n",
        "l.insert(3, \"e\")\n",
        "l.insert(4, \"r\")\n",
        "l.insert(5, \"t\")\n",
        "\n",
        "print(l)"
      ],
      "execution_count": null,
      "outputs": [
        {
          "output_type": "stream",
          "text": [
            "['i', 'n', 's', 'e', 'r', 't', 'i', 'n', 's', 'e', 'r', 't', 'A', 'd', 'd']\n"
          ],
          "name": "stdout"
        }
      ]
    },
    {
      "cell_type": "markdown",
      "metadata": {
        "id": "hzzrqMwW4u5Y"
      },
      "source": [
        "Eliminar el primer elemento con un valor específico usando 'remove'"
      ]
    },
    {
      "cell_type": "code",
      "metadata": {
        "colab": {
          "base_uri": "https://localhost:8080/",
          "height": 195
        },
        "id": "sOmDlCr94u5Z",
        "outputId": "83bae0d6-c2e5-4fd5-e73d-027ca41a1846"
      },
      "source": [
        "l.remove(\"d\")\n",
        "\n",
        "print(l)"
      ],
      "execution_count": null,
      "outputs": [
        {
          "output_type": "error",
          "ename": "ValueError",
          "evalue": "ignored",
          "traceback": [
            "\u001b[0;31m---------------------------------------------------------------------------\u001b[0m",
            "\u001b[0;31mValueError\u001b[0m                                Traceback (most recent call last)",
            "\u001b[0;32m<ipython-input-45-7050763c85e4>\u001b[0m in \u001b[0;36m<module>\u001b[0;34m()\u001b[0m\n\u001b[0;32m----> 1\u001b[0;31m \u001b[0ml\u001b[0m\u001b[0;34m.\u001b[0m\u001b[0mremove\u001b[0m\u001b[0;34m(\u001b[0m\u001b[0;34m\"d\"\u001b[0m\u001b[0;34m)\u001b[0m\u001b[0;34m\u001b[0m\u001b[0;34m\u001b[0m\u001b[0m\n\u001b[0m\u001b[1;32m      2\u001b[0m \u001b[0;34m\u001b[0m\u001b[0m\n\u001b[1;32m      3\u001b[0m \u001b[0mprint\u001b[0m\u001b[0;34m(\u001b[0m\u001b[0ml\u001b[0m\u001b[0;34m)\u001b[0m\u001b[0;34m\u001b[0m\u001b[0;34m\u001b[0m\u001b[0m\n",
            "\u001b[0;31mValueError\u001b[0m: list.remove(x): x not in list"
          ]
        }
      ]
    },
    {
      "cell_type": "markdown",
      "metadata": {
        "id": "xOZmtY_u4u5Z"
      },
      "source": [
        "Eliminar un elemento en una posición específica usando `del`:"
      ]
    },
    {
      "cell_type": "markdown",
      "metadata": {
        "id": "Z9YALKB94u5Z"
      },
      "source": [
        "Puede introducir `help(list)` para más detalles, o leer la documentación en la red"
      ]
    },
    {
      "cell_type": "markdown",
      "metadata": {
        "id": "Uq2F10FQ4u5a"
      },
      "source": [
        "### Tuplas\n",
        "\n",
        "Tuplas son similares a las listas, excepto que ellas no pueden ser modificadas una vez creadas, es decir, son *inmutables*. \n",
        "\n",
        "En Python, las tuplas son creadas usando la sintaxis `(..., ..., ...)`, o incluso `..., ...`:"
      ]
    },
    {
      "cell_type": "code",
      "metadata": {
        "colab": {
          "base_uri": "https://localhost:8080/"
        },
        "id": "9akxlLZJ4u5a",
        "outputId": "c0c28c17-4447-4601-c397-81affbe255bb"
      },
      "source": [
        "punto = (10, 20)\n",
        "\n",
        "print(punto, type(punto))"
      ],
      "execution_count": null,
      "outputs": [
        {
          "output_type": "stream",
          "text": [
            "(10, 20) <class 'tuple'>\n"
          ],
          "name": "stdout"
        }
      ]
    },
    {
      "cell_type": "code",
      "metadata": {
        "colab": {
          "base_uri": "https://localhost:8080/"
        },
        "id": "F00D_Ux44u5a",
        "outputId": "8803582a-9701-4d88-91b1-ea3bf994fd34"
      },
      "source": [
        "punto = (10, 20)\n",
        "\n",
        "print(punto, type(punto))"
      ],
      "execution_count": null,
      "outputs": [
        {
          "output_type": "stream",
          "text": [
            "(10, 20) <class 'tuple'>\n"
          ],
          "name": "stdout"
        }
      ]
    },
    {
      "cell_type": "markdown",
      "metadata": {
        "id": "MggmpZQZ4u5b"
      },
      "source": [
        "Podemos separar una tupla asignándola a una lista de variables separadas por coma:"
      ]
    },
    {
      "cell_type": "code",
      "metadata": {
        "colab": {
          "base_uri": "https://localhost:8080/"
        },
        "id": "mcVFRCkt4u5b",
        "outputId": "882112a1-2ee8-4fef-9cd3-a8602cda6bda"
      },
      "source": [
        "x, y = punto\n",
        "\n",
        "print(\"x =\", x)\n",
        "print(\"y =\", y)"
      ],
      "execution_count": null,
      "outputs": [
        {
          "output_type": "stream",
          "text": [
            "x = 10\n",
            "y = 20\n"
          ],
          "name": "stdout"
        }
      ]
    },
    {
      "cell_type": "markdown",
      "metadata": {
        "id": "Dq8eSB524u5b"
      },
      "source": [
        "Si intentamos asignar un nuevo valor a un elemento de una tupla obtenemos un error:"
      ]
    },
    {
      "cell_type": "code",
      "metadata": {
        "colab": {
          "base_uri": "https://localhost:8080/",
          "height": 162
        },
        "id": "ieuS-jra4u5b",
        "outputId": "b078b4b5-697c-4aad-ce8c-4484f4c87b41"
      },
      "source": [
        "punto[0] = 20"
      ],
      "execution_count": null,
      "outputs": [
        {
          "output_type": "error",
          "ename": "TypeError",
          "evalue": "ignored",
          "traceback": [
            "\u001b[0;31m---------------------------------------------------------------------------\u001b[0m",
            "\u001b[0;31mTypeError\u001b[0m                                 Traceback (most recent call last)",
            "\u001b[0;32m<ipython-input-50-c7635c5015f3>\u001b[0m in \u001b[0;36m<module>\u001b[0;34m()\u001b[0m\n\u001b[0;32m----> 1\u001b[0;31m \u001b[0mpunto\u001b[0m\u001b[0;34m[\u001b[0m\u001b[0;36m0\u001b[0m\u001b[0;34m]\u001b[0m \u001b[0;34m=\u001b[0m \u001b[0;36m20\u001b[0m\u001b[0;34m\u001b[0m\u001b[0;34m\u001b[0m\u001b[0m\n\u001b[0m",
            "\u001b[0;31mTypeError\u001b[0m: 'tuple' object does not support item assignment"
          ]
        }
      ]
    },
    {
      "cell_type": "markdown",
      "metadata": {
        "id": "qhADAWkJ4u5c"
      },
      "source": [
        "### Diccionarios\n",
        "\n",
        "Los diccionarios son también como listas, excepto que cada elemento es un par clave-valor. La sintaxis de los diccionarios es `{clave1 : valor1, ...}`:"
      ]
    },
    {
      "cell_type": "code",
      "metadata": {
        "id": "NmZ9lvPf4u5c",
        "colab": {
          "base_uri": "https://localhost:8080/"
        },
        "outputId": "97f88505-2c4b-4fa6-877b-8340cc726ea2"
      },
      "source": [
        "parametros = {\"clave1\" : 1.0, \"clave2\" : True, \"clave3\" : \"hola\"}\n",
        "\n",
        "print(type(parametros))\n",
        "print(parametros)"
      ],
      "execution_count": null,
      "outputs": [
        {
          "output_type": "stream",
          "text": [
            "<class 'dict'>\n",
            "{'clave1': 1.0, 'clave2': True, 'clave3': 'hola'}\n"
          ],
          "name": "stdout"
        }
      ]
    },
    {
      "cell_type": "code",
      "metadata": {
        "id": "g-N_9-NT4u5d",
        "colab": {
          "base_uri": "https://localhost:8080/"
        },
        "outputId": "24394da0-e5f0-4e30-d394-55757206e0e3"
      },
      "source": [
        "parametros[\"clave1\"]"
      ],
      "execution_count": null,
      "outputs": [
        {
          "output_type": "execute_result",
          "data": {
            "text/plain": [
              "1.0"
            ]
          },
          "metadata": {
            "tags": []
          },
          "execution_count": 53
        }
      ]
    },
    {
      "cell_type": "code",
      "metadata": {
        "id": "yHyj_YAN4u5d",
        "colab": {
          "base_uri": "https://localhost:8080/"
        },
        "outputId": "33c5cdeb-5209-41d3-c640-d485bc2669b8"
      },
      "source": [
        "print(\"clave1 --> \" + str(parametros[\"clave1\"]))\n",
        "print(\"clave2 --> \" + str(parametros[\"clave2\"]))\n",
        "print(\"clave3 --> \" + str(parametros[\"clave3\"]))"
      ],
      "execution_count": null,
      "outputs": [
        {
          "output_type": "stream",
          "text": [
            "clave1 --> 1.0\n",
            "clave2 --> True\n",
            "clave3 --> hola\n"
          ],
          "name": "stdout"
        }
      ]
    },
    {
      "cell_type": "code",
      "metadata": {
        "id": "CDtR4tMi4u5d",
        "colab": {
          "base_uri": "https://localhost:8080/"
        },
        "outputId": "0c28d369-276e-46f9-cddf-ede3d4b7132f"
      },
      "source": [
        "parametros[\"clave1\"] = \"A\"\n",
        "parametros[\"clave2\"] = (4<2)\n",
        "\n",
        "# agrega una nueva entrada\n",
        "parametros[\"clave4\"] = \"D\"\n",
        "\n",
        "print(\"clave1 = \" + str(parametros[\"clave1\"]))\n",
        "print(\"clave2 = \" + str(parametros[\"clave2\"]))\n",
        "print(\"clave3 = \" + str(parametros[\"clave3\"]))\n",
        "print(\"clave4 = \" + str(parametros[\"clave4\"]))"
      ],
      "execution_count": null,
      "outputs": [
        {
          "output_type": "stream",
          "text": [
            "clave1 = A\n",
            "clave2 = False\n",
            "clave3 = hola\n",
            "clave4 = D\n"
          ],
          "name": "stdout"
        }
      ]
    },
    {
      "cell_type": "markdown",
      "metadata": {
        "id": "7anqBUn04u5e"
      },
      "source": [
        "## Control de flujo"
      ]
    },
    {
      "cell_type": "markdown",
      "metadata": {
        "id": "zCVk2cFf4u5e"
      },
      "source": [
        "### Sentencias condicionales: if, elif, else\n",
        "\n",
        "La sintaxis Python para la ejecución condicional de código usa las palabras clave `if`, `elif` (else if), `else`:"
      ]
    },
    {
      "cell_type": "code",
      "metadata": {
        "id": "y6Hth3rH4u5e",
        "colab": {
          "base_uri": "https://localhost:8080/"
        },
        "outputId": "3fa8bb34-0145-402d-f90a-233711c6921e"
      },
      "source": [
        "afirmacion1 = False\n",
        "afirmacion2 = True\n",
        "\n",
        "if afirmacion1:\n",
        "    print(\"afirmacion1 es verdadera\")\n",
        "\n",
        "elif afirmacion2:\n",
        "    print(\"afirmacion2 es verdadera\")\n",
        "    \n",
        "else:\n",
        "    print(\"afirmacion1 y afirmacion2 son falsas\")"
      ],
      "execution_count": null,
      "outputs": [
        {
          "output_type": "stream",
          "text": [
            "afirmacion2 es verdadera\n"
          ],
          "name": "stdout"
        }
      ]
    },
    {
      "cell_type": "markdown",
      "metadata": {
        "id": "J9FhIqLw4u5f"
      },
      "source": [
        "Aquí encontramos por primera vez un aspecto pecular e inusual del lenguaje Python: Los bloques del programa son definidos por su nivel de indentación (la cantidad de espacio antes de cada linea). \n",
        "\n",
        "Compare con el código equivalente en C:\n",
        "\n",
        "    if (afirmacion1)\n",
        "    {\n",
        "        printf(\"afirmacion1 es verdadera\\n\");\n",
        "    }\n",
        "    else if (afirmacion2)\n",
        "    {\n",
        "        printf(\"afirmacion1 es verdadera\\n\");\n",
        "    }\n",
        "    else\n",
        "    {\n",
        "        printf(\"afirmacion1 y afirmacion2 son falsas\\n\");\n",
        "    }\n",
        "\n",
        "En C los bloques son definidos por los paréntesis llaves `{` y `}`. El nivel de indentación (espacio en blanco antes del código) no importa (es completamente opcional). \n",
        "\n",
        "En Python, la extensión de un bloque de código es definido por el nivel de indentación (usualmente un tab o cuatro espacios en blanco). Esto significa que debemos ser cuidados@s de indentar nuestro código correctamente, de lo contrario tendremos errores de sintaxis. Además, pueden presentarse errores en la ejecución si se es inconsistente en la forma que se realiza el indentado en un mismo programa.\n",
        "\n",
        "**Ejemplos:**"
      ]
    },
    {
      "cell_type": "code",
      "metadata": {
        "id": "SclFnlzc4u5f",
        "colab": {
          "base_uri": "https://localhost:8080/"
        },
        "outputId": "dd009725-9b87-4800-a468-241bb69a036f"
      },
      "source": [
        "if afirmacion1:\n",
        "    if afirmacion2:\n",
        "        print(\"tanto afirmacion1 como afirmacion2 son verdaderas\")"
      ],
      "execution_count": null,
      "outputs": [
        {
          "output_type": "stream",
          "text": [
            "tanto afirmacion1 como afirmacion2 son verdaderas\n"
          ],
          "name": "stdout"
        }
      ]
    },
    {
      "cell_type": "code",
      "metadata": {
        "id": "1oxzoK1w4u5g",
        "colab": {
          "base_uri": "https://localhost:8080/",
          "height": 128
        },
        "outputId": "19ed0bcf-ec50-4229-c661-8ad8f6d6f146"
      },
      "source": [
        "# Mala indentación!\n",
        "if afirmacion1:\n",
        "    if afirmacion2:\n",
        "      \n",
        "print(\"tanto afirmacion1 como afirmacion2 son verdaderas\")  # esta línea está mal indentada"
      ],
      "execution_count": null,
      "outputs": [
        {
          "output_type": "error",
          "ename": "IndentationError",
          "evalue": "ignored",
          "traceback": [
            "\u001b[0;36m  File \u001b[0;32m\"<ipython-input-71-72b1b99f8804>\"\u001b[0;36m, line \u001b[0;32m4\u001b[0m\n\u001b[0;31m    print(\"tanto afirmacion1 como afirmacion2 son verdaderas\")  # esta línea está mal indentada\u001b[0m\n\u001b[0m                                                                                               ^\u001b[0m\n\u001b[0;31mIndentationError\u001b[0m\u001b[0;31m:\u001b[0m expected an indented block\n"
          ]
        }
      ]
    },
    {
      "cell_type": "code",
      "metadata": {
        "id": "qXgisIVU4u5h",
        "colab": {
          "base_uri": "https://localhost:8080/"
        },
        "outputId": "fc32d819-dc1b-4f63-c98a-7960cbb114ee"
      },
      "source": [
        "if afirmacion1:\n",
        "    print('Hola')\n",
        "print('Adios')"
      ],
      "execution_count": null,
      "outputs": [
        {
          "output_type": "stream",
          "text": [
            "Hola\n",
            "Adios\n"
          ],
          "name": "stdout"
        }
      ]
    },
    {
      "cell_type": "code",
      "metadata": {
        "collapsed": true,
        "id": "xBRO-Sb64u5h"
      },
      "source": [
        "afirmacion1 = False \n",
        "\n",
        "if afirmacion1:\n",
        "    print(\"afirmacion1 es verdadera\")\n",
        "    \n",
        "    print(\"aun estamos dentro del bloque if\")"
      ],
      "execution_count": null,
      "outputs": []
    },
    {
      "cell_type": "code",
      "metadata": {
        "id": "KePowODL4u5i"
      },
      "source": [
        "if afirmacion1:\n",
        "    print(\"afirmacion1 es verdadera\")\n",
        "    \n",
        "print(\"ahora estamos fuera del bloque\")"
      ],
      "execution_count": null,
      "outputs": []
    },
    {
      "cell_type": "markdown",
      "metadata": {
        "id": "yJx6He1E4u5i"
      },
      "source": [
        "## Ciclos\n",
        "\n",
        "En Python, los ciclos (loops) puede ser programados de varias maneras diferentes. La forma más común es usando un ciclo `for`, que se usa junto con objetos iterables, como por ejemplos las listas. La sintaxis básica es:\n",
        "\n",
        "\n",
        "**Ciclos `for`**:"
      ]
    },
    {
      "cell_type": "code",
      "metadata": {
        "id": "g8M3nRiE4u5i",
        "colab": {
          "base_uri": "https://localhost:8080/"
        },
        "outputId": "971b1a7f-dbfa-4b85-bc6e-0546a110a714"
      },
      "source": [
        "for x in [1,2,3]:\n",
        "    print(x)"
      ],
      "execution_count": null,
      "outputs": [
        {
          "output_type": "stream",
          "text": [
            "1\n",
            "2\n",
            "3\n"
          ],
          "name": "stdout"
        }
      ]
    },
    {
      "cell_type": "markdown",
      "metadata": {
        "id": "C-OL_TQY4u5j"
      },
      "source": [
        "El ciclo `for` itera sobre los elementos de la lista suministrada y ejecuta el bloque suministrado una vez para cada elemento. Cualquier tipo de lista puede ser usada para un ciclo `for`. Por ejemplo:"
      ]
    },
    {
      "cell_type": "code",
      "metadata": {
        "id": "CjJ7BACr4u5j",
        "colab": {
          "base_uri": "https://localhost:8080/"
        },
        "outputId": "b8b833da-c229-4538-969f-c98bc5a5eeb6"
      },
      "source": [
        "for x in range(4): # por defecto range comienza con 0\n",
        "    print(x)"
      ],
      "execution_count": null,
      "outputs": [
        {
          "output_type": "stream",
          "text": [
            "0\n",
            "1\n",
            "2\n",
            "3\n"
          ],
          "name": "stdout"
        }
      ]
    },
    {
      "cell_type": "markdown",
      "metadata": {
        "id": "ogBL3B7l4u5j"
      },
      "source": [
        "Nota: `range(4)` no incluye el 4 !"
      ]
    },
    {
      "cell_type": "code",
      "metadata": {
        "id": "BXCmiugu4u5k",
        "colab": {
          "base_uri": "https://localhost:8080/"
        },
        "outputId": "475154b6-e214-40fc-9cfd-86d915a246ac"
      },
      "source": [
        "for x in range(-3,3):\n",
        "    print(x)"
      ],
      "execution_count": null,
      "outputs": [
        {
          "output_type": "stream",
          "text": [
            "-3\n",
            "-2\n",
            "-1\n",
            "0\n",
            "1\n",
            "2\n"
          ],
          "name": "stdout"
        }
      ]
    },
    {
      "cell_type": "code",
      "metadata": {
        "id": "C1ZeBVmU4u5k",
        "colab": {
          "base_uri": "https://localhost:8080/"
        },
        "outputId": "ec3a68b4-694f-4a90-d08b-55d6b5089b24"
      },
      "source": [
        "for i in [\"computación\", \"científica\", \"con\", \"Python\"]:\n",
        "    print(palabra)"
      ],
      "execution_count": null,
      "outputs": [
        {
          "output_type": "stream",
          "text": [
            "computación\n",
            "científica\n",
            "con\n",
            "Python\n"
          ],
          "name": "stdout"
        }
      ]
    },
    {
      "cell_type": "code",
      "metadata": {
        "id": "UyY5BpYc4u5k"
      },
      "source": [
        "'hola' + ' mundo'"
      ],
      "execution_count": null,
      "outputs": []
    },
    {
      "cell_type": "code",
      "metadata": {
        "colab": {
          "base_uri": "https://localhost:8080/"
        },
        "id": "xyYyV_jNOQgB",
        "outputId": "daf76906-5953-4204-874e-173d8d9c699c"
      },
      "source": [
        "parametros.items()"
      ],
      "execution_count": null,
      "outputs": [
        {
          "output_type": "execute_result",
          "data": {
            "text/plain": [
              "dict_items([('clave1', 'A'), ('clave2', False), ('clave3', 'hola'), ('clave4', 'D')])"
            ]
          },
          "metadata": {
            "tags": []
          },
          "execution_count": 79
        }
      ]
    },
    {
      "cell_type": "markdown",
      "metadata": {
        "id": "_EqxxQ0T4u5l"
      },
      "source": [
        "Para iterar sobre pares clave-valor en un diccionario:"
      ]
    },
    {
      "cell_type": "code",
      "metadata": {
        "id": "89q_BB994u5l",
        "colab": {
          "base_uri": "https://localhost:8080/"
        },
        "outputId": "b9cdf351-54ef-4635-e14e-263d81c49fb1"
      },
      "source": [
        "for c, v in parametros.items():\n",
        "    print(c + \" = \" + str(v))"
      ],
      "execution_count": null,
      "outputs": [
        {
          "output_type": "stream",
          "text": [
            "clave1 = A\n",
            "clave2 = False\n",
            "clave3 = hola\n",
            "clave4 = D\n"
          ],
          "name": "stdout"
        }
      ]
    },
    {
      "cell_type": "code",
      "metadata": {
        "colab": {
          "base_uri": "https://localhost:8080/"
        },
        "id": "MlR0Z7R7O-GK",
        "outputId": "4bde3b43-5736-411b-f585-90234efd1a11"
      },
      "source": [
        "list(enumerate(range(-3,3)))"
      ],
      "execution_count": null,
      "outputs": [
        {
          "output_type": "execute_result",
          "data": {
            "text/plain": [
              "[(0, -3), (1, -2), (2, -1), (3, 0), (4, 1), (5, 2)]"
            ]
          },
          "metadata": {
            "tags": []
          },
          "execution_count": 85
        }
      ]
    },
    {
      "cell_type": "markdown",
      "metadata": {
        "id": "OeIfqK5d4u5l"
      },
      "source": [
        "Algunas veces es útil tener acceso a los índices de los valores mientras se itera sobre una lista. Podemos usar la función `enumerate` para esto:"
      ]
    },
    {
      "cell_type": "code",
      "metadata": {
        "id": "YeN_LZG-4u5m",
        "colab": {
          "base_uri": "https://localhost:8080/"
        },
        "outputId": "355e2e78-d06b-4790-c1ef-99304a78ab9f"
      },
      "source": [
        "list(enumerate(range(-3,3)))"
      ],
      "execution_count": null,
      "outputs": [
        {
          "output_type": "execute_result",
          "data": {
            "text/plain": [
              "[(0, -3), (1, -2), (2, -1), (3, 0), (4, 1), (5, 2)]"
            ]
          },
          "metadata": {
            "tags": []
          },
          "execution_count": 80
        }
      ]
    },
    {
      "cell_type": "code",
      "metadata": {
        "id": "Il-reJ3I4u5m",
        "colab": {
          "base_uri": "https://localhost:8080/"
        },
        "outputId": "d8833cfa-2c4c-4aa7-ac0b-13fe1d6fb260"
      },
      "source": [
        "for idx, x in enumerate(range(-3,3)):\n",
        "    print(idx, x)"
      ],
      "execution_count": null,
      "outputs": [
        {
          "output_type": "stream",
          "text": [
            "0 -3\n",
            "1 -2\n",
            "2 -1\n",
            "3 0\n",
            "4 1\n",
            "5 2\n"
          ],
          "name": "stdout"
        }
      ]
    },
    {
      "cell_type": "markdown",
      "metadata": {
        "id": "5dWULreh4u5m"
      },
      "source": [
        "** Listas: Creando listas usando ciclos `for`**:\n",
        "\n",
        "Una forma conveniente y compacta de inicializar listas:"
      ]
    },
    {
      "cell_type": "code",
      "metadata": {
        "id": "FqPxg0Od4u5n",
        "colab": {
          "base_uri": "https://localhost:8080/"
        },
        "outputId": "12cdb227-b088-4ac5-bac7-aaf8efe68afa"
      },
      "source": [
        "l1 = [x**2 for x in range(0,5)]\n",
        "\n",
        "print(l1)"
      ],
      "execution_count": null,
      "outputs": [
        {
          "output_type": "stream",
          "text": [
            "[0, 1, 4, 9, 16]\n"
          ],
          "name": "stdout"
        }
      ]
    },
    {
      "cell_type": "markdown",
      "metadata": {
        "id": "4X0KuyiQ4u5n"
      },
      "source": [
        "**Ciclos `while`**:"
      ]
    },
    {
      "cell_type": "code",
      "metadata": {
        "id": "2GaUWnik4u5n",
        "colab": {
          "base_uri": "https://localhost:8080/"
        },
        "outputId": "78d7625c-118f-471e-f3c1-9c5b12a0e038"
      },
      "source": [
        "i = 0\n",
        "\n",
        "while i < 5:\n",
        "    print(i)    \n",
        "    i = i + 1\n",
        "    \n",
        "print(\"listo\")"
      ],
      "execution_count": null,
      "outputs": [
        {
          "output_type": "stream",
          "text": [
            "0\n",
            "1\n",
            "2\n",
            "3\n",
            "4\n",
            "listo\n"
          ],
          "name": "stdout"
        }
      ]
    },
    {
      "cell_type": "markdown",
      "metadata": {
        "id": "ELAKf4ZX4u5o"
      },
      "source": [
        "Note que el comando`print(\"listo\")` no es parte del cuerpo del ciclo `while`, debido a su indentación."
      ]
    },
    {
      "cell_type": "markdown",
      "metadata": {
        "id": "wYZNBOk34u5o"
      },
      "source": [
        "## Funciones\n",
        "\n",
        "En Python una función es definida usando la palabra clave `def`, seguida de un nombre para la función, una variable entre paréntesis `()`, y el símbolo de dos puntos `:`. El siguiente código, con un nivel adicional de indentación, es el cuerpo de la función."
      ]
    },
    {
      "cell_type": "code",
      "metadata": {
        "collapsed": true,
        "id": "Rqybwnph4u5o"
      },
      "source": [
        "def func0():   \n",
        "    print(\"test\")"
      ],
      "execution_count": null,
      "outputs": []
    },
    {
      "cell_type": "code",
      "metadata": {
        "id": "wwKygMvC4u5o",
        "colab": {
          "base_uri": "https://localhost:8080/"
        },
        "outputId": "4da0036b-aed3-41c5-e5b4-400ff4f54248"
      },
      "source": [
        "func0()"
      ],
      "execution_count": null,
      "outputs": [
        {
          "output_type": "stream",
          "text": [
            "test\n"
          ],
          "name": "stdout"
        }
      ]
    },
    {
      "cell_type": "markdown",
      "metadata": {
        "id": "NJteTZnf4u5p"
      },
      "source": [
        "En forma opcional, pero muy recomendada, podemos definir un \"docstring\", que es una descripción del propósito y comportamiento de la función. El docstring debería ser incluido directamente después de la definición de la función, antes del código en el cuerpo de la función."
      ]
    },
    {
      "cell_type": "code",
      "metadata": {
        "id": "alJy4ggK4u5p"
      },
      "source": [
        "def func1(s):\n",
        "    \"\"\"\n",
        "    Imprime la cadena 's' y cuántos caracteres tiene\n",
        "    \"\"\"\n",
        "    \n",
        "    print(s + \" tiene \" + str(len(s)) + \" caracteres\")\n"
      ],
      "execution_count": null,
      "outputs": []
    },
    {
      "cell_type": "code",
      "metadata": {
        "id": "fTnqSEDp4u5p",
        "colab": {
          "base_uri": "https://localhost:8080/"
        },
        "outputId": "b89a5361-ad90-468e-bd36-4f21f9db9be1"
      },
      "source": [
        "help(func1)"
      ],
      "execution_count": null,
      "outputs": [
        {
          "output_type": "stream",
          "text": [
            "Help on function func1 in module __main__:\n",
            "\n",
            "func1(s)\n",
            "    Imprime la cadena 's' y cuántos caracteres tiene\n",
            "\n"
          ],
          "name": "stdout"
        }
      ]
    },
    {
      "cell_type": "code",
      "metadata": {
        "id": "RuNniMkp4u5q",
        "colab": {
          "base_uri": "https://localhost:8080/"
        },
        "outputId": "2ce8dfb7-317b-4c62-b0ce-00d669c1311a"
      },
      "source": [
        "func1(\"test\")"
      ],
      "execution_count": null,
      "outputs": [
        {
          "output_type": "stream",
          "text": [
            "test tiene 4 caracteres\n"
          ],
          "name": "stdout"
        }
      ]
    },
    {
      "cell_type": "markdown",
      "metadata": {
        "id": "cqp5ogko4u5q"
      },
      "source": [
        "Funciones que retornan un valor usan la palabra clave `return`:"
      ]
    },
    {
      "cell_type": "code",
      "metadata": {
        "id": "kuMri9uV4u5q"
      },
      "source": [
        "def cuadrado(x):\n",
        "    \"\"\"\n",
        "    Calcula el cuadrado de x.\n",
        "    \"\"\"\n",
        "    return x**2"
      ],
      "execution_count": null,
      "outputs": []
    },
    {
      "cell_type": "code",
      "metadata": {
        "id": "_-ol9GAW4u5r",
        "colab": {
          "base_uri": "https://localhost:8080/"
        },
        "outputId": "ecdb772c-eeee-409e-be31-4333ca33c18e"
      },
      "source": [
        "cuadrado(4)"
      ],
      "execution_count": null,
      "outputs": [
        {
          "output_type": "execute_result",
          "data": {
            "text/plain": [
              "16"
            ]
          },
          "metadata": {
            "tags": []
          },
          "execution_count": 95
        }
      ]
    },
    {
      "cell_type": "markdown",
      "metadata": {
        "id": "SsT6KsJo4u5r"
      },
      "source": [
        "Podemos retornar múltiples valores desde una función usando las tuplas (ver más arriba):"
      ]
    },
    {
      "cell_type": "code",
      "metadata": {
        "id": "_P6ffrqC4u5r"
      },
      "source": [
        "def potencias(x):\n",
        "    \"\"\"\n",
        "    Calcula algunas potencias de x.\n",
        "    \"\"\"\n",
        "    return x**2, x**3, x**4"
      ],
      "execution_count": null,
      "outputs": []
    },
    {
      "cell_type": "code",
      "metadata": {
        "id": "ktY5yyDm4u5s",
        "colab": {
          "base_uri": "https://localhost:8080/"
        },
        "outputId": "49797738-d3c9-43c6-9cb9-d22340531963"
      },
      "source": [
        "potencias(3)"
      ],
      "execution_count": null,
      "outputs": [
        {
          "output_type": "execute_result",
          "data": {
            "text/plain": [
              "(9, 27, 81)"
            ]
          },
          "metadata": {
            "tags": []
          },
          "execution_count": 97
        }
      ]
    },
    {
      "cell_type": "code",
      "metadata": {
        "id": "ryBFoGKy4u5s",
        "colab": {
          "base_uri": "https://localhost:8080/"
        },
        "outputId": "8f4a97bf-eb1c-42f9-cd70-34c88a874afb"
      },
      "source": [
        "x2, x3, x4 = potencias(3)\n",
        "\n",
        "print(x3)"
      ],
      "execution_count": null,
      "outputs": [
        {
          "output_type": "stream",
          "text": [
            "27\n"
          ],
          "name": "stdout"
        }
      ]
    },
    {
      "cell_type": "markdown",
      "metadata": {
        "id": "PM40YDhZ4u5s"
      },
      "source": [
        "### Argumentos por defecto y argumentos de palabra clave\n",
        "\n",
        "En la definición de una función, podemos asignar valores por defecto a los argumentos de la función:"
      ]
    },
    {
      "cell_type": "code",
      "metadata": {
        "collapsed": true,
        "id": "NZOQLA074u5t"
      },
      "source": [
        "def mifunc(x, p=2, debug=False):\n",
        "    if debug:\n",
        "        print(\"evaluando mifunc para x = \" + str(x) + \" usando el exponente p = \" + str(p))\n",
        "    return x**p"
      ],
      "execution_count": null,
      "outputs": []
    },
    {
      "cell_type": "markdown",
      "metadata": {
        "id": "eHM9Mi-D4u5t"
      },
      "source": [
        "Si no suministramos un valor para el argumento `debug` al llamar a la función `mifunc` se considera el valor definido por defecto:"
      ]
    },
    {
      "cell_type": "code",
      "metadata": {
        "id": "32Jbz5UM4u5t",
        "colab": {
          "base_uri": "https://localhost:8080/"
        },
        "outputId": "0ceb3d9f-2316-40ad-898a-9cb8dc65f1d3"
      },
      "source": [
        "mifunc(5,debug=True)"
      ],
      "execution_count": null,
      "outputs": [
        {
          "output_type": "stream",
          "text": [
            "evaluando mifunc para x = 5 usando el exponente p = 2\n"
          ],
          "name": "stdout"
        },
        {
          "output_type": "execute_result",
          "data": {
            "text/plain": [
              "25"
            ]
          },
          "metadata": {
            "tags": []
          },
          "execution_count": 106
        }
      ]
    },
    {
      "cell_type": "code",
      "metadata": {
        "id": "eDNqG50E4u5t"
      },
      "source": [
        "mifunc(5, debug=True)"
      ],
      "execution_count": null,
      "outputs": []
    },
    {
      "cell_type": "markdown",
      "metadata": {
        "id": "xfh7wpmY4u5u"
      },
      "source": [
        "Si listamos explícitamente el nombre de los argumentos al llamar una función, ellos no necesitan estar en el mismo orden usado en la definición de la función. Esto es llamado argumentos *de palabra clave* (keyword), y son a menudo muy útiles en funciones que requieren muchos argumentos opcionales."
      ]
    },
    {
      "cell_type": "code",
      "metadata": {
        "id": "Abla_aBH4u5u"
      },
      "source": [
        "mifunc(p=3, debug=True, x=7)"
      ],
      "execution_count": null,
      "outputs": []
    },
    {
      "cell_type": "markdown",
      "metadata": {
        "id": "KNU_UGHC4u5u"
      },
      "source": [
        "### Funciones sin nombre (funciones lambda)\n",
        "\n",
        "En Python podemos también crear funciones sin nombre, usando la palabra clave `lambda`:"
      ]
    },
    {
      "cell_type": "code",
      "metadata": {
        "collapsed": true,
        "id": "9gqzxmpL4u5v"
      },
      "source": [
        "f1 = lambda x: x**2\n",
        "    \n",
        "# es equivalente a \n",
        "\n",
        "def f2(x):\n",
        "    return x**2"
      ],
      "execution_count": null,
      "outputs": []
    },
    {
      "cell_type": "code",
      "metadata": {
        "id": "IiI3VzZV4u5v",
        "colab": {
          "base_uri": "https://localhost:8080/"
        },
        "outputId": "5027e28b-a891-4cfb-cf80-d04fa51b649f"
      },
      "source": [
        "f1(2), f2(2)"
      ],
      "execution_count": null,
      "outputs": [
        {
          "output_type": "execute_result",
          "data": {
            "text/plain": [
              "(4, 4)"
            ]
          },
          "metadata": {
            "tags": []
          },
          "execution_count": 108
        }
      ]
    },
    {
      "cell_type": "markdown",
      "metadata": {
        "id": "d7arFj-y4u5v"
      },
      "source": [
        "Esta técnica es útil, por ejemplo, cuando queremos pasar una función simple como argumento de otra función, como en este caso:"
      ]
    },
    {
      "cell_type": "code",
      "metadata": {
        "id": "5g9mUIlv4u5w",
        "colab": {
          "base_uri": "https://localhost:8080/"
        },
        "outputId": "8dee8201-4e81-48ec-aaac-6e16b46c2589"
      },
      "source": [
        "# map es una función predefinida en Python\n",
        "map(lambda x: x**2, range(-3,4))"
      ],
      "execution_count": null,
      "outputs": [
        {
          "output_type": "execute_result",
          "data": {
            "text/plain": [
              "<map at 0x7f75bf564e10>"
            ]
          },
          "metadata": {
            "tags": []
          },
          "execution_count": 109
        }
      ]
    },
    {
      "cell_type": "code",
      "metadata": {
        "id": "J5jTaUzT4u5w",
        "colab": {
          "base_uri": "https://localhost:8080/"
        },
        "outputId": "d92613aa-d7fe-4407-813a-19a6264a65a6"
      },
      "source": [
        "# en Python 3 podemos usar `list(...)` para convertir la iteración a una lista explícita\n",
        "list(map(lambda x: x**2, range(-3,4)))"
      ],
      "execution_count": null,
      "outputs": [
        {
          "output_type": "execute_result",
          "data": {
            "text/plain": [
              "[9, 4, 1, 0, 1, 4, 9]"
            ]
          },
          "metadata": {
            "tags": []
          },
          "execution_count": 110
        }
      ]
    },
    {
      "cell_type": "markdown",
      "metadata": {
        "id": "OMtC2Xm-4u5w"
      },
      "source": [
        "## Clases\n",
        "\n",
        "Las clases son una característica clave de la programación orientada al objeto. Una clase es una estructura para representar un objeto y las operaciones que pueden ser realizadas sobre el objeto. \n",
        "\n",
        "En Python una clase puede contener *atributos* (variables) y *métodos* (funciones).\n",
        "\n",
        "En Python una clase es definida en forma similar a una función, pero usando la palabra clave `class`, y la definición de la clase usualmente contiene algunas definiciones de métodos (una función en una clase).\n",
        "\n",
        "* Cada método de una clase debería tener un argumento `self` como su primer argumento. Este objeto es una autoreferencia.\n",
        "\n",
        "* Algunos nombres de métodos de clases tienen un significado especial, por ejemplo:\n",
        "\n",
        " * `__init__`: El nombre del método que es invocado cuando el objeto es creado por primera vez.\n",
        " * `__str__` : Un método que es invocado cuando se necesita una simple representación de cadena de la clase, como por ejemplo cuando se imprime.\n",
        " * Existen muchos otros métodos especiales, ver http://docs.python.org/2/reference/datamodel.html#special-method-names\n",
        " \n",
        "### Ejemplo: Puntos en 2D"
      ]
    },
    {
      "cell_type": "code",
      "metadata": {
        "id": "LgnN3Cnn4u5x"
      },
      "source": [
        "class Punto:\n",
        "    \"\"\"\n",
        "    Clase simple para representar un punto en un sistema de coordenadas cartesiano bidimensional.\n",
        "    \"\"\"\n",
        "    \n",
        "    def __init__(self, x, y):\n",
        "        \"\"\"\n",
        "        Crea un nuevo punto en x, y.\n",
        "        \"\"\"\n",
        "        self.x = x\n",
        "        self.y = y\n",
        "        self.var1 = 10\n",
        "\n",
        "\n",
        "    def traslada(self, dx, dy):\n",
        "        \"\"\"\n",
        "        Traslada el punto en dx y dy en las direcciones x e y respectivamente.\n",
        "        \"\"\"\n",
        "        self.x = self.x + dx \n",
        "        self.y += dy\n",
        "        \n",
        "    def __str__(self):\n",
        "        return \"Punto en [%f, %f]\" % (self.x, self.y)"
      ],
      "execution_count": null,
      "outputs": []
    },
    {
      "cell_type": "markdown",
      "metadata": {
        "id": "IEy29ghB4u5x"
      },
      "source": [
        "Ahora creamos un \"Punto\", es decir, una instancia de la clase \"Punto\":"
      ]
    },
    {
      "cell_type": "code",
      "metadata": {
        "id": "sR9NzUT94u5x",
        "colab": {
          "base_uri": "https://localhost:8080/"
        },
        "outputId": "d8e63db1-ada4-44e3-edd7-8eb495b7f207"
      },
      "source": [
        "p1 = Punto(0,0) # esto invoca el método __init__ en la clase Punto\n",
        "\n",
        "print(p1)         # esto invoca el método __str__ "
      ],
      "execution_count": null,
      "outputs": [
        {
          "output_type": "stream",
          "text": [
            "Punto en [0.000000, 0.000000]\n"
          ],
          "name": "stdout"
        }
      ]
    },
    {
      "cell_type": "code",
      "metadata": {
        "id": "t_H668ts4u5y",
        "colab": {
          "base_uri": "https://localhost:8080/"
        },
        "outputId": "05037bba-140a-4c0a-98b4-de190bfe8d84"
      },
      "source": [
        "type(p1)"
      ],
      "execution_count": null,
      "outputs": [
        {
          "output_type": "execute_result",
          "data": {
            "text/plain": [
              "__main__.Punto"
            ]
          },
          "metadata": {
            "tags": []
          },
          "execution_count": 119
        }
      ]
    },
    {
      "cell_type": "markdown",
      "metadata": {
        "id": "z9ls0wZh4u5y"
      },
      "source": [
        "Si ahora ejecutamos"
      ]
    },
    {
      "cell_type": "code",
      "metadata": {
        "id": "6KfF3o6w4u5y",
        "colab": {
          "base_uri": "https://localhost:8080/"
        },
        "outputId": "64069771-f9a6-42c6-955d-a6ab1ae5cc07"
      },
      "source": [
        "p2 = Punto(1,1)\n",
        "\n",
        "p1.traslada(0.25,1.5)\n",
        "\n",
        "print(p1)\n",
        "print(p2)"
      ],
      "execution_count": null,
      "outputs": [
        {
          "output_type": "stream",
          "text": [
            "Punto en [0.250000, 1.500000]\n",
            "Punto en [1.000000, 1.000000]\n"
          ],
          "name": "stdout"
        }
      ]
    },
    {
      "cell_type": "markdown",
      "metadata": {
        "id": "qgd5czQQ4u5z"
      },
      "source": [
        "Estamos definiendo una nueva instancia (un nuevo \"punto\", asignado a la variable p2), y luego hemos \"invocado el método `traslada` en la instancia `p1` de la clase punto\" lo que representa la acción de realizar una traslación del punto p1."
      ]
    },
    {
      "cell_type": "markdown",
      "metadata": {
        "id": "nm0k94TO4u56"
      },
      "source": [
        "Note que llamar a métodos de clases puede modificar el estado de esa instancia de clase particular, pero no afecta otras instancias de la clase o alguna otra variable global.\n",
        "\n",
        "Esto es una de las cosas buenas de un diseño orientado al objeto: código como las funciones y variables relacionadas son agrupadas en entidades separadas e independientes. "
      ]
    },
    {
      "cell_type": "markdown",
      "metadata": {
        "id": "n7MMrbd24u57"
      },
      "source": [
        "## Módulos"
      ]
    },
    {
      "cell_type": "markdown",
      "metadata": {
        "id": "6Z_4wrxv4u57"
      },
      "source": [
        "La mayoría de la funcionalidad en Python es provista por *módulos*. La [*Librería Estándar*](https://docs.python.org/2/library/) de Python es una gran colección de  módulos que proveen implementaciones *multiplataforma* de recursos tales como el acceso al sistema operativo, entrada/salido de archivos (file I/O), manejo de cadenas, comunicación en redes, y mucho más.\n",
        "\n",
        "Para usar un módulo en un programa Python éste debe primero ser **importado**, para lo cual se usa el comando `import`. Por ejemplo, para importar el módulo `math`, que contiene muchas funciones matemáticas estándar, podemos usar:"
      ]
    },
    {
      "cell_type": "code",
      "metadata": {
        "id": "3QK_2OD54u58"
      },
      "source": [
        "import math"
      ],
      "execution_count": null,
      "outputs": []
    },
    {
      "cell_type": "markdown",
      "metadata": {
        "id": "J4SAl3z44u58"
      },
      "source": [
        "Esto importa el módulo completo y lo deja disponible para su uso en el programa. Por ejemplo, podemos escribir:"
      ]
    },
    {
      "cell_type": "code",
      "metadata": {
        "id": "7ot1CMYx4u59",
        "colab": {
          "base_uri": "https://localhost:8080/"
        },
        "outputId": "dffcdf35-fc9a-4bbc-ab2d-8107a9eeb997"
      },
      "source": [
        "import math\n",
        "\n",
        "x = math.cos(2*math.pi)\n",
        "\n",
        "print(x)"
      ],
      "execution_count": null,
      "outputs": [
        {
          "output_type": "stream",
          "text": [
            "1.0\n"
          ],
          "name": "stdout"
        }
      ]
    },
    {
      "cell_type": "code",
      "metadata": {
        "colab": {
          "base_uri": "https://localhost:8080/",
          "height": 162
        },
        "id": "nlwdPpYKTWTg",
        "outputId": "11b20392-ccb8-4396-c034-3d079f5abed9"
      },
      "source": [
        "cos(2*pi)"
      ],
      "execution_count": null,
      "outputs": [
        {
          "output_type": "error",
          "ename": "NameError",
          "evalue": "ignored",
          "traceback": [
            "\u001b[0;31m---------------------------------------------------------------------------\u001b[0m",
            "\u001b[0;31mNameError\u001b[0m                                 Traceback (most recent call last)",
            "\u001b[0;32m<ipython-input-124-ea31728e7083>\u001b[0m in \u001b[0;36m<module>\u001b[0;34m()\u001b[0m\n\u001b[0;32m----> 1\u001b[0;31m \u001b[0mcos\u001b[0m\u001b[0;34m(\u001b[0m\u001b[0;36m2\u001b[0m\u001b[0;34m*\u001b[0m\u001b[0mpi\u001b[0m\u001b[0;34m)\u001b[0m\u001b[0;34m\u001b[0m\u001b[0;34m\u001b[0m\u001b[0m\n\u001b[0m",
            "\u001b[0;31mNameError\u001b[0m: name 'cos' is not defined"
          ]
        }
      ]
    },
    {
      "cell_type": "markdown",
      "metadata": {
        "id": "5Pvvl95I4u5-"
      },
      "source": [
        "Alternativamente, podemos elegir importar todos los símbolos (funciones y variables) en un módulo al espacio de nombres (namespace) actual (de modo que no necesitemos usar el prefijo \"`math.`\" cada vez que usemos algo del módulo `math`:"
      ]
    },
    {
      "cell_type": "code",
      "metadata": {
        "id": "IxDpyfuP4u5-",
        "colab": {
          "base_uri": "https://localhost:8080/"
        },
        "outputId": "1d073de9-07f3-48c2-e7d0-db855e99777e"
      },
      "source": [
        "from math import *\n",
        "\n",
        "x = cos(2*pi)\n",
        "\n",
        "print(x)"
      ],
      "execution_count": null,
      "outputs": [
        {
          "output_type": "stream",
          "text": [
            "1.0\n"
          ],
          "name": "stdout"
        }
      ]
    },
    {
      "cell_type": "markdown",
      "metadata": {
        "id": "1ujDEPfV4u5_"
      },
      "source": [
        "Esta forma de proceder puede ser muy conveniente, pero en programas largos que incluyen muchos módulos es a menudo una buena idea mantener los símbolos de cada módulo en sus propios espacios de nombres, usando `import math`. Esto elimina potenciales confusiones con eventuales colisiones de nombres, ya que no es poco común encontrar funciones o variables definidas con el mismo nombre en módulos distintos.\n",
        "\n",
        "Como alternativa intermedia, podemos importar un módulo con un *alias* o nombre abreviado:"
      ]
    },
    {
      "cell_type": "code",
      "metadata": {
        "id": "OJZAi0WN4u6A",
        "colab": {
          "base_uri": "https://localhost:8080/"
        },
        "outputId": "e8d01d7a-07f3-42f6-9e1f-ca83da18cbae"
      },
      "source": [
        "import math as m\n",
        "\n",
        "x = m.cos(2*m.pi)\n",
        "\n",
        "print(x)"
      ],
      "execution_count": null,
      "outputs": [
        {
          "output_type": "stream",
          "text": [
            "1.0\n"
          ],
          "name": "stdout"
        }
      ]
    },
    {
      "cell_type": "markdown",
      "metadata": {
        "id": "U0kfiG9m4u6A"
      },
      "source": [
        "Finalmente, podemos importar sólo algunos símbolos seleccionados desde un módulo listándolos explícitamente, en lugar de usar el carácter comodín `*`:"
      ]
    },
    {
      "cell_type": "code",
      "metadata": {
        "id": "f5MIYvFR4u6B",
        "colab": {
          "base_uri": "https://localhost:8080/"
        },
        "outputId": "814630e7-30f5-4c42-dfd7-ed6673b1cb7f"
      },
      "source": [
        "from math import cos, pi\n",
        "\n",
        "x = cos(2*pi)\n",
        "\n",
        "print(x)"
      ],
      "execution_count": null,
      "outputs": [
        {
          "output_type": "stream",
          "text": [
            "1.0\n"
          ],
          "name": "stdout"
        }
      ]
    },
    {
      "cell_type": "markdown",
      "metadata": {
        "id": "W1uBa1IK4u6C"
      },
      "source": [
        "###  Mirando qué contiene un módulo, y su documentación"
      ]
    },
    {
      "cell_type": "markdown",
      "metadata": {
        "id": "v0COnbOP4u6C"
      },
      "source": [
        "Luego que se ha cargado un módulo, podemos listar los símbolos que éste provee usando la función `dir`:"
      ]
    },
    {
      "cell_type": "code",
      "metadata": {
        "id": "2R68h_Wz4u6D",
        "colab": {
          "base_uri": "https://localhost:8080/"
        },
        "outputId": "f033abb6-2ebb-4649-ceff-b5ec6c726c78"
      },
      "source": [
        "import math\n",
        "\n",
        "dir(math)\n",
        "help(math.acos)"
      ],
      "execution_count": null,
      "outputs": [
        {
          "output_type": "stream",
          "text": [
            "Help on built-in function acos in module math:\n",
            "\n",
            "acos(x, /)\n",
            "    Return the arc cosine (measured in radians) of x.\n",
            "\n"
          ],
          "name": "stdout"
        }
      ]
    },
    {
      "cell_type": "markdown",
      "metadata": {
        "id": "Sicx6kmw4u6F"
      },
      "source": [
        "Usando la función `help` podemos obtener una descripción de cada función (casi... no todas las funciones tienen *docstrings*, como se les llama técnicamente. Sin embargo, la mayoría de las funciones están documentadas de esta forma). "
      ]
    },
    {
      "cell_type": "code",
      "metadata": {
        "id": "yoVQyrw64u6F",
        "colab": {
          "base_uri": "https://localhost:8080/"
        },
        "outputId": "c9cc3965-e4e1-41df-a4fe-9a9cafb9f0c5"
      },
      "source": [
        "help(math.log)"
      ],
      "execution_count": null,
      "outputs": [
        {
          "output_type": "stream",
          "text": [
            "Help on built-in function log in module math:\n",
            "\n",
            "log(...)\n",
            "    log(x, [base=math.e])\n",
            "    Return the logarithm of x to the given base.\n",
            "    \n",
            "    If the base not specified, returns the natural logarithm (base e) of x.\n",
            "\n"
          ],
          "name": "stdout"
        }
      ]
    },
    {
      "cell_type": "code",
      "metadata": {
        "id": "Cawz9G1z4u6G",
        "colab": {
          "base_uri": "https://localhost:8080/"
        },
        "outputId": "92dc8fe0-f681-4f96-a5bc-fe47399e5d39"
      },
      "source": [
        "m.log(10) # calcula el logaritmo de 10 en base e"
      ],
      "execution_count": null,
      "outputs": [
        {
          "output_type": "execute_result",
          "data": {
            "text/plain": [
              "2.302585092994046"
            ]
          },
          "metadata": {
            "tags": []
          },
          "execution_count": 9
        }
      ]
    },
    {
      "cell_type": "code",
      "metadata": {
        "id": "kIIZSyNv4u6H",
        "colab": {
          "base_uri": "https://localhost:8080/"
        },
        "outputId": "c92f72a4-94e4-4a89-f075-81a080383eb5"
      },
      "source": [
        "m.log(10, 2) # calcula el logaritmo de 10 en base 2"
      ],
      "execution_count": null,
      "outputs": [
        {
          "output_type": "execute_result",
          "data": {
            "text/plain": [
              "3.3219280948873626"
            ]
          },
          "metadata": {
            "tags": []
          },
          "execution_count": 10
        }
      ]
    },
    {
      "cell_type": "markdown",
      "metadata": {
        "id": "YqOjuYIr4u6H"
      },
      "source": [
        "También podemos usar la función `help` directamente sobre los módulos: \n",
        "\n",
        "    help(math) \n",
        "\n",
        "Algunos módulos muy útiles de la librería estándar de Python son `os` (interfaz con el sistema operativo), `sys` (Parámetros y funciones específicas del sistema), `math` (funciones matemáticas), `shutil` (operaciones con archivos), `subprocess`, `multiprocessing`, `threading`. \n",
        "\n",
        "Una lista completa de los módulos estándar para Python 2 y Python 3 está disponible (en inglés) en [http://docs.python.org/2/library/](http://docs.python.org/2/library/) y [http://docs.python.org/3/library/](http://docs.python.org/3/library/), respectivamente. Una versión en español está disponible en [http://pyspanishdoc.sourceforge.net/lib/lib.html](http://pyspanishdoc.sourceforge.net/lib/lib.html).\n",
        "\n",
        "Existen muchos otros módulos (paquetes) desarrollados para Python que implementan distintas funcionalidades, herramientas y algoritmos. Muchos de ellos son constantemente desarrollados en forma abierta por comunidades de usuari@s interesad@s.\n",
        "\n",
        " Aquí listamos algunos módulos generales útiles en el ámbito de la ciencia de datos:\n",
        " \n",
        " * [Numpy](http://www.numpy.org/): Implementa el uso eficiente de arreglos numéricos multidimensionales (vectores, matrices, etc.).\n",
        " * [Scipy](http://www.scipy.org/): Implementa múltiples funciones especiales, algoritmos de integración numérica, optimización, interpolación, transformada de Fourier, procesamiento de señales, álgebra lineal, estadística, procesamiento de imágenes, entre otras. Este módulo hace uso de Numpy.\n",
        " * [Matplotlib](http://matplotlib.org/): Suministra herramientas para crear gráficos bidimensionales en diversos formatos, y en una calidad adecuada para incluirlos en publicaciones científicas.\n",
        " * [Sympy](http://sympy.org/): Paquete que implementa algoritmos de matemática simbólica.\n",
        " * [Tensorflow](https://www.tensorflow.org/): Desarrollada por Google, permite entrenar modelos de redes neuronales.\n",
        " * [Keras](http://keras.io): Interfaz para tensorflow permite la creación de modelos de manera más simple.\n",
        " * [Scikit-learn](http://scikit-learn.org/): Implementa funciones de \"Machine Learning\" (Clasificación, Regresión, Clustering, reducción dimensional, Selección de Modelos, etc.)"
      ]
    }
  ]
}