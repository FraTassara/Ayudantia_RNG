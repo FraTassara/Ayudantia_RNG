{
  "nbformat": 4,
  "nbformat_minor": 0,
  "metadata": {
    "colab": {
      "name": "Introduccion a Numpy y a Pandas.ipynb",
      "provenance": []
    },
    "kernelspec": {
      "name": "python3",
      "display_name": "Python 3"
    },
    "language_info": {
      "name": "python"
    }
  },
  "cells": [
    {
      "cell_type": "markdown",
      "metadata": {
        "id": "vxZvO5uip0Ab"
      },
      "source": [
        "# Numpy\n",
        "\n",
        "Introducción a Numpy\n",
        "El paquete (módulo) Numpy es usado en casi todos los cálculos numéricos usando Python. Es un paquete que provee a Python de estructuras de datos vectoriales, matriciales, y de rango mayor, de alto rendimiento. Está implementado en C y Fortran, de modo que cuando los cálculos son vectorizados (formulados con vectores y matrices), el rendimiento es muy bueno.\n",
        "\n",
        "Para usar Numpy necesitamos importar el módulo usando, por ejemplo:"
      ]
    },
    {
      "cell_type": "code",
      "metadata": {
        "id": "YDb9YdHBpwk_"
      },
      "source": [
        "import numpy as np"
      ],
      "execution_count": null,
      "outputs": []
    },
    {
      "cell_type": "markdown",
      "metadata": {
        "id": "YSbuzcwOrN2X"
      },
      "source": [
        "## Creando arreglos de `numpy`\n",
        "\n",
        "Existen varias formas para inicializar nuevos arreglos de `numpy`, por ejemplo desde\n",
        "\n",
        "* Listas o tuplas Python\n",
        "* Usando funciones dedicadas a generar arreglos `numpy`, como `arange`, `linspace`, etc.\n",
        "* Leyendo datos desde archivos\n",
        "\n",
        "### Desde listas\n",
        "\n",
        "Por ejemplo, para crear nuevos arreglos de matrices y vectores desde listas Python podemos usar la función `numpy.array`."
      ]
    },
    {
      "cell_type": "code",
      "metadata": {
        "colab": {
          "base_uri": "https://localhost:8080/"
        },
        "id": "Kk1FiL_9rGOU",
        "outputId": "43628eb3-4bca-46c8-8a18-8b9b6bb80185"
      },
      "source": [
        "# un vector: el argumento de la función array es una lista de Python\n",
        "v = np.array([1,2,3,4])\n",
        "\n",
        "v"
      ],
      "execution_count": null,
      "outputs": [
        {
          "output_type": "execute_result",
          "data": {
            "text/plain": [
              "array([1, 2, 3, 4])"
            ]
          },
          "metadata": {
            "tags": []
          },
          "execution_count": 87
        }
      ]
    },
    {
      "cell_type": "code",
      "metadata": {
        "colab": {
          "base_uri": "https://localhost:8080/"
        },
        "id": "SBxtW0KbrNb-",
        "outputId": "d3146238-8cf6-4a3e-af32-653d319c9e98"
      },
      "source": [
        "# una matriz: el argumento de la función array es una lista anidada de Python\n",
        "M = np.array([[1, 2, 3 ], [3, 4, 5]])\n",
        "\n",
        "M"
      ],
      "execution_count": null,
      "outputs": [
        {
          "output_type": "execute_result",
          "data": {
            "text/plain": [
              "array([[1, 2, 3],\n",
              "       [3, 4, 5]])"
            ]
          },
          "metadata": {
            "tags": []
          },
          "execution_count": 100
        }
      ]
    },
    {
      "cell_type": "markdown",
      "metadata": {
        "id": "3bu8lRguri-J"
      },
      "source": [
        "Los objetos `v` y `M` son ambos del tipo `ndarray` que provee el módulo `numpy`."
      ]
    },
    {
      "cell_type": "code",
      "metadata": {
        "colab": {
          "base_uri": "https://localhost:8080/"
        },
        "id": "Gk-cD_V3recZ",
        "outputId": "5fa1ba8b-77ca-4755-a52b-0ceda458f546"
      },
      "source": [
        "type(v), type(M)"
      ],
      "execution_count": null,
      "outputs": [
        {
          "output_type": "execute_result",
          "data": {
            "text/plain": [
              "(numpy.ndarray, numpy.ndarray)"
            ]
          },
          "metadata": {
            "tags": []
          },
          "execution_count": 96
        }
      ]
    },
    {
      "cell_type": "code",
      "metadata": {
        "colab": {
          "base_uri": "https://localhost:8080/"
        },
        "id": "4oFuIhp0VJNs",
        "outputId": "2f4e83b6-ae6e-4018-c777-de6691a3990f"
      },
      "source": [
        "v.dtype"
      ],
      "execution_count": null,
      "outputs": [
        {
          "output_type": "execute_result",
          "data": {
            "text/plain": [
              "dtype('int64')"
            ]
          },
          "metadata": {
            "tags": []
          },
          "execution_count": 97
        }
      ]
    },
    {
      "cell_type": "markdown",
      "metadata": {
        "id": "4itMbIlArpgt"
      },
      "source": [
        "La diferencia entre los arreglos `v` y `M` es sólo su forma. Podemos obtener información de la forma de un arreglo usando la propiedad `ndarray.shape`"
      ]
    },
    {
      "cell_type": "code",
      "metadata": {
        "colab": {
          "base_uri": "https://localhost:8080/"
        },
        "id": "cKGcZZbKron3",
        "outputId": "80be2cc7-b91e-457b-bc75-b7b01a6169a2"
      },
      "source": [
        "v.shape"
      ],
      "execution_count": null,
      "outputs": [
        {
          "output_type": "execute_result",
          "data": {
            "text/plain": [
              "(4,)"
            ]
          },
          "metadata": {
            "tags": []
          },
          "execution_count": 98
        }
      ]
    },
    {
      "cell_type": "code",
      "metadata": {
        "colab": {
          "base_uri": "https://localhost:8080/"
        },
        "id": "hZPHwrwEr5wh",
        "outputId": "dd2cd8d3-d894-42ef-a530-ffa5752262fb"
      },
      "source": [
        "M.shape"
      ],
      "execution_count": null,
      "outputs": [
        {
          "output_type": "execute_result",
          "data": {
            "text/plain": [
              "(2, 3)"
            ]
          },
          "metadata": {
            "tags": []
          },
          "execution_count": 101
        }
      ]
    },
    {
      "cell_type": "markdown",
      "metadata": {
        "id": "bl1g3TCAr-Dz"
      },
      "source": [
        "El número de elementos de un arreglo puede obtenerse usando la propiedad `ndarray.size`:"
      ]
    },
    {
      "cell_type": "code",
      "metadata": {
        "colab": {
          "base_uri": "https://localhost:8080/"
        },
        "id": "24vJ2bYTr9KR",
        "outputId": "36e59ed8-8219-43a8-8d6c-5160653b9bea"
      },
      "source": [
        "M.size"
      ],
      "execution_count": null,
      "outputs": [
        {
          "output_type": "execute_result",
          "data": {
            "text/plain": [
              "6"
            ]
          },
          "metadata": {
            "tags": []
          },
          "execution_count": 102
        }
      ]
    },
    {
      "cell_type": "markdown",
      "metadata": {
        "id": "j3lDugt5sH7q"
      },
      "source": [
        "Equivalentemente, podemos usar las funciones `numpy.shape` y `numpy.size`\n"
      ]
    },
    {
      "cell_type": "code",
      "metadata": {
        "colab": {
          "base_uri": "https://localhost:8080/"
        },
        "id": "5hlwqWU4sGTy",
        "outputId": "d77c2d54-41cc-4959-e402-0d528d0561f7"
      },
      "source": [
        "np.shape(M)"
      ],
      "execution_count": null,
      "outputs": [
        {
          "output_type": "execute_result",
          "data": {
            "text/plain": [
              "(2, 3)"
            ]
          },
          "metadata": {
            "tags": []
          },
          "execution_count": 105
        }
      ]
    },
    {
      "cell_type": "code",
      "metadata": {
        "colab": {
          "base_uri": "https://localhost:8080/"
        },
        "id": "WBDl0Go9sR-u",
        "outputId": "63d266a0-8ce0-4b3a-d358-f84b3a02ba12"
      },
      "source": [
        "np.size(M)"
      ],
      "execution_count": null,
      "outputs": [
        {
          "output_type": "execute_result",
          "data": {
            "text/plain": [
              "4"
            ]
          },
          "metadata": {
            "tags": []
          },
          "execution_count": 10
        }
      ]
    },
    {
      "cell_type": "markdown",
      "metadata": {
        "id": "Sc-nIG5isMfB"
      },
      "source": [
        "Hasta el momento el arreglo `numpy.ndarray` luce como una lista Python (anidada). Entonces, ¿por qué simplemente no usar listas para hacer cálculos en lugar de crear un tipo nuevo de arreglo? \n",
        "\n",
        "Existen varias razones:\n",
        "\n",
        "* Las listas Python son muy generales. Ellas pueden contener cualquier tipo de objeto. Sus tipos son asignados dinámicamente. Ellas no permiten usar funciones matemáticas tales como la multiplicación de matrices, el producto escalar, etc. El implementar tales funciones para las listas Python no sería muy eficiente debido a la asignación dinámica de su tipo.\n",
        "* Los arreglos Numpy tienen tipo **estático** y **homogéneo**. El tipo de elementos es determinado cuando se crea el arreglo.\n",
        "* Los arreglos Numpy son eficientes en el uso de memoria.\n",
        "* Debido a su tipo estático, se pueden desarrollar implementaciones rápidas de funciones matemáticas tales como la multiplicación y la suma de arreglos `numpy` usando lenguajes compilados (se usan C y Fortran).\n",
        "\n",
        "Usando la propiedad `dtype` (tipo de dato) de un `ndarray`, podemos ver qué tipo de dato contiene un arreglo:"
      ]
    },
    {
      "cell_type": "code",
      "metadata": {
        "colab": {
          "base_uri": "https://localhost:8080/"
        },
        "id": "j9Ycqox5sWwY",
        "outputId": "5d3d26c4-3ea8-4be5-a5aa-33398f168a25"
      },
      "source": [
        "M.dtype"
      ],
      "execution_count": null,
      "outputs": [
        {
          "output_type": "execute_result",
          "data": {
            "text/plain": [
              "dtype('int64')"
            ]
          },
          "metadata": {
            "tags": []
          },
          "execution_count": 11
        }
      ]
    },
    {
      "cell_type": "code",
      "metadata": {
        "colab": {
          "base_uri": "https://localhost:8080/"
        },
        "id": "8PZiTh96sY5m",
        "outputId": "54e6dc6c-5ea6-4907-b3ff-1675d9065947"
      },
      "source": [
        "M[0,0] = 2\n",
        "M"
      ],
      "execution_count": null,
      "outputs": [
        {
          "output_type": "execute_result",
          "data": {
            "text/plain": [
              "array([[2, 2, 3],\n",
              "       [3, 4, 5]])"
            ]
          },
          "metadata": {
            "tags": []
          },
          "execution_count": 108
        }
      ]
    },
    {
      "cell_type": "markdown",
      "metadata": {
        "id": "TwJX8nrxscF6"
      },
      "source": [
        "Si lo deseamos, podemos definir explícitamente el tipo de datos de un arreglo cuando lo creamos, usando el argumento `dtype`: "
      ]
    },
    {
      "cell_type": "code",
      "metadata": {
        "colab": {
          "base_uri": "https://localhost:8080/"
        },
        "id": "bwzvSa1ksePF",
        "outputId": "1ef194ee-27e3-4a3b-bbac-7b71e5ae781e"
      },
      "source": [
        "M = np.array([[1, 2], [3, 4 + 1j]])\n",
        "\n",
        "M"
      ],
      "execution_count": null,
      "outputs": [
        {
          "output_type": "execute_result",
          "data": {
            "text/plain": [
              "array([[1.+0.j, 2.+0.j],\n",
              "       [3.+0.j, 4.+1.j]])"
            ]
          },
          "metadata": {
            "tags": []
          },
          "execution_count": 109
        }
      ]
    },
    {
      "cell_type": "markdown",
      "metadata": {
        "id": "CG58hlKrslVO"
      },
      "source": [
        "Algunos tipos comunes que pueden ser usados con `dtype` son: `int`, `float`, `complex`, `bool`, `object`, etc.\n",
        "\n",
        "Podemos también definir explícitamente el número de bit de los tipos de datos, por ejemplo: `int64`, `int16`, `float64`, `complex64`."
      ]
    },
    {
      "cell_type": "markdown",
      "metadata": {
        "id": "P1hzp_GTsosX"
      },
      "source": [
        "#### Usando funciones que generan arreglos\n",
        "\n",
        "En el caso de arreglos más grandes no es práctico inicializar los datos manualmente, usando listas Python explícitas. En su lugar, podemos usar una de las muchas funciones en `numpy` que generan arreglos de diferentes formas. Algunas de los más comunes son:"
      ]
    },
    {
      "cell_type": "markdown",
      "metadata": {
        "id": "QV2kkw_vsun0"
      },
      "source": [
        "#### arange"
      ]
    },
    {
      "cell_type": "code",
      "metadata": {
        "colab": {
          "base_uri": "https://localhost:8080/"
        },
        "id": "pk53PxKCsigY",
        "outputId": "44749542-d1d3-4279-a400-ba4bf18b8b2c"
      },
      "source": [
        "# crea un arreglo con valores en un rango\n",
        "\n",
        "x = np.arange(0,10,1) # argumentos: desde, hasta (no se incluye!), paso\n",
        "\n",
        "x"
      ],
      "execution_count": null,
      "outputs": [
        {
          "output_type": "execute_result",
          "data": {
            "text/plain": [
              "array([0, 1, 2, 3, 4, 5, 6, 7, 8, 9])"
            ]
          },
          "metadata": {
            "tags": []
          },
          "execution_count": 110
        }
      ]
    },
    {
      "cell_type": "code",
      "metadata": {
        "colab": {
          "base_uri": "https://localhost:8080/"
        },
        "id": "SpyNihePsz9E",
        "outputId": "93deb95a-bfdb-40a3-ee68-9f271503a1a9"
      },
      "source": [
        "x = np.arange(-1,1,0.1)\n",
        "\n",
        "x"
      ],
      "execution_count": null,
      "outputs": [
        {
          "output_type": "execute_result",
          "data": {
            "text/plain": [
              "array([-1.00000000e+00, -9.00000000e-01, -8.00000000e-01, -7.00000000e-01,\n",
              "       -6.00000000e-01, -5.00000000e-01, -4.00000000e-01, -3.00000000e-01,\n",
              "       -2.00000000e-01, -1.00000000e-01, -2.22044605e-16,  1.00000000e-01,\n",
              "        2.00000000e-01,  3.00000000e-01,  4.00000000e-01,  5.00000000e-01,\n",
              "        6.00000000e-01,  7.00000000e-01,  8.00000000e-01,  9.00000000e-01])"
            ]
          },
          "metadata": {
            "tags": []
          },
          "execution_count": 111
        }
      ]
    },
    {
      "cell_type": "markdown",
      "metadata": {
        "id": "M9IJtIiqs5Yk"
      },
      "source": [
        "#### linspace"
      ]
    },
    {
      "cell_type": "code",
      "metadata": {
        "colab": {
          "base_uri": "https://localhost:8080/"
        },
        "id": "89Hpw0cps296",
        "outputId": "909672a8-33a8-4079-9b5f-b75a05f9e719"
      },
      "source": [
        "# usando linspace, ambos puntos finales SON incluidos. Formato: (desde, hasta, número de elementos)\n",
        "np.linspace(0,10,25) "
      ],
      "execution_count": null,
      "outputs": [
        {
          "output_type": "execute_result",
          "data": {
            "text/plain": [
              "array([ 0.        ,  0.41666667,  0.83333333,  1.25      ,  1.66666667,\n",
              "        2.08333333,  2.5       ,  2.91666667,  3.33333333,  3.75      ,\n",
              "        4.16666667,  4.58333333,  5.        ,  5.41666667,  5.83333333,\n",
              "        6.25      ,  6.66666667,  7.08333333,  7.5       ,  7.91666667,\n",
              "        8.33333333,  8.75      ,  9.16666667,  9.58333333, 10.        ])"
            ]
          },
          "metadata": {
            "tags": []
          },
          "execution_count": 112
        }
      ]
    },
    {
      "cell_type": "markdown",
      "metadata": {
        "id": "JsqORW19tPGy"
      },
      "source": [
        "#### Datos aleatorios"
      ]
    },
    {
      "cell_type": "code",
      "metadata": {
        "colab": {
          "base_uri": "https://localhost:8080/"
        },
        "id": "IBjlj0lytQ0P",
        "outputId": "9293a9e1-8768-4431-eddc-6d601dc6b376"
      },
      "source": [
        "# números aleatorios con distribución normal (gaussiana de media 0 y varianza 1).\n",
        "np.random.randn(3,3)"
      ],
      "execution_count": null,
      "outputs": [
        {
          "output_type": "execute_result",
          "data": {
            "text/plain": [
              "array([[ 1.92994824,  0.47407292,  0.26713525],\n",
              "       [ 0.34704027, -0.25112173,  0.25580847],\n",
              "       [ 0.51404169,  0.81131688,  0.38071524]])"
            ]
          },
          "metadata": {
            "tags": []
          },
          "execution_count": 113
        }
      ]
    },
    {
      "cell_type": "markdown",
      "metadata": {
        "id": "7bgjFYK4taAj"
      },
      "source": [
        "#### diag"
      ]
    },
    {
      "cell_type": "code",
      "metadata": {
        "colab": {
          "base_uri": "https://localhost:8080/"
        },
        "id": "iZZbL0bDtlMO",
        "outputId": "a1099fa9-fafe-4f84-fff8-1e98e39e79fc"
      },
      "source": [
        "# una matriz diagonal\n",
        "np.diag([1,2,3])"
      ],
      "execution_count": null,
      "outputs": [
        {
          "output_type": "execute_result",
          "data": {
            "text/plain": [
              "array([[1, 0, 0],\n",
              "       [0, 2, 0],\n",
              "       [0, 0, 3]])"
            ]
          },
          "metadata": {
            "tags": []
          },
          "execution_count": 114
        }
      ]
    },
    {
      "cell_type": "code",
      "metadata": {
        "colab": {
          "base_uri": "https://localhost:8080/"
        },
        "id": "iDko7ABWtqKp",
        "outputId": "5ac72ce3-28b9-4c1d-9294-6c58bf30f8cd"
      },
      "source": [
        "# diagonal desplazada desde la diagonal principal\n",
        "np.diag([1,2,3], k=1) "
      ],
      "execution_count": null,
      "outputs": [
        {
          "output_type": "execute_result",
          "data": {
            "text/plain": [
              "array([[0, 1, 0, 0],\n",
              "       [0, 0, 2, 0],\n",
              "       [0, 0, 0, 3],\n",
              "       [0, 0, 0, 0]])"
            ]
          },
          "metadata": {
            "tags": []
          },
          "execution_count": 115
        }
      ]
    },
    {
      "cell_type": "markdown",
      "metadata": {
        "id": "0f55RGvZtw7a"
      },
      "source": [
        "#### ceros y unos"
      ]
    },
    {
      "cell_type": "code",
      "metadata": {
        "colab": {
          "base_uri": "https://localhost:8080/"
        },
        "id": "tTCmVZ2vtyYq",
        "outputId": "c498488f-a251-4add-ebcc-59c6f3237f6f"
      },
      "source": [
        "np.zeros((3,3))"
      ],
      "execution_count": null,
      "outputs": [
        {
          "output_type": "execute_result",
          "data": {
            "text/plain": [
              "array([[0., 0., 0.],\n",
              "       [0., 0., 0.],\n",
              "       [0., 0., 0.]])"
            ]
          },
          "metadata": {
            "tags": []
          },
          "execution_count": 116
        }
      ]
    },
    {
      "cell_type": "code",
      "metadata": {
        "colab": {
          "base_uri": "https://localhost:8080/"
        },
        "id": "Zqy1fMSIt1cd",
        "outputId": "13fb3d5a-081f-4c75-85c6-96acf9bcd992"
      },
      "source": [
        "np.ones((3,3))"
      ],
      "execution_count": null,
      "outputs": [
        {
          "output_type": "execute_result",
          "data": {
            "text/plain": [
              "array([[1., 1., 1.],\n",
              "       [1., 1., 1.],\n",
              "       [1., 1., 1.]])"
            ]
          },
          "metadata": {
            "tags": []
          },
          "execution_count": 117
        }
      ]
    },
    {
      "cell_type": "markdown",
      "metadata": {
        "id": "o0oUXVgVuL6y"
      },
      "source": [
        "## Manipulando arreglos"
      ]
    },
    {
      "cell_type": "markdown",
      "metadata": {
        "id": "8KdWjjNxuO--"
      },
      "source": [
        "### Indexando\n",
        "\n",
        "Podemos indexar elementos en un arreglo usando paréntesis cuadrados e índices, tal como con las listas:"
      ]
    },
    {
      "cell_type": "code",
      "metadata": {
        "colab": {
          "base_uri": "https://localhost:8080/"
        },
        "id": "yfj4FtqhuI2N",
        "outputId": "a46d9009-f869-4206-e021-62682fc3d3ad"
      },
      "source": [
        "# v es un vector, tiene por lo tanto sólo una dimensión, y requiere un índice\n",
        "v[0]"
      ],
      "execution_count": null,
      "outputs": [
        {
          "output_type": "execute_result",
          "data": {
            "text/plain": [
              "1"
            ]
          },
          "metadata": {
            "tags": []
          },
          "execution_count": 118
        }
      ]
    },
    {
      "cell_type": "code",
      "metadata": {
        "colab": {
          "base_uri": "https://localhost:8080/"
        },
        "id": "uJrq_dj0uVM2",
        "outputId": "bc6760c9-1ebd-42ec-b7de-72a604fdbd94"
      },
      "source": [
        "# M es una matriz, es decir un arreglo bidimensional, requiere dos índices\n",
        "M[1,1]"
      ],
      "execution_count": null,
      "outputs": [
        {
          "output_type": "execute_result",
          "data": {
            "text/plain": [
              "(4+1j)"
            ]
          },
          "metadata": {
            "tags": []
          },
          "execution_count": 119
        }
      ]
    },
    {
      "cell_type": "markdown",
      "metadata": {
        "id": "qqwWh7lOua_8"
      },
      "source": [
        "Si omitimos un índice de un arreglo multidimensional `Numpy` entrega la fila completa (o, en general, al arreglo de dimensión N-1 correspondiente) "
      ]
    },
    {
      "cell_type": "code",
      "metadata": {
        "colab": {
          "base_uri": "https://localhost:8080/"
        },
        "id": "Zg4gmM-3uW9t",
        "outputId": "29c756ee-ec8a-4cab-e754-ad74e2f4633e"
      },
      "source": [
        "M"
      ],
      "execution_count": null,
      "outputs": [
        {
          "output_type": "execute_result",
          "data": {
            "text/plain": [
              "array([[1.+0.j, 2.+0.j],\n",
              "       [3.+0.j, 4.+1.j]])"
            ]
          },
          "metadata": {
            "tags": []
          },
          "execution_count": 120
        }
      ]
    },
    {
      "cell_type": "code",
      "metadata": {
        "colab": {
          "base_uri": "https://localhost:8080/"
        },
        "id": "47Wjpj1Uuf8N",
        "outputId": "7c6f4139-6a3c-4a15-cd41-5502ddf612f4"
      },
      "source": [
        "M[0]"
      ],
      "execution_count": null,
      "outputs": [
        {
          "output_type": "execute_result",
          "data": {
            "text/plain": [
              "array([1.+0.j, 2.+0.j])"
            ]
          },
          "metadata": {
            "tags": []
          },
          "execution_count": 122
        }
      ]
    },
    {
      "cell_type": "markdown",
      "metadata": {
        "id": "AuuurReYuqLc"
      },
      "source": [
        "Puede obtenerse lo mismo usando `:` en el lugar de un índice: "
      ]
    },
    {
      "cell_type": "code",
      "metadata": {
        "colab": {
          "base_uri": "https://localhost:8080/"
        },
        "id": "RUreevbpugaj",
        "outputId": "7f8d8da3-db82-4f85-ca73-251c8700fdee"
      },
      "source": [
        "M[1,:] # fila 2"
      ],
      "execution_count": null,
      "outputs": [
        {
          "output_type": "execute_result",
          "data": {
            "text/plain": [
              "array([3.+0.j, 4.+1.j])"
            ]
          },
          "metadata": {
            "tags": []
          },
          "execution_count": 124
        }
      ]
    },
    {
      "cell_type": "code",
      "metadata": {
        "colab": {
          "base_uri": "https://localhost:8080/"
        },
        "id": "Nas-t6qiuuRE",
        "outputId": "fe953bda-3286-45c7-d4af-3f9e98a5980a"
      },
      "source": [
        "M[:,1] # columna 2"
      ],
      "execution_count": null,
      "outputs": [
        {
          "output_type": "execute_result",
          "data": {
            "text/plain": [
              "array([2.+0.j, 4.+1.j])"
            ]
          },
          "metadata": {
            "tags": []
          },
          "execution_count": 125
        }
      ]
    },
    {
      "cell_type": "markdown",
      "metadata": {
        "id": "YOmbmGUXuxZ4"
      },
      "source": [
        "Podemos asignar nuevos valores a los elementos de un arreglo usando el indexado:"
      ]
    },
    {
      "cell_type": "code",
      "metadata": {
        "id": "EZZygskWuwxF"
      },
      "source": [
        "M[0,0] = 1"
      ],
      "execution_count": null,
      "outputs": []
    },
    {
      "cell_type": "code",
      "metadata": {
        "colab": {
          "base_uri": "https://localhost:8080/"
        },
        "id": "t0f8LV-qu1va",
        "outputId": "65d53c45-5f6f-470c-d4fb-6444de118175"
      },
      "source": [
        "M"
      ],
      "execution_count": null,
      "outputs": [
        {
          "output_type": "execute_result",
          "data": {
            "text/plain": [
              "array([[1.+0.j, 2.+0.j],\n",
              "       [3.+0.j, 4.+1.j]])"
            ]
          },
          "metadata": {
            "tags": []
          },
          "execution_count": 127
        }
      ]
    },
    {
      "cell_type": "code",
      "metadata": {
        "id": "6n2givGxu3Xc"
      },
      "source": [
        "# también funciona para filas y columnas completas\n",
        "M[1,:] = 0\n",
        "M[:,1] = -1"
      ],
      "execution_count": null,
      "outputs": []
    },
    {
      "cell_type": "code",
      "metadata": {
        "colab": {
          "base_uri": "https://localhost:8080/"
        },
        "id": "2ecbJF1Qu5OC",
        "outputId": "198d3947-9815-444c-f306-fecd7ecf1012"
      },
      "source": [
        "M"
      ],
      "execution_count": null,
      "outputs": [
        {
          "output_type": "execute_result",
          "data": {
            "text/plain": [
              "array([[ 1.+0.j, -1.+0.j],\n",
              "       [ 0.+0.j, -1.+0.j]])"
            ]
          },
          "metadata": {
            "tags": []
          },
          "execution_count": 131
        }
      ]
    },
    {
      "cell_type": "markdown",
      "metadata": {
        "id": "qThXwcgcvlHb"
      },
      "source": [
        "## Corte de índices\n",
        "\n",
        "Corte (slicing) de índices es el nombre para la sintaxis `M[desde:hasta:paso]` que extrae una parte de un arreglo:"
      ]
    },
    {
      "cell_type": "code",
      "metadata": {
        "colab": {
          "base_uri": "https://localhost:8080/"
        },
        "id": "VozaWyGLu60q",
        "outputId": "ed8a4b10-a7ab-4847-b8d9-d6b9eab1fccb"
      },
      "source": [
        "A = np.array([1,2,3,4,5])\n",
        "A"
      ],
      "execution_count": null,
      "outputs": [
        {
          "output_type": "execute_result",
          "data": {
            "text/plain": [
              "array([1, 2, 3, 4, 5])"
            ]
          },
          "metadata": {
            "tags": []
          },
          "execution_count": 132
        }
      ]
    },
    {
      "cell_type": "code",
      "metadata": {
        "colab": {
          "base_uri": "https://localhost:8080/"
        },
        "id": "M-yfbM5Rvo5p",
        "outputId": "9244a039-a6ae-46a6-8b2c-9b4fcfdf7fd2"
      },
      "source": [
        "A[1:3]"
      ],
      "execution_count": null,
      "outputs": [
        {
          "output_type": "execute_result",
          "data": {
            "text/plain": [
              "array([2, 3])"
            ]
          },
          "metadata": {
            "tags": []
          },
          "execution_count": 133
        }
      ]
    },
    {
      "cell_type": "markdown",
      "metadata": {
        "id": "NT6fv8zGvvMV"
      },
      "source": [
        "Los cortes de índices son *mutables*: si se les asigna un nuevo valor el arreglo original es modificado:"
      ]
    },
    {
      "cell_type": "code",
      "metadata": {
        "colab": {
          "base_uri": "https://localhost:8080/"
        },
        "id": "NQChxgQ_vsOS",
        "outputId": "ef18729f-d8b8-426b-b844-2cddea44081c"
      },
      "source": [
        "A[1:3] = [-2,3]\n",
        "\n",
        "A"
      ],
      "execution_count": null,
      "outputs": [
        {
          "output_type": "execute_result",
          "data": {
            "text/plain": [
              "array([ 1, -2,  3,  4,  5])"
            ]
          },
          "metadata": {
            "tags": []
          },
          "execution_count": 140
        }
      ]
    },
    {
      "cell_type": "markdown",
      "metadata": {
        "id": "fHmEF8s_v0by"
      },
      "source": [
        "Podemos omitir cualquiera de los tres parámetros en  `M[desde:hasta:paso]`:"
      ]
    },
    {
      "cell_type": "code",
      "metadata": {
        "colab": {
          "base_uri": "https://localhost:8080/"
        },
        "id": "tRrQzbthvx6t",
        "outputId": "0c401fb5-5a5d-460d-ffe7-80f4ecd32477"
      },
      "source": [
        "A[::] # desde, hasta y paso asumen los valores por defecto"
      ],
      "execution_count": null,
      "outputs": [
        {
          "output_type": "execute_result",
          "data": {
            "text/plain": [
              "array([ 1, -2, -3,  4,  5])"
            ]
          },
          "metadata": {
            "tags": []
          },
          "execution_count": 135
        }
      ]
    },
    {
      "cell_type": "code",
      "metadata": {
        "colab": {
          "base_uri": "https://localhost:8080/"
        },
        "id": "38Iyicgvv4f3",
        "outputId": "e98c9a49-2281-4837-a15e-aceaa9558b5d"
      },
      "source": [
        "A[::2] # el paso es 2, desde y hasta se asumen desde el comienzo hasta el fin del arreglo"
      ],
      "execution_count": null,
      "outputs": [
        {
          "output_type": "execute_result",
          "data": {
            "text/plain": [
              "array([ 1, -3,  5])"
            ]
          },
          "metadata": {
            "tags": []
          },
          "execution_count": 136
        }
      ]
    },
    {
      "cell_type": "code",
      "metadata": {
        "colab": {
          "base_uri": "https://localhost:8080/"
        },
        "id": "N3V54s3AwDUa",
        "outputId": "6a43d766-2200-4190-c847-6e3c1f56823d"
      },
      "source": [
        "A[:3] # primeros tres elementos"
      ],
      "execution_count": null,
      "outputs": [
        {
          "output_type": "execute_result",
          "data": {
            "text/plain": [
              "array([ 1, -2, -3])"
            ]
          },
          "metadata": {
            "tags": []
          },
          "execution_count": 137
        }
      ]
    },
    {
      "cell_type": "code",
      "metadata": {
        "colab": {
          "base_uri": "https://localhost:8080/"
        },
        "id": "jw0xhEQdwI_z",
        "outputId": "f5c6fada-4171-4265-8245-d930408bc170"
      },
      "source": [
        "A[3:] # elementos desde el índice 3"
      ],
      "execution_count": null,
      "outputs": [
        {
          "output_type": "execute_result",
          "data": {
            "text/plain": [
              "array([4, 5])"
            ]
          },
          "metadata": {
            "tags": []
          },
          "execution_count": 138
        }
      ]
    },
    {
      "cell_type": "markdown",
      "metadata": {
        "id": "xgR1V2DewSve"
      },
      "source": [
        "Los índices negativos se cuentan desde el fin del arreglo (los índices positivos desde el comienzo):"
      ]
    },
    {
      "cell_type": "code",
      "metadata": {
        "id": "SMWhlQ3twLBq"
      },
      "source": [
        "A = np.array([1,2,3,4,5])"
      ],
      "execution_count": null,
      "outputs": []
    },
    {
      "cell_type": "code",
      "metadata": {
        "colab": {
          "base_uri": "https://localhost:8080/"
        },
        "id": "C6C6znahwZSn",
        "outputId": "b63ab3eb-0fc3-42c6-d85e-3591e1778c7e"
      },
      "source": [
        "A[-3:] # los últimos 3 elementos"
      ],
      "execution_count": null,
      "outputs": [
        {
          "output_type": "execute_result",
          "data": {
            "text/plain": [
              "array([3, 4, 5])"
            ]
          },
          "metadata": {
            "tags": []
          },
          "execution_count": 141
        }
      ]
    },
    {
      "cell_type": "markdown",
      "metadata": {
        "id": "W36H9nw7wg1M"
      },
      "source": [
        "El corte de índices funciona exactamente del mismo modo para arreglos multidimensionales:"
      ]
    },
    {
      "cell_type": "code",
      "metadata": {
        "colab": {
          "base_uri": "https://localhost:8080/"
        },
        "id": "m5cats3Fwcx_",
        "outputId": "a3f261b2-8994-44e5-df3d-f703f1142bb5"
      },
      "source": [
        "A = np.array([[n+m*10 for n in range(5)] for m in range(5)])\n",
        "\n",
        "A"
      ],
      "execution_count": null,
      "outputs": [
        {
          "output_type": "execute_result",
          "data": {
            "text/plain": [
              "array([[ 0,  1,  2,  3,  4],\n",
              "       [10, 11, 12, 13, 14],\n",
              "       [20, 21, 22, 23, 24],\n",
              "       [30, 31, 32, 33, 34],\n",
              "       [40, 41, 42, 43, 44]])"
            ]
          },
          "metadata": {
            "tags": []
          },
          "execution_count": 142
        }
      ]
    },
    {
      "cell_type": "code",
      "metadata": {
        "colab": {
          "base_uri": "https://localhost:8080/"
        },
        "id": "g20rWRNQwjsx",
        "outputId": "f14475be-09a5-4a9a-ca81-7cf226575b09"
      },
      "source": [
        "# un bloque parte del arreglo original\n",
        "A[1:4, 1:4]"
      ],
      "execution_count": null,
      "outputs": [
        {
          "output_type": "execute_result",
          "data": {
            "text/plain": [
              "array([[11, 12, 13],\n",
              "       [21, 22, 23],\n",
              "       [31, 32, 33]])"
            ]
          },
          "metadata": {
            "tags": []
          },
          "execution_count": 143
        }
      ]
    },
    {
      "cell_type": "code",
      "metadata": {
        "colab": {
          "base_uri": "https://localhost:8080/"
        },
        "id": "Rz6VKxDawncX",
        "outputId": "91f7e93b-e18c-468c-ae02-ad45168229bb"
      },
      "source": [
        "# elemento por medio\n",
        "A[::2, ::2]"
      ],
      "execution_count": null,
      "outputs": [
        {
          "output_type": "execute_result",
          "data": {
            "text/plain": [
              "array([[ 0,  2,  4],\n",
              "       [20, 22, 24],\n",
              "       [40, 42, 44]])"
            ]
          },
          "metadata": {
            "tags": []
          },
          "execution_count": 144
        }
      ]
    },
    {
      "cell_type": "markdown",
      "metadata": {
        "id": "cflrw22HxQ2U"
      },
      "source": [
        "# Pandas"
      ]
    },
    {
      "cell_type": "code",
      "metadata": {
        "id": "FcDlw0nnwpcx"
      },
      "source": [
        "import pandas as pd"
      ],
      "execution_count": null,
      "outputs": []
    },
    {
      "cell_type": "markdown",
      "metadata": {
        "id": "qamIJII9xlnb"
      },
      "source": [
        "Ahora procesaremos una base de datos bajada en internet bajo el link https://catalog.data.gov/dataset/most-popular-baby-names-by-sex-and-mothers-ethnic-group-new-york-city-8c742 que contiene información sobre los nombres de bebes según género y grupo etnico al cual pertenece la madre.\n",
        "\n",
        "Las primeras lineas se ven aquí:\n",
        "```\n",
        "\n",
        "Year of Birth,Gender,Ethnicity,Child's First Name,Count,Rank\n",
        "\n",
        "2011,FEMALE,HISPANIC,GERALDINE,13,75\n",
        "\n",
        "2011,FEMALE,HISPANIC,GIA,21,67\n",
        "\n",
        "2011,FEMALE,HISPANIC,GIANNA,49,42\n",
        "\n",
        "2011,FEMALE,HISPANIC,GISELLE,38,51\n",
        "\n",
        "2011,FEMALE,HISPANIC,GRACE,36,53```\n",
        "\n",
        "\n",
        "La primera línea muestra el nombre de la variable de cada columna y las siguientes lineas contienen los datos."
      ]
    },
    {
      "cell_type": "code",
      "metadata": {
        "id": "eJUUwBXUxslD"
      },
      "source": [
        "str_archivo = 'Most_Popular_Baby_Names_by_Sex_and_Mother_s_Ethnic_Group__New_York_City.csv'"
      ],
      "execution_count": null,
      "outputs": []
    },
    {
      "cell_type": "code",
      "metadata": {
        "id": "zZszdIPGys0O"
      },
      "source": [
        "data = pd.read_csv(str_archivo)"
      ],
      "execution_count": null,
      "outputs": []
    },
    {
      "cell_type": "code",
      "metadata": {
        "colab": {
          "base_uri": "https://localhost:8080/"
        },
        "id": "Gc2dTC3fyufM",
        "outputId": "27edd0e2-c9fc-4c08-81dd-bb66b84e66ac"
      },
      "source": [
        "type(data)"
      ],
      "execution_count": null,
      "outputs": [
        {
          "output_type": "execute_result",
          "data": {
            "text/plain": [
              "pandas.core.frame.DataFrame"
            ]
          },
          "metadata": {
            "tags": []
          },
          "execution_count": 33
        }
      ]
    },
    {
      "cell_type": "code",
      "metadata": {
        "colab": {
          "base_uri": "https://localhost:8080/",
          "height": 402
        },
        "id": "Z1cJD-gOyzE9",
        "outputId": "a357de79-3f3f-4a4c-ba22-7064aff7d01c"
      },
      "source": [
        "data"
      ],
      "execution_count": null,
      "outputs": [
        {
          "output_type": "execute_result",
          "data": {
            "text/html": [
              "<div>\n",
              "<style scoped>\n",
              "    .dataframe tbody tr th:only-of-type {\n",
              "        vertical-align: middle;\n",
              "    }\n",
              "\n",
              "    .dataframe tbody tr th {\n",
              "        vertical-align: top;\n",
              "    }\n",
              "\n",
              "    .dataframe thead th {\n",
              "        text-align: right;\n",
              "    }\n",
              "</style>\n",
              "<table border=\"1\" class=\"dataframe\">\n",
              "  <thead>\n",
              "    <tr style=\"text-align: right;\">\n",
              "      <th></th>\n",
              "      <th>Year of Birth</th>\n",
              "      <th>Gender</th>\n",
              "      <th>Ethnicity</th>\n",
              "      <th>Child's First Name</th>\n",
              "      <th>Count</th>\n",
              "      <th>Rank</th>\n",
              "    </tr>\n",
              "  </thead>\n",
              "  <tbody>\n",
              "    <tr>\n",
              "      <th>0</th>\n",
              "      <td>2011</td>\n",
              "      <td>FEMALE</td>\n",
              "      <td>HISPANIC</td>\n",
              "      <td>GERALDINE</td>\n",
              "      <td>13</td>\n",
              "      <td>75</td>\n",
              "    </tr>\n",
              "    <tr>\n",
              "      <th>1</th>\n",
              "      <td>2011</td>\n",
              "      <td>FEMALE</td>\n",
              "      <td>HISPANIC</td>\n",
              "      <td>GIA</td>\n",
              "      <td>21</td>\n",
              "      <td>67</td>\n",
              "    </tr>\n",
              "    <tr>\n",
              "      <th>2</th>\n",
              "      <td>2011</td>\n",
              "      <td>FEMALE</td>\n",
              "      <td>HISPANIC</td>\n",
              "      <td>GIANNA</td>\n",
              "      <td>49</td>\n",
              "      <td>42</td>\n",
              "    </tr>\n",
              "    <tr>\n",
              "      <th>3</th>\n",
              "      <td>2011</td>\n",
              "      <td>FEMALE</td>\n",
              "      <td>HISPANIC</td>\n",
              "      <td>GISELLE</td>\n",
              "      <td>38</td>\n",
              "      <td>51</td>\n",
              "    </tr>\n",
              "    <tr>\n",
              "      <th>4</th>\n",
              "      <td>2011</td>\n",
              "      <td>FEMALE</td>\n",
              "      <td>HISPANIC</td>\n",
              "      <td>GRACE</td>\n",
              "      <td>36</td>\n",
              "      <td>53</td>\n",
              "    </tr>\n",
              "    <tr>\n",
              "      <th>...</th>\n",
              "      <td>...</td>\n",
              "      <td>...</td>\n",
              "      <td>...</td>\n",
              "      <td>...</td>\n",
              "      <td>...</td>\n",
              "      <td>...</td>\n",
              "    </tr>\n",
              "    <tr>\n",
              "      <th>22030</th>\n",
              "      <td>2014</td>\n",
              "      <td>MALE</td>\n",
              "      <td>WHITE NON HISPANIC</td>\n",
              "      <td>Yousef</td>\n",
              "      <td>18</td>\n",
              "      <td>94</td>\n",
              "    </tr>\n",
              "    <tr>\n",
              "      <th>22031</th>\n",
              "      <td>2014</td>\n",
              "      <td>MALE</td>\n",
              "      <td>WHITE NON HISPANIC</td>\n",
              "      <td>Youssef</td>\n",
              "      <td>24</td>\n",
              "      <td>88</td>\n",
              "    </tr>\n",
              "    <tr>\n",
              "      <th>22032</th>\n",
              "      <td>2014</td>\n",
              "      <td>MALE</td>\n",
              "      <td>WHITE NON HISPANIC</td>\n",
              "      <td>Yusuf</td>\n",
              "      <td>16</td>\n",
              "      <td>96</td>\n",
              "    </tr>\n",
              "    <tr>\n",
              "      <th>22033</th>\n",
              "      <td>2014</td>\n",
              "      <td>MALE</td>\n",
              "      <td>WHITE NON HISPANIC</td>\n",
              "      <td>Zachary</td>\n",
              "      <td>90</td>\n",
              "      <td>39</td>\n",
              "    </tr>\n",
              "    <tr>\n",
              "      <th>22034</th>\n",
              "      <td>2014</td>\n",
              "      <td>MALE</td>\n",
              "      <td>WHITE NON HISPANIC</td>\n",
              "      <td>Zev</td>\n",
              "      <td>49</td>\n",
              "      <td>65</td>\n",
              "    </tr>\n",
              "  </tbody>\n",
              "</table>\n",
              "<p>22035 rows × 6 columns</p>\n",
              "</div>"
            ],
            "text/plain": [
              "       Year of Birth  Gender  ... Count Rank\n",
              "0               2011  FEMALE  ...    13   75\n",
              "1               2011  FEMALE  ...    21   67\n",
              "2               2011  FEMALE  ...    49   42\n",
              "3               2011  FEMALE  ...    38   51\n",
              "4               2011  FEMALE  ...    36   53\n",
              "...              ...     ...  ...   ...  ...\n",
              "22030           2014    MALE  ...    18   94\n",
              "22031           2014    MALE  ...    24   88\n",
              "22032           2014    MALE  ...    16   96\n",
              "22033           2014    MALE  ...    90   39\n",
              "22034           2014    MALE  ...    49   65\n",
              "\n",
              "[22035 rows x 6 columns]"
            ]
          },
          "metadata": {
            "tags": []
          },
          "execution_count": 34
        }
      ]
    },
    {
      "cell_type": "code",
      "metadata": {
        "colab": {
          "base_uri": "https://localhost:8080/",
          "height": 343
        },
        "id": "ls4SUo3BDNEr",
        "outputId": "f51af9bf-0f7b-40d9-fff1-3af630e6561a"
      },
      "source": [
        "data.head(10)"
      ],
      "execution_count": null,
      "outputs": [
        {
          "output_type": "execute_result",
          "data": {
            "text/html": [
              "<div>\n",
              "<style scoped>\n",
              "    .dataframe tbody tr th:only-of-type {\n",
              "        vertical-align: middle;\n",
              "    }\n",
              "\n",
              "    .dataframe tbody tr th {\n",
              "        vertical-align: top;\n",
              "    }\n",
              "\n",
              "    .dataframe thead th {\n",
              "        text-align: right;\n",
              "    }\n",
              "</style>\n",
              "<table border=\"1\" class=\"dataframe\">\n",
              "  <thead>\n",
              "    <tr style=\"text-align: right;\">\n",
              "      <th></th>\n",
              "      <th>Year of Birth</th>\n",
              "      <th>Gender</th>\n",
              "      <th>Ethnicity</th>\n",
              "      <th>Child's First Name</th>\n",
              "      <th>Count</th>\n",
              "      <th>Rank</th>\n",
              "    </tr>\n",
              "  </thead>\n",
              "  <tbody>\n",
              "    <tr>\n",
              "      <th>0</th>\n",
              "      <td>2011</td>\n",
              "      <td>FEMALE</td>\n",
              "      <td>HISPANIC</td>\n",
              "      <td>GERALDINE</td>\n",
              "      <td>13</td>\n",
              "      <td>75</td>\n",
              "    </tr>\n",
              "    <tr>\n",
              "      <th>1</th>\n",
              "      <td>2011</td>\n",
              "      <td>FEMALE</td>\n",
              "      <td>HISPANIC</td>\n",
              "      <td>GIA</td>\n",
              "      <td>21</td>\n",
              "      <td>67</td>\n",
              "    </tr>\n",
              "    <tr>\n",
              "      <th>2</th>\n",
              "      <td>2011</td>\n",
              "      <td>FEMALE</td>\n",
              "      <td>HISPANIC</td>\n",
              "      <td>GIANNA</td>\n",
              "      <td>49</td>\n",
              "      <td>42</td>\n",
              "    </tr>\n",
              "    <tr>\n",
              "      <th>3</th>\n",
              "      <td>2011</td>\n",
              "      <td>FEMALE</td>\n",
              "      <td>HISPANIC</td>\n",
              "      <td>GISELLE</td>\n",
              "      <td>38</td>\n",
              "      <td>51</td>\n",
              "    </tr>\n",
              "    <tr>\n",
              "      <th>4</th>\n",
              "      <td>2011</td>\n",
              "      <td>FEMALE</td>\n",
              "      <td>HISPANIC</td>\n",
              "      <td>GRACE</td>\n",
              "      <td>36</td>\n",
              "      <td>53</td>\n",
              "    </tr>\n",
              "    <tr>\n",
              "      <th>5</th>\n",
              "      <td>2011</td>\n",
              "      <td>FEMALE</td>\n",
              "      <td>HISPANIC</td>\n",
              "      <td>GUADALUPE</td>\n",
              "      <td>26</td>\n",
              "      <td>62</td>\n",
              "    </tr>\n",
              "    <tr>\n",
              "      <th>6</th>\n",
              "      <td>2011</td>\n",
              "      <td>FEMALE</td>\n",
              "      <td>HISPANIC</td>\n",
              "      <td>HAILEY</td>\n",
              "      <td>126</td>\n",
              "      <td>8</td>\n",
              "    </tr>\n",
              "    <tr>\n",
              "      <th>7</th>\n",
              "      <td>2011</td>\n",
              "      <td>FEMALE</td>\n",
              "      <td>HISPANIC</td>\n",
              "      <td>HALEY</td>\n",
              "      <td>14</td>\n",
              "      <td>74</td>\n",
              "    </tr>\n",
              "    <tr>\n",
              "      <th>8</th>\n",
              "      <td>2011</td>\n",
              "      <td>FEMALE</td>\n",
              "      <td>HISPANIC</td>\n",
              "      <td>HANNAH</td>\n",
              "      <td>17</td>\n",
              "      <td>71</td>\n",
              "    </tr>\n",
              "    <tr>\n",
              "      <th>9</th>\n",
              "      <td>2011</td>\n",
              "      <td>FEMALE</td>\n",
              "      <td>HISPANIC</td>\n",
              "      <td>HAYLEE</td>\n",
              "      <td>17</td>\n",
              "      <td>71</td>\n",
              "    </tr>\n",
              "  </tbody>\n",
              "</table>\n",
              "</div>"
            ],
            "text/plain": [
              "   Year of Birth  Gender Ethnicity Child's First Name  Count  Rank\n",
              "0           2011  FEMALE  HISPANIC          GERALDINE     13    75\n",
              "1           2011  FEMALE  HISPANIC                GIA     21    67\n",
              "2           2011  FEMALE  HISPANIC             GIANNA     49    42\n",
              "3           2011  FEMALE  HISPANIC            GISELLE     38    51\n",
              "4           2011  FEMALE  HISPANIC              GRACE     36    53\n",
              "5           2011  FEMALE  HISPANIC          GUADALUPE     26    62\n",
              "6           2011  FEMALE  HISPANIC             HAILEY    126     8\n",
              "7           2011  FEMALE  HISPANIC              HALEY     14    74\n",
              "8           2011  FEMALE  HISPANIC             HANNAH     17    71\n",
              "9           2011  FEMALE  HISPANIC             HAYLEE     17    71"
            ]
          },
          "metadata": {
            "tags": []
          },
          "execution_count": 36
        }
      ]
    },
    {
      "cell_type": "code",
      "metadata": {
        "colab": {
          "base_uri": "https://localhost:8080/",
          "height": 343
        },
        "id": "k0rpMP_cDO2n",
        "outputId": "8cd4767c-5fa3-43b7-8141-d8d8d72b4e24"
      },
      "source": [
        "data.tail(10)"
      ],
      "execution_count": null,
      "outputs": [
        {
          "output_type": "execute_result",
          "data": {
            "text/html": [
              "<div>\n",
              "<style scoped>\n",
              "    .dataframe tbody tr th:only-of-type {\n",
              "        vertical-align: middle;\n",
              "    }\n",
              "\n",
              "    .dataframe tbody tr th {\n",
              "        vertical-align: top;\n",
              "    }\n",
              "\n",
              "    .dataframe thead th {\n",
              "        text-align: right;\n",
              "    }\n",
              "</style>\n",
              "<table border=\"1\" class=\"dataframe\">\n",
              "  <thead>\n",
              "    <tr style=\"text-align: right;\">\n",
              "      <th></th>\n",
              "      <th>Year of Birth</th>\n",
              "      <th>Gender</th>\n",
              "      <th>Ethnicity</th>\n",
              "      <th>Child's First Name</th>\n",
              "      <th>Count</th>\n",
              "      <th>Rank</th>\n",
              "    </tr>\n",
              "  </thead>\n",
              "  <tbody>\n",
              "    <tr>\n",
              "      <th>22025</th>\n",
              "      <td>2014</td>\n",
              "      <td>MALE</td>\n",
              "      <td>WHITE NON HISPANIC</td>\n",
              "      <td>Yitzchak</td>\n",
              "      <td>15</td>\n",
              "      <td>97</td>\n",
              "    </tr>\n",
              "    <tr>\n",
              "      <th>22026</th>\n",
              "      <td>2014</td>\n",
              "      <td>MALE</td>\n",
              "      <td>WHITE NON HISPANIC</td>\n",
              "      <td>Yitzchok</td>\n",
              "      <td>66</td>\n",
              "      <td>51</td>\n",
              "    </tr>\n",
              "    <tr>\n",
              "      <th>22027</th>\n",
              "      <td>2014</td>\n",
              "      <td>MALE</td>\n",
              "      <td>WHITE NON HISPANIC</td>\n",
              "      <td>Yoel</td>\n",
              "      <td>12</td>\n",
              "      <td>100</td>\n",
              "    </tr>\n",
              "    <tr>\n",
              "      <th>22028</th>\n",
              "      <td>2014</td>\n",
              "      <td>MALE</td>\n",
              "      <td>WHITE NON HISPANIC</td>\n",
              "      <td>Yosef</td>\n",
              "      <td>116</td>\n",
              "      <td>28</td>\n",
              "    </tr>\n",
              "    <tr>\n",
              "      <th>22029</th>\n",
              "      <td>2014</td>\n",
              "      <td>MALE</td>\n",
              "      <td>WHITE NON HISPANIC</td>\n",
              "      <td>Yossi</td>\n",
              "      <td>15</td>\n",
              "      <td>97</td>\n",
              "    </tr>\n",
              "    <tr>\n",
              "      <th>22030</th>\n",
              "      <td>2014</td>\n",
              "      <td>MALE</td>\n",
              "      <td>WHITE NON HISPANIC</td>\n",
              "      <td>Yousef</td>\n",
              "      <td>18</td>\n",
              "      <td>94</td>\n",
              "    </tr>\n",
              "    <tr>\n",
              "      <th>22031</th>\n",
              "      <td>2014</td>\n",
              "      <td>MALE</td>\n",
              "      <td>WHITE NON HISPANIC</td>\n",
              "      <td>Youssef</td>\n",
              "      <td>24</td>\n",
              "      <td>88</td>\n",
              "    </tr>\n",
              "    <tr>\n",
              "      <th>22032</th>\n",
              "      <td>2014</td>\n",
              "      <td>MALE</td>\n",
              "      <td>WHITE NON HISPANIC</td>\n",
              "      <td>Yusuf</td>\n",
              "      <td>16</td>\n",
              "      <td>96</td>\n",
              "    </tr>\n",
              "    <tr>\n",
              "      <th>22033</th>\n",
              "      <td>2014</td>\n",
              "      <td>MALE</td>\n",
              "      <td>WHITE NON HISPANIC</td>\n",
              "      <td>Zachary</td>\n",
              "      <td>90</td>\n",
              "      <td>39</td>\n",
              "    </tr>\n",
              "    <tr>\n",
              "      <th>22034</th>\n",
              "      <td>2014</td>\n",
              "      <td>MALE</td>\n",
              "      <td>WHITE NON HISPANIC</td>\n",
              "      <td>Zev</td>\n",
              "      <td>49</td>\n",
              "      <td>65</td>\n",
              "    </tr>\n",
              "  </tbody>\n",
              "</table>\n",
              "</div>"
            ],
            "text/plain": [
              "       Year of Birth Gender           Ethnicity Child's First Name  Count  Rank\n",
              "22025           2014   MALE  WHITE NON HISPANIC           Yitzchak     15    97\n",
              "22026           2014   MALE  WHITE NON HISPANIC           Yitzchok     66    51\n",
              "22027           2014   MALE  WHITE NON HISPANIC               Yoel     12   100\n",
              "22028           2014   MALE  WHITE NON HISPANIC              Yosef    116    28\n",
              "22029           2014   MALE  WHITE NON HISPANIC              Yossi     15    97\n",
              "22030           2014   MALE  WHITE NON HISPANIC             Yousef     18    94\n",
              "22031           2014   MALE  WHITE NON HISPANIC            Youssef     24    88\n",
              "22032           2014   MALE  WHITE NON HISPANIC              Yusuf     16    96\n",
              "22033           2014   MALE  WHITE NON HISPANIC            Zachary     90    39\n",
              "22034           2014   MALE  WHITE NON HISPANIC                Zev     49    65"
            ]
          },
          "metadata": {
            "tags": []
          },
          "execution_count": 37
        }
      ]
    },
    {
      "cell_type": "code",
      "metadata": {
        "colab": {
          "base_uri": "https://localhost:8080/"
        },
        "id": "uBr8bo5wy03Z",
        "outputId": "8948711c-60f6-4adc-8a3f-eec851d4ef74"
      },
      "source": [
        "data['Year of Birth']"
      ],
      "execution_count": null,
      "outputs": [
        {
          "output_type": "execute_result",
          "data": {
            "text/plain": [
              "0        2011\n",
              "1        2011\n",
              "2        2011\n",
              "3        2011\n",
              "4        2011\n",
              "         ... \n",
              "22030    2014\n",
              "22031    2014\n",
              "22032    2014\n",
              "22033    2014\n",
              "22034    2014\n",
              "Name: Year of Birth, Length: 22035, dtype: int64"
            ]
          },
          "metadata": {
            "tags": []
          },
          "execution_count": 38
        }
      ]
    },
    {
      "cell_type": "markdown",
      "metadata": {
        "id": "O8OoUd0ry5rb"
      },
      "source": [
        "**Pandas ofrece una serie de análisis estadísticos sobre cada serie**\n",
        "\n",
        "Podemos sumar el número total de nombres (niños) de toda la base de datos"
      ]
    },
    {
      "cell_type": "code",
      "metadata": {
        "colab": {
          "base_uri": "https://localhost:8080/"
        },
        "id": "pFa1E55py2vC",
        "outputId": "74ee6ea7-741b-4d2e-fa9c-a0ac7f3f80bf"
      },
      "source": [
        "data['Count']"
      ],
      "execution_count": null,
      "outputs": [
        {
          "output_type": "execute_result",
          "data": {
            "text/plain": [
              "0        13\n",
              "1        21\n",
              "2        49\n",
              "3        38\n",
              "4        36\n",
              "         ..\n",
              "22030    18\n",
              "22031    24\n",
              "22032    16\n",
              "22033    90\n",
              "22034    49\n",
              "Name: Count, Length: 22035, dtype: int64"
            ]
          },
          "metadata": {
            "tags": []
          },
          "execution_count": 39
        }
      ]
    },
    {
      "cell_type": "code",
      "metadata": {
        "colab": {
          "base_uri": "https://localhost:8080/"
        },
        "id": "FNbwjqz3y8Lh",
        "outputId": "c80d4eda-1254-4780-baef-ca82c1addc49"
      },
      "source": [
        "data['Count'].sum()"
      ],
      "execution_count": null,
      "outputs": [
        {
          "output_type": "execute_result",
          "data": {
            "text/plain": [
              "760490"
            ]
          },
          "metadata": {
            "tags": []
          },
          "execution_count": 40
        }
      ]
    },
    {
      "cell_type": "code",
      "metadata": {
        "colab": {
          "base_uri": "https://localhost:8080/",
          "height": 402
        },
        "id": "FaR9F8KOy-gN",
        "outputId": "3b1707b3-dac3-42f7-e7e7-7bdb14de20e2"
      },
      "source": [
        "data.sort_values('Count')"
      ],
      "execution_count": null,
      "outputs": [
        {
          "output_type": "execute_result",
          "data": {
            "text/html": [
              "<div>\n",
              "<style scoped>\n",
              "    .dataframe tbody tr th:only-of-type {\n",
              "        vertical-align: middle;\n",
              "    }\n",
              "\n",
              "    .dataframe tbody tr th {\n",
              "        vertical-align: top;\n",
              "    }\n",
              "\n",
              "    .dataframe thead th {\n",
              "        text-align: right;\n",
              "    }\n",
              "</style>\n",
              "<table border=\"1\" class=\"dataframe\">\n",
              "  <thead>\n",
              "    <tr style=\"text-align: right;\">\n",
              "      <th></th>\n",
              "      <th>Year of Birth</th>\n",
              "      <th>Gender</th>\n",
              "      <th>Ethnicity</th>\n",
              "      <th>Child's First Name</th>\n",
              "      <th>Count</th>\n",
              "      <th>Rank</th>\n",
              "    </tr>\n",
              "  </thead>\n",
              "  <tbody>\n",
              "    <tr>\n",
              "      <th>2767</th>\n",
              "      <td>2011</td>\n",
              "      <td>FEMALE</td>\n",
              "      <td>HISPANIC</td>\n",
              "      <td>ABBY</td>\n",
              "      <td>10</td>\n",
              "      <td>78</td>\n",
              "    </tr>\n",
              "    <tr>\n",
              "      <th>11025</th>\n",
              "      <td>2013</td>\n",
              "      <td>MALE</td>\n",
              "      <td>ASIAN AND PACIFIC ISLANDER</td>\n",
              "      <td>Nolan</td>\n",
              "      <td>10</td>\n",
              "      <td>57</td>\n",
              "    </tr>\n",
              "    <tr>\n",
              "      <th>17344</th>\n",
              "      <td>2012</td>\n",
              "      <td>FEMALE</td>\n",
              "      <td>WHITE NON HISP</td>\n",
              "      <td>MARYAM</td>\n",
              "      <td>10</td>\n",
              "      <td>83</td>\n",
              "    </tr>\n",
              "    <tr>\n",
              "      <th>17347</th>\n",
              "      <td>2012</td>\n",
              "      <td>FEMALE</td>\n",
              "      <td>WHITE NON HISP</td>\n",
              "      <td>MELANIE</td>\n",
              "      <td>10</td>\n",
              "      <td>83</td>\n",
              "    </tr>\n",
              "    <tr>\n",
              "      <th>11013</th>\n",
              "      <td>2013</td>\n",
              "      <td>MALE</td>\n",
              "      <td>ASIAN AND PACIFIC ISLANDER</td>\n",
              "      <td>Maximilian</td>\n",
              "      <td>10</td>\n",
              "      <td>57</td>\n",
              "    </tr>\n",
              "    <tr>\n",
              "      <th>...</th>\n",
              "      <td>...</td>\n",
              "      <td>...</td>\n",
              "      <td>...</td>\n",
              "      <td>...</td>\n",
              "      <td>...</td>\n",
              "      <td>...</td>\n",
              "    </tr>\n",
              "    <tr>\n",
              "      <th>15965</th>\n",
              "      <td>2011</td>\n",
              "      <td>MALE</td>\n",
              "      <td>HISPANIC</td>\n",
              "      <td>JAYDEN</td>\n",
              "      <td>426</td>\n",
              "      <td>1</td>\n",
              "    </tr>\n",
              "    <tr>\n",
              "      <th>3505</th>\n",
              "      <td>2011</td>\n",
              "      <td>MALE</td>\n",
              "      <td>HISPANIC</td>\n",
              "      <td>JAYDEN</td>\n",
              "      <td>426</td>\n",
              "      <td>1</td>\n",
              "    </tr>\n",
              "    <tr>\n",
              "      <th>5430</th>\n",
              "      <td>2011</td>\n",
              "      <td>MALE</td>\n",
              "      <td>HISPANIC</td>\n",
              "      <td>JAYDEN</td>\n",
              "      <td>426</td>\n",
              "      <td>1</td>\n",
              "    </tr>\n",
              "    <tr>\n",
              "      <th>7393</th>\n",
              "      <td>2011</td>\n",
              "      <td>MALE</td>\n",
              "      <td>HISPANIC</td>\n",
              "      <td>JAYDEN</td>\n",
              "      <td>426</td>\n",
              "      <td>1</td>\n",
              "    </tr>\n",
              "    <tr>\n",
              "      <th>1504</th>\n",
              "      <td>2011</td>\n",
              "      <td>MALE</td>\n",
              "      <td>HISPANIC</td>\n",
              "      <td>JAYDEN</td>\n",
              "      <td>426</td>\n",
              "      <td>1</td>\n",
              "    </tr>\n",
              "  </tbody>\n",
              "</table>\n",
              "<p>22035 rows × 6 columns</p>\n",
              "</div>"
            ],
            "text/plain": [
              "       Year of Birth  Gender  ... Count Rank\n",
              "2767            2011  FEMALE  ...    10   78\n",
              "11025           2013    MALE  ...    10   57\n",
              "17344           2012  FEMALE  ...    10   83\n",
              "17347           2012  FEMALE  ...    10   83\n",
              "11013           2013    MALE  ...    10   57\n",
              "...              ...     ...  ...   ...  ...\n",
              "15965           2011    MALE  ...   426    1\n",
              "3505            2011    MALE  ...   426    1\n",
              "5430            2011    MALE  ...   426    1\n",
              "7393            2011    MALE  ...   426    1\n",
              "1504            2011    MALE  ...   426    1\n",
              "\n",
              "[22035 rows x 6 columns]"
            ]
          },
          "metadata": {
            "tags": []
          },
          "execution_count": 41
        }
      ]
    },
    {
      "cell_type": "code",
      "metadata": {
        "colab": {
          "base_uri": "https://localhost:8080/",
          "height": 402
        },
        "id": "-T7gxHdDzAnQ",
        "outputId": "aed835df-ce8d-40bb-c141-cb06bc59ad40"
      },
      "source": [
        "data.sort_values('Count',ascending=False)"
      ],
      "execution_count": null,
      "outputs": [
        {
          "output_type": "execute_result",
          "data": {
            "text/html": [
              "<div>\n",
              "<style scoped>\n",
              "    .dataframe tbody tr th:only-of-type {\n",
              "        vertical-align: middle;\n",
              "    }\n",
              "\n",
              "    .dataframe tbody tr th {\n",
              "        vertical-align: top;\n",
              "    }\n",
              "\n",
              "    .dataframe thead th {\n",
              "        text-align: right;\n",
              "    }\n",
              "</style>\n",
              "<table border=\"1\" class=\"dataframe\">\n",
              "  <thead>\n",
              "    <tr style=\"text-align: right;\">\n",
              "      <th></th>\n",
              "      <th>Year of Birth</th>\n",
              "      <th>Gender</th>\n",
              "      <th>Ethnicity</th>\n",
              "      <th>Child's First Name</th>\n",
              "      <th>Count</th>\n",
              "      <th>Rank</th>\n",
              "    </tr>\n",
              "  </thead>\n",
              "  <tbody>\n",
              "    <tr>\n",
              "      <th>3505</th>\n",
              "      <td>2011</td>\n",
              "      <td>MALE</td>\n",
              "      <td>HISPANIC</td>\n",
              "      <td>JAYDEN</td>\n",
              "      <td>426</td>\n",
              "      <td>1</td>\n",
              "    </tr>\n",
              "    <tr>\n",
              "      <th>5430</th>\n",
              "      <td>2011</td>\n",
              "      <td>MALE</td>\n",
              "      <td>HISPANIC</td>\n",
              "      <td>JAYDEN</td>\n",
              "      <td>426</td>\n",
              "      <td>1</td>\n",
              "    </tr>\n",
              "    <tr>\n",
              "      <th>1504</th>\n",
              "      <td>2011</td>\n",
              "      <td>MALE</td>\n",
              "      <td>HISPANIC</td>\n",
              "      <td>JAYDEN</td>\n",
              "      <td>426</td>\n",
              "      <td>1</td>\n",
              "    </tr>\n",
              "    <tr>\n",
              "      <th>7393</th>\n",
              "      <td>2011</td>\n",
              "      <td>MALE</td>\n",
              "      <td>HISPANIC</td>\n",
              "      <td>JAYDEN</td>\n",
              "      <td>426</td>\n",
              "      <td>1</td>\n",
              "    </tr>\n",
              "    <tr>\n",
              "      <th>15965</th>\n",
              "      <td>2011</td>\n",
              "      <td>MALE</td>\n",
              "      <td>HISPANIC</td>\n",
              "      <td>JAYDEN</td>\n",
              "      <td>426</td>\n",
              "      <td>1</td>\n",
              "    </tr>\n",
              "    <tr>\n",
              "      <th>...</th>\n",
              "      <td>...</td>\n",
              "      <td>...</td>\n",
              "      <td>...</td>\n",
              "      <td>...</td>\n",
              "      <td>...</td>\n",
              "      <td>...</td>\n",
              "    </tr>\n",
              "    <tr>\n",
              "      <th>3906</th>\n",
              "      <td>2011</td>\n",
              "      <td>MALE</td>\n",
              "      <td>WHITE NON HISPANIC</td>\n",
              "      <td>SHAUL</td>\n",
              "      <td>10</td>\n",
              "      <td>97</td>\n",
              "    </tr>\n",
              "    <tr>\n",
              "      <th>6480</th>\n",
              "      <td>2011</td>\n",
              "      <td>FEMALE</td>\n",
              "      <td>HISPANIC</td>\n",
              "      <td>NANCY</td>\n",
              "      <td>10</td>\n",
              "      <td>78</td>\n",
              "    </tr>\n",
              "    <tr>\n",
              "      <th>8969</th>\n",
              "      <td>2012</td>\n",
              "      <td>MALE</td>\n",
              "      <td>ASIAN AND PACI</td>\n",
              "      <td>JIMMY</td>\n",
              "      <td>10</td>\n",
              "      <td>61</td>\n",
              "    </tr>\n",
              "    <tr>\n",
              "      <th>20740</th>\n",
              "      <td>2014</td>\n",
              "      <td>FEMALE</td>\n",
              "      <td>WHITE NON HISPANIC</td>\n",
              "      <td>Delilah</td>\n",
              "      <td>10</td>\n",
              "      <td>86</td>\n",
              "    </tr>\n",
              "    <tr>\n",
              "      <th>7703</th>\n",
              "      <td>2011</td>\n",
              "      <td>MALE</td>\n",
              "      <td>WHITE NON HISPANIC</td>\n",
              "      <td>LEV</td>\n",
              "      <td>10</td>\n",
              "      <td>97</td>\n",
              "    </tr>\n",
              "  </tbody>\n",
              "</table>\n",
              "<p>22035 rows × 6 columns</p>\n",
              "</div>"
            ],
            "text/plain": [
              "       Year of Birth  Gender  ... Count Rank\n",
              "3505            2011    MALE  ...   426    1\n",
              "5430            2011    MALE  ...   426    1\n",
              "1504            2011    MALE  ...   426    1\n",
              "7393            2011    MALE  ...   426    1\n",
              "15965           2011    MALE  ...   426    1\n",
              "...              ...     ...  ...   ...  ...\n",
              "3906            2011    MALE  ...    10   97\n",
              "6480            2011  FEMALE  ...    10   78\n",
              "8969            2012    MALE  ...    10   61\n",
              "20740           2014  FEMALE  ...    10   86\n",
              "7703            2011    MALE  ...    10   97\n",
              "\n",
              "[22035 rows x 6 columns]"
            ]
          },
          "metadata": {
            "tags": []
          },
          "execution_count": 42
        }
      ]
    },
    {
      "cell_type": "markdown",
      "metadata": {
        "id": "CoQ73Oa0zFqr"
      },
      "source": [
        "** Ahora ordenamos según el año, genero y número de niños.**"
      ]
    },
    {
      "cell_type": "code",
      "metadata": {
        "colab": {
          "base_uri": "https://localhost:8080/",
          "height": 402
        },
        "id": "DOEmUm79zC2F",
        "outputId": "fc1cb118-7b7f-4145-a8d4-344d35d9a9c2"
      },
      "source": [
        "data.sort_values(['Year of Birth','Gender','Count'],ascending=False)"
      ],
      "execution_count": null,
      "outputs": [
        {
          "output_type": "execute_result",
          "data": {
            "text/html": [
              "<div>\n",
              "<style scoped>\n",
              "    .dataframe tbody tr th:only-of-type {\n",
              "        vertical-align: middle;\n",
              "    }\n",
              "\n",
              "    .dataframe tbody tr th {\n",
              "        vertical-align: top;\n",
              "    }\n",
              "\n",
              "    .dataframe thead th {\n",
              "        text-align: right;\n",
              "    }\n",
              "</style>\n",
              "<table border=\"1\" class=\"dataframe\">\n",
              "  <thead>\n",
              "    <tr style=\"text-align: right;\">\n",
              "      <th></th>\n",
              "      <th>Year of Birth</th>\n",
              "      <th>Gender</th>\n",
              "      <th>Ethnicity</th>\n",
              "      <th>Child's First Name</th>\n",
              "      <th>Count</th>\n",
              "      <th>Rank</th>\n",
              "    </tr>\n",
              "  </thead>\n",
              "  <tbody>\n",
              "    <tr>\n",
              "      <th>13514</th>\n",
              "      <td>2014</td>\n",
              "      <td>MALE</td>\n",
              "      <td>HISPANIC</td>\n",
              "      <td>Liam</td>\n",
              "      <td>312</td>\n",
              "      <td>1</td>\n",
              "    </tr>\n",
              "    <tr>\n",
              "      <th>21143</th>\n",
              "      <td>2014</td>\n",
              "      <td>MALE</td>\n",
              "      <td>HISPANIC</td>\n",
              "      <td>Liam</td>\n",
              "      <td>312</td>\n",
              "      <td>1</td>\n",
              "    </tr>\n",
              "    <tr>\n",
              "      <th>13782</th>\n",
              "      <td>2014</td>\n",
              "      <td>MALE</td>\n",
              "      <td>WHITE NON HISPANIC</td>\n",
              "      <td>Joseph</td>\n",
              "      <td>300</td>\n",
              "      <td>1</td>\n",
              "    </tr>\n",
              "    <tr>\n",
              "      <th>21855</th>\n",
              "      <td>2014</td>\n",
              "      <td>MALE</td>\n",
              "      <td>WHITE NON HISPANIC</td>\n",
              "      <td>Joseph</td>\n",
              "      <td>300</td>\n",
              "      <td>1</td>\n",
              "    </tr>\n",
              "    <tr>\n",
              "      <th>13400</th>\n",
              "      <td>2014</td>\n",
              "      <td>MALE</td>\n",
              "      <td>HISPANIC</td>\n",
              "      <td>Dylan</td>\n",
              "      <td>292</td>\n",
              "      <td>2</td>\n",
              "    </tr>\n",
              "    <tr>\n",
              "      <th>...</th>\n",
              "      <td>...</td>\n",
              "      <td>...</td>\n",
              "      <td>...</td>\n",
              "      <td>...</td>\n",
              "      <td>...</td>\n",
              "      <td>...</td>\n",
              "    </tr>\n",
              "    <tr>\n",
              "      <th>15301</th>\n",
              "      <td>2011</td>\n",
              "      <td>FEMALE</td>\n",
              "      <td>HISPANIC</td>\n",
              "      <td>ARIANNY</td>\n",
              "      <td>10</td>\n",
              "      <td>78</td>\n",
              "    </tr>\n",
              "    <tr>\n",
              "      <th>15317</th>\n",
              "      <td>2011</td>\n",
              "      <td>FEMALE</td>\n",
              "      <td>HISPANIC</td>\n",
              "      <td>BRIANNY</td>\n",
              "      <td>10</td>\n",
              "      <td>78</td>\n",
              "    </tr>\n",
              "    <tr>\n",
              "      <th>15326</th>\n",
              "      <td>2011</td>\n",
              "      <td>FEMALE</td>\n",
              "      <td>HISPANIC</td>\n",
              "      <td>CASSANDRA</td>\n",
              "      <td>10</td>\n",
              "      <td>78</td>\n",
              "    </tr>\n",
              "    <tr>\n",
              "      <th>15334</th>\n",
              "      <td>2011</td>\n",
              "      <td>FEMALE</td>\n",
              "      <td>HISPANIC</td>\n",
              "      <td>CRISTINA</td>\n",
              "      <td>10</td>\n",
              "      <td>78</td>\n",
              "    </tr>\n",
              "    <tr>\n",
              "      <th>15336</th>\n",
              "      <td>2011</td>\n",
              "      <td>FEMALE</td>\n",
              "      <td>HISPANIC</td>\n",
              "      <td>CYNTHIA</td>\n",
              "      <td>10</td>\n",
              "      <td>78</td>\n",
              "    </tr>\n",
              "  </tbody>\n",
              "</table>\n",
              "<p>22035 rows × 6 columns</p>\n",
              "</div>"
            ],
            "text/plain": [
              "       Year of Birth  Gender  ... Count Rank\n",
              "13514           2014    MALE  ...   312    1\n",
              "21143           2014    MALE  ...   312    1\n",
              "13782           2014    MALE  ...   300    1\n",
              "21855           2014    MALE  ...   300    1\n",
              "13400           2014    MALE  ...   292    2\n",
              "...              ...     ...  ...   ...  ...\n",
              "15301           2011  FEMALE  ...    10   78\n",
              "15317           2011  FEMALE  ...    10   78\n",
              "15326           2011  FEMALE  ...    10   78\n",
              "15334           2011  FEMALE  ...    10   78\n",
              "15336           2011  FEMALE  ...    10   78\n",
              "\n",
              "[22035 rows x 6 columns]"
            ]
          },
          "metadata": {
            "tags": []
          },
          "execution_count": 43
        }
      ]
    },
    {
      "cell_type": "markdown",
      "metadata": {
        "id": "CNLf_cK0zWDe"
      },
      "source": [
        "**Busquemos un nombre en especial , p.e. EMMA** \n",
        "\n",
        "Esto se hace con la función: data.loc[df['column_name'] == some_value]"
      ]
    },
    {
      "cell_type": "code",
      "metadata": {
        "colab": {
          "base_uri": "https://localhost:8080/"
        },
        "id": "nKS-Coo3zI2a",
        "outputId": "5544c80f-e9a2-41b9-d68c-aec846e1546d"
      },
      "source": [
        "data['Child\\'s First Name'] == \"EMMA\""
      ],
      "execution_count": null,
      "outputs": [
        {
          "output_type": "execute_result",
          "data": {
            "text/plain": [
              "0        False\n",
              "1        False\n",
              "2        False\n",
              "3        False\n",
              "4        False\n",
              "         ...  \n",
              "22030    False\n",
              "22031    False\n",
              "22032    False\n",
              "22033    False\n",
              "22034    False\n",
              "Name: Child's First Name, Length: 22035, dtype: bool"
            ]
          },
          "metadata": {
            "tags": []
          },
          "execution_count": 44
        }
      ]
    },
    {
      "cell_type": "code",
      "metadata": {
        "colab": {
          "base_uri": "https://localhost:8080/",
          "height": 876
        },
        "id": "pQiOfzk9zUIB",
        "outputId": "632e9488-51ee-41fe-87ce-e2a87203c84a"
      },
      "source": [
        "data_ema = data.loc[data['Child\\'s First Name'] == \"EMMA\"]\n",
        "data_ema"
      ],
      "execution_count": null,
      "outputs": [
        {
          "output_type": "execute_result",
          "data": {
            "text/html": [
              "<div>\n",
              "<style scoped>\n",
              "    .dataframe tbody tr th:only-of-type {\n",
              "        vertical-align: middle;\n",
              "    }\n",
              "\n",
              "    .dataframe tbody tr th {\n",
              "        vertical-align: top;\n",
              "    }\n",
              "\n",
              "    .dataframe thead th {\n",
              "        text-align: right;\n",
              "    }\n",
              "</style>\n",
              "<table border=\"1\" class=\"dataframe\">\n",
              "  <thead>\n",
              "    <tr style=\"text-align: right;\">\n",
              "      <th></th>\n",
              "      <th>Year of Birth</th>\n",
              "      <th>Gender</th>\n",
              "      <th>Ethnicity</th>\n",
              "      <th>Child's First Name</th>\n",
              "      <th>Count</th>\n",
              "      <th>Rank</th>\n",
              "    </tr>\n",
              "  </thead>\n",
              "  <tbody>\n",
              "    <tr>\n",
              "      <th>319</th>\n",
              "      <td>2011</td>\n",
              "      <td>FEMALE</td>\n",
              "      <td>WHITE NON HISPANIC</td>\n",
              "      <td>EMMA</td>\n",
              "      <td>213</td>\n",
              "      <td>2</td>\n",
              "    </tr>\n",
              "    <tr>\n",
              "      <th>1009</th>\n",
              "      <td>2011</td>\n",
              "      <td>FEMALE</td>\n",
              "      <td>ASIAN AND PACIFIC ISLANDER</td>\n",
              "      <td>EMMA</td>\n",
              "      <td>75</td>\n",
              "      <td>5</td>\n",
              "    </tr>\n",
              "    <tr>\n",
              "      <th>1161</th>\n",
              "      <td>2011</td>\n",
              "      <td>FEMALE</td>\n",
              "      <td>BLACK NON HISPANIC</td>\n",
              "      <td>EMMA</td>\n",
              "      <td>15</td>\n",
              "      <td>40</td>\n",
              "    </tr>\n",
              "    <tr>\n",
              "      <th>1398</th>\n",
              "      <td>2011</td>\n",
              "      <td>FEMALE</td>\n",
              "      <td>HISPANIC</td>\n",
              "      <td>EMMA</td>\n",
              "      <td>114</td>\n",
              "      <td>11</td>\n",
              "    </tr>\n",
              "    <tr>\n",
              "      <th>2481</th>\n",
              "      <td>2011</td>\n",
              "      <td>FEMALE</td>\n",
              "      <td>ASIAN AND PACIFIC ISLANDER</td>\n",
              "      <td>EMMA</td>\n",
              "      <td>75</td>\n",
              "      <td>5</td>\n",
              "    </tr>\n",
              "    <tr>\n",
              "      <th>2633</th>\n",
              "      <td>2011</td>\n",
              "      <td>FEMALE</td>\n",
              "      <td>BLACK NON HISPANIC</td>\n",
              "      <td>EMMA</td>\n",
              "      <td>15</td>\n",
              "      <td>40</td>\n",
              "    </tr>\n",
              "    <tr>\n",
              "      <th>2870</th>\n",
              "      <td>2011</td>\n",
              "      <td>FEMALE</td>\n",
              "      <td>HISPANIC</td>\n",
              "      <td>EMMA</td>\n",
              "      <td>114</td>\n",
              "      <td>11</td>\n",
              "    </tr>\n",
              "    <tr>\n",
              "      <th>3203</th>\n",
              "      <td>2011</td>\n",
              "      <td>FEMALE</td>\n",
              "      <td>WHITE NON HISPANIC</td>\n",
              "      <td>EMMA</td>\n",
              "      <td>213</td>\n",
              "      <td>2</td>\n",
              "    </tr>\n",
              "    <tr>\n",
              "      <th>3981</th>\n",
              "      <td>2011</td>\n",
              "      <td>FEMALE</td>\n",
              "      <td>ASIAN AND PACIFIC ISLANDER</td>\n",
              "      <td>EMMA</td>\n",
              "      <td>75</td>\n",
              "      <td>5</td>\n",
              "    </tr>\n",
              "    <tr>\n",
              "      <th>4133</th>\n",
              "      <td>2011</td>\n",
              "      <td>FEMALE</td>\n",
              "      <td>BLACK NON HISPANIC</td>\n",
              "      <td>EMMA</td>\n",
              "      <td>15</td>\n",
              "      <td>40</td>\n",
              "    </tr>\n",
              "    <tr>\n",
              "      <th>4370</th>\n",
              "      <td>2011</td>\n",
              "      <td>FEMALE</td>\n",
              "      <td>HISPANIC</td>\n",
              "      <td>EMMA</td>\n",
              "      <td>114</td>\n",
              "      <td>11</td>\n",
              "    </tr>\n",
              "    <tr>\n",
              "      <th>4703</th>\n",
              "      <td>2011</td>\n",
              "      <td>FEMALE</td>\n",
              "      <td>WHITE NON HISPANIC</td>\n",
              "      <td>EMMA</td>\n",
              "      <td>213</td>\n",
              "      <td>2</td>\n",
              "    </tr>\n",
              "    <tr>\n",
              "      <th>5944</th>\n",
              "      <td>2011</td>\n",
              "      <td>FEMALE</td>\n",
              "      <td>ASIAN AND PACIFIC ISLANDER</td>\n",
              "      <td>EMMA</td>\n",
              "      <td>75</td>\n",
              "      <td>5</td>\n",
              "    </tr>\n",
              "    <tr>\n",
              "      <th>6096</th>\n",
              "      <td>2011</td>\n",
              "      <td>FEMALE</td>\n",
              "      <td>BLACK NON HISPANIC</td>\n",
              "      <td>EMMA</td>\n",
              "      <td>15</td>\n",
              "      <td>40</td>\n",
              "    </tr>\n",
              "    <tr>\n",
              "      <th>6333</th>\n",
              "      <td>2011</td>\n",
              "      <td>FEMALE</td>\n",
              "      <td>HISPANIC</td>\n",
              "      <td>EMMA</td>\n",
              "      <td>114</td>\n",
              "      <td>11</td>\n",
              "    </tr>\n",
              "    <tr>\n",
              "      <th>6666</th>\n",
              "      <td>2011</td>\n",
              "      <td>FEMALE</td>\n",
              "      <td>WHITE NON HISPANIC</td>\n",
              "      <td>EMMA</td>\n",
              "      <td>213</td>\n",
              "      <td>2</td>\n",
              "    </tr>\n",
              "    <tr>\n",
              "      <th>7918</th>\n",
              "      <td>2012</td>\n",
              "      <td>FEMALE</td>\n",
              "      <td>ASIAN AND PACI</td>\n",
              "      <td>EMMA</td>\n",
              "      <td>97</td>\n",
              "      <td>5</td>\n",
              "    </tr>\n",
              "    <tr>\n",
              "      <th>8084</th>\n",
              "      <td>2012</td>\n",
              "      <td>FEMALE</td>\n",
              "      <td>BLACK NON HISP</td>\n",
              "      <td>EMMA</td>\n",
              "      <td>27</td>\n",
              "      <td>31</td>\n",
              "    </tr>\n",
              "    <tr>\n",
              "      <th>8302</th>\n",
              "      <td>2012</td>\n",
              "      <td>FEMALE</td>\n",
              "      <td>HISPANIC</td>\n",
              "      <td>EMMA</td>\n",
              "      <td>125</td>\n",
              "      <td>9</td>\n",
              "    </tr>\n",
              "    <tr>\n",
              "      <th>8619</th>\n",
              "      <td>2012</td>\n",
              "      <td>FEMALE</td>\n",
              "      <td>WHITE NON HISP</td>\n",
              "      <td>EMMA</td>\n",
              "      <td>228</td>\n",
              "      <td>1</td>\n",
              "    </tr>\n",
              "    <tr>\n",
              "      <th>14281</th>\n",
              "      <td>2011</td>\n",
              "      <td>FEMALE</td>\n",
              "      <td>WHITE NON HISPANIC</td>\n",
              "      <td>EMMA</td>\n",
              "      <td>213</td>\n",
              "      <td>2</td>\n",
              "    </tr>\n",
              "    <tr>\n",
              "      <th>14971</th>\n",
              "      <td>2011</td>\n",
              "      <td>FEMALE</td>\n",
              "      <td>ASIAN AND PACIFIC ISLANDER</td>\n",
              "      <td>EMMA</td>\n",
              "      <td>75</td>\n",
              "      <td>5</td>\n",
              "    </tr>\n",
              "    <tr>\n",
              "      <th>15123</th>\n",
              "      <td>2011</td>\n",
              "      <td>FEMALE</td>\n",
              "      <td>BLACK NON HISPANIC</td>\n",
              "      <td>EMMA</td>\n",
              "      <td>15</td>\n",
              "      <td>40</td>\n",
              "    </tr>\n",
              "    <tr>\n",
              "      <th>15360</th>\n",
              "      <td>2011</td>\n",
              "      <td>FEMALE</td>\n",
              "      <td>HISPANIC</td>\n",
              "      <td>EMMA</td>\n",
              "      <td>114</td>\n",
              "      <td>11</td>\n",
              "    </tr>\n",
              "    <tr>\n",
              "      <th>15478</th>\n",
              "      <td>2012</td>\n",
              "      <td>FEMALE</td>\n",
              "      <td>ASIAN AND PACI</td>\n",
              "      <td>EMMA</td>\n",
              "      <td>97</td>\n",
              "      <td>5</td>\n",
              "    </tr>\n",
              "    <tr>\n",
              "      <th>15644</th>\n",
              "      <td>2012</td>\n",
              "      <td>FEMALE</td>\n",
              "      <td>BLACK NON HISP</td>\n",
              "      <td>EMMA</td>\n",
              "      <td>27</td>\n",
              "      <td>31</td>\n",
              "    </tr>\n",
              "    <tr>\n",
              "      <th>15862</th>\n",
              "      <td>2012</td>\n",
              "      <td>FEMALE</td>\n",
              "      <td>HISPANIC</td>\n",
              "      <td>EMMA</td>\n",
              "      <td>125</td>\n",
              "      <td>9</td>\n",
              "    </tr>\n",
              "    <tr>\n",
              "      <th>17208</th>\n",
              "      <td>2012</td>\n",
              "      <td>FEMALE</td>\n",
              "      <td>WHITE NON HISP</td>\n",
              "      <td>EMMA</td>\n",
              "      <td>228</td>\n",
              "      <td>1</td>\n",
              "    </tr>\n",
              "  </tbody>\n",
              "</table>\n",
              "</div>"
            ],
            "text/plain": [
              "       Year of Birth  Gender  ... Count Rank\n",
              "319             2011  FEMALE  ...   213    2\n",
              "1009            2011  FEMALE  ...    75    5\n",
              "1161            2011  FEMALE  ...    15   40\n",
              "1398            2011  FEMALE  ...   114   11\n",
              "2481            2011  FEMALE  ...    75    5\n",
              "2633            2011  FEMALE  ...    15   40\n",
              "2870            2011  FEMALE  ...   114   11\n",
              "3203            2011  FEMALE  ...   213    2\n",
              "3981            2011  FEMALE  ...    75    5\n",
              "4133            2011  FEMALE  ...    15   40\n",
              "4370            2011  FEMALE  ...   114   11\n",
              "4703            2011  FEMALE  ...   213    2\n",
              "5944            2011  FEMALE  ...    75    5\n",
              "6096            2011  FEMALE  ...    15   40\n",
              "6333            2011  FEMALE  ...   114   11\n",
              "6666            2011  FEMALE  ...   213    2\n",
              "7918            2012  FEMALE  ...    97    5\n",
              "8084            2012  FEMALE  ...    27   31\n",
              "8302            2012  FEMALE  ...   125    9\n",
              "8619            2012  FEMALE  ...   228    1\n",
              "14281           2011  FEMALE  ...   213    2\n",
              "14971           2011  FEMALE  ...    75    5\n",
              "15123           2011  FEMALE  ...    15   40\n",
              "15360           2011  FEMALE  ...   114   11\n",
              "15478           2012  FEMALE  ...    97    5\n",
              "15644           2012  FEMALE  ...    27   31\n",
              "15862           2012  FEMALE  ...   125    9\n",
              "17208           2012  FEMALE  ...   228    1\n",
              "\n",
              "[28 rows x 6 columns]"
            ]
          },
          "metadata": {
            "tags": []
          },
          "execution_count": 45
        }
      ]
    },
    {
      "cell_type": "code",
      "metadata": {
        "id": "X0RHo5Riz71s"
      },
      "source": [
        "data_ema_2012 = data_ema.loc[data_ema['Year of Birth'] == 2012]"
      ],
      "execution_count": null,
      "outputs": []
    },
    {
      "cell_type": "code",
      "metadata": {
        "colab": {
          "base_uri": "https://localhost:8080/",
          "height": 284
        },
        "id": "Jhf2KG0qz8fb",
        "outputId": "a348e9d4-dc5c-4253-e270-796b1a05aaf2"
      },
      "source": [
        "data_ema_2012"
      ],
      "execution_count": null,
      "outputs": [
        {
          "output_type": "execute_result",
          "data": {
            "text/html": [
              "<div>\n",
              "<style scoped>\n",
              "    .dataframe tbody tr th:only-of-type {\n",
              "        vertical-align: middle;\n",
              "    }\n",
              "\n",
              "    .dataframe tbody tr th {\n",
              "        vertical-align: top;\n",
              "    }\n",
              "\n",
              "    .dataframe thead th {\n",
              "        text-align: right;\n",
              "    }\n",
              "</style>\n",
              "<table border=\"1\" class=\"dataframe\">\n",
              "  <thead>\n",
              "    <tr style=\"text-align: right;\">\n",
              "      <th></th>\n",
              "      <th>Year of Birth</th>\n",
              "      <th>Gender</th>\n",
              "      <th>Ethnicity</th>\n",
              "      <th>Child's First Name</th>\n",
              "      <th>Count</th>\n",
              "      <th>Rank</th>\n",
              "    </tr>\n",
              "  </thead>\n",
              "  <tbody>\n",
              "    <tr>\n",
              "      <th>7918</th>\n",
              "      <td>2012</td>\n",
              "      <td>FEMALE</td>\n",
              "      <td>ASIAN AND PACI</td>\n",
              "      <td>EMMA</td>\n",
              "      <td>97</td>\n",
              "      <td>5</td>\n",
              "    </tr>\n",
              "    <tr>\n",
              "      <th>8084</th>\n",
              "      <td>2012</td>\n",
              "      <td>FEMALE</td>\n",
              "      <td>BLACK NON HISP</td>\n",
              "      <td>EMMA</td>\n",
              "      <td>27</td>\n",
              "      <td>31</td>\n",
              "    </tr>\n",
              "    <tr>\n",
              "      <th>8302</th>\n",
              "      <td>2012</td>\n",
              "      <td>FEMALE</td>\n",
              "      <td>HISPANIC</td>\n",
              "      <td>EMMA</td>\n",
              "      <td>125</td>\n",
              "      <td>9</td>\n",
              "    </tr>\n",
              "    <tr>\n",
              "      <th>8619</th>\n",
              "      <td>2012</td>\n",
              "      <td>FEMALE</td>\n",
              "      <td>WHITE NON HISP</td>\n",
              "      <td>EMMA</td>\n",
              "      <td>228</td>\n",
              "      <td>1</td>\n",
              "    </tr>\n",
              "    <tr>\n",
              "      <th>15478</th>\n",
              "      <td>2012</td>\n",
              "      <td>FEMALE</td>\n",
              "      <td>ASIAN AND PACI</td>\n",
              "      <td>EMMA</td>\n",
              "      <td>97</td>\n",
              "      <td>5</td>\n",
              "    </tr>\n",
              "    <tr>\n",
              "      <th>15644</th>\n",
              "      <td>2012</td>\n",
              "      <td>FEMALE</td>\n",
              "      <td>BLACK NON HISP</td>\n",
              "      <td>EMMA</td>\n",
              "      <td>27</td>\n",
              "      <td>31</td>\n",
              "    </tr>\n",
              "    <tr>\n",
              "      <th>15862</th>\n",
              "      <td>2012</td>\n",
              "      <td>FEMALE</td>\n",
              "      <td>HISPANIC</td>\n",
              "      <td>EMMA</td>\n",
              "      <td>125</td>\n",
              "      <td>9</td>\n",
              "    </tr>\n",
              "    <tr>\n",
              "      <th>17208</th>\n",
              "      <td>2012</td>\n",
              "      <td>FEMALE</td>\n",
              "      <td>WHITE NON HISP</td>\n",
              "      <td>EMMA</td>\n",
              "      <td>228</td>\n",
              "      <td>1</td>\n",
              "    </tr>\n",
              "  </tbody>\n",
              "</table>\n",
              "</div>"
            ],
            "text/plain": [
              "       Year of Birth  Gender       Ethnicity Child's First Name  Count  Rank\n",
              "7918            2012  FEMALE  ASIAN AND PACI               EMMA     97     5\n",
              "8084            2012  FEMALE  BLACK NON HISP               EMMA     27    31\n",
              "8302            2012  FEMALE        HISPANIC               EMMA    125     9\n",
              "8619            2012  FEMALE  WHITE NON HISP               EMMA    228     1\n",
              "15478           2012  FEMALE  ASIAN AND PACI               EMMA     97     5\n",
              "15644           2012  FEMALE  BLACK NON HISP               EMMA     27    31\n",
              "15862           2012  FEMALE        HISPANIC               EMMA    125     9\n",
              "17208           2012  FEMALE  WHITE NON HISP               EMMA    228     1"
            ]
          },
          "metadata": {
            "tags": []
          },
          "execution_count": 47
        }
      ]
    },
    {
      "cell_type": "markdown",
      "metadata": {
        "id": "fIjh1NivETmR"
      },
      "source": [
        "Otra forma más rapida."
      ]
    },
    {
      "cell_type": "code",
      "metadata": {
        "colab": {
          "base_uri": "https://localhost:8080/",
          "height": 284
        },
        "id": "X_SI4BaJETEH",
        "outputId": "1cacdb25-bfb9-4a36-c01a-54e664d29631"
      },
      "source": [
        "data_ema_2012_alt = data.loc[(data['Child\\'s First Name'] == \"EMMA\") & (data['Year of Birth'] == 2012)]\n",
        "data_ema_2012_alt"
      ],
      "execution_count": null,
      "outputs": [
        {
          "output_type": "execute_result",
          "data": {
            "text/html": [
              "<div>\n",
              "<style scoped>\n",
              "    .dataframe tbody tr th:only-of-type {\n",
              "        vertical-align: middle;\n",
              "    }\n",
              "\n",
              "    .dataframe tbody tr th {\n",
              "        vertical-align: top;\n",
              "    }\n",
              "\n",
              "    .dataframe thead th {\n",
              "        text-align: right;\n",
              "    }\n",
              "</style>\n",
              "<table border=\"1\" class=\"dataframe\">\n",
              "  <thead>\n",
              "    <tr style=\"text-align: right;\">\n",
              "      <th></th>\n",
              "      <th>Year of Birth</th>\n",
              "      <th>Gender</th>\n",
              "      <th>Ethnicity</th>\n",
              "      <th>Child's First Name</th>\n",
              "      <th>Count</th>\n",
              "      <th>Rank</th>\n",
              "    </tr>\n",
              "  </thead>\n",
              "  <tbody>\n",
              "    <tr>\n",
              "      <th>7918</th>\n",
              "      <td>2012</td>\n",
              "      <td>FEMALE</td>\n",
              "      <td>ASIAN AND PACI</td>\n",
              "      <td>EMMA</td>\n",
              "      <td>97</td>\n",
              "      <td>5</td>\n",
              "    </tr>\n",
              "    <tr>\n",
              "      <th>8084</th>\n",
              "      <td>2012</td>\n",
              "      <td>FEMALE</td>\n",
              "      <td>BLACK NON HISP</td>\n",
              "      <td>EMMA</td>\n",
              "      <td>27</td>\n",
              "      <td>31</td>\n",
              "    </tr>\n",
              "    <tr>\n",
              "      <th>8302</th>\n",
              "      <td>2012</td>\n",
              "      <td>FEMALE</td>\n",
              "      <td>HISPANIC</td>\n",
              "      <td>EMMA</td>\n",
              "      <td>125</td>\n",
              "      <td>9</td>\n",
              "    </tr>\n",
              "    <tr>\n",
              "      <th>8619</th>\n",
              "      <td>2012</td>\n",
              "      <td>FEMALE</td>\n",
              "      <td>WHITE NON HISP</td>\n",
              "      <td>EMMA</td>\n",
              "      <td>228</td>\n",
              "      <td>1</td>\n",
              "    </tr>\n",
              "    <tr>\n",
              "      <th>15478</th>\n",
              "      <td>2012</td>\n",
              "      <td>FEMALE</td>\n",
              "      <td>ASIAN AND PACI</td>\n",
              "      <td>EMMA</td>\n",
              "      <td>97</td>\n",
              "      <td>5</td>\n",
              "    </tr>\n",
              "    <tr>\n",
              "      <th>15644</th>\n",
              "      <td>2012</td>\n",
              "      <td>FEMALE</td>\n",
              "      <td>BLACK NON HISP</td>\n",
              "      <td>EMMA</td>\n",
              "      <td>27</td>\n",
              "      <td>31</td>\n",
              "    </tr>\n",
              "    <tr>\n",
              "      <th>15862</th>\n",
              "      <td>2012</td>\n",
              "      <td>FEMALE</td>\n",
              "      <td>HISPANIC</td>\n",
              "      <td>EMMA</td>\n",
              "      <td>125</td>\n",
              "      <td>9</td>\n",
              "    </tr>\n",
              "    <tr>\n",
              "      <th>17208</th>\n",
              "      <td>2012</td>\n",
              "      <td>FEMALE</td>\n",
              "      <td>WHITE NON HISP</td>\n",
              "      <td>EMMA</td>\n",
              "      <td>228</td>\n",
              "      <td>1</td>\n",
              "    </tr>\n",
              "  </tbody>\n",
              "</table>\n",
              "</div>"
            ],
            "text/plain": [
              "       Year of Birth  Gender       Ethnicity Child's First Name  Count  Rank\n",
              "7918            2012  FEMALE  ASIAN AND PACI               EMMA     97     5\n",
              "8084            2012  FEMALE  BLACK NON HISP               EMMA     27    31\n",
              "8302            2012  FEMALE        HISPANIC               EMMA    125     9\n",
              "8619            2012  FEMALE  WHITE NON HISP               EMMA    228     1\n",
              "15478           2012  FEMALE  ASIAN AND PACI               EMMA     97     5\n",
              "15644           2012  FEMALE  BLACK NON HISP               EMMA     27    31\n",
              "15862           2012  FEMALE        HISPANIC               EMMA    125     9\n",
              "17208           2012  FEMALE  WHITE NON HISP               EMMA    228     1"
            ]
          },
          "metadata": {
            "tags": []
          },
          "execution_count": 49
        }
      ]
    },
    {
      "cell_type": "markdown",
      "metadata": {
        "id": "zIqInOdz0EN5"
      },
      "source": [
        "**Ahora sumamos el número de veces que se dio el nombre EMMA considerando que los datos están duplicados **"
      ]
    },
    {
      "cell_type": "code",
      "metadata": {
        "colab": {
          "base_uri": "https://localhost:8080/"
        },
        "id": "2FPxUCgB0LyO",
        "outputId": "de3768c4-1427-4b17-b2ce-9050aa6f505e"
      },
      "source": [
        "numero_EMMA_2012 = data_ema_2012['Count'].sum() / 2.0\n",
        "numero_EMMA_2012"
      ],
      "execution_count": null,
      "outputs": [
        {
          "output_type": "execute_result",
          "data": {
            "text/plain": [
              "477.0"
            ]
          },
          "metadata": {
            "tags": []
          },
          "execution_count": 50
        }
      ]
    },
    {
      "cell_type": "code",
      "metadata": {
        "colab": {
          "base_uri": "https://localhost:8080/"
        },
        "id": "Uh5SZYvZz9Ao",
        "outputId": "0675bfb1-645d-45b2-dc2c-50be2fb03b1d"
      },
      "source": [
        "data_ema_2012.columns"
      ],
      "execution_count": null,
      "outputs": [
        {
          "output_type": "execute_result",
          "data": {
            "text/plain": [
              "Index(['Year of Birth', 'Gender', 'Ethnicity', 'Child's First Name', 'Count',\n",
              "       'Rank'],\n",
              "      dtype='object')"
            ]
          },
          "metadata": {
            "tags": []
          },
          "execution_count": 22
        }
      ]
    },
    {
      "cell_type": "markdown",
      "metadata": {
        "id": "ZWUGhurM0W4f"
      },
      "source": [
        "** Borramos los que están duplicados **"
      ]
    },
    {
      "cell_type": "code",
      "metadata": {
        "colab": {
          "base_uri": "https://localhost:8080/",
          "height": 166
        },
        "id": "HMB0rV8J0Tmm",
        "outputId": "e5aaaff6-83db-48ff-fccc-fb14ced0ed18"
      },
      "source": [
        "data_ema_2012_corr = data_ema_2012.drop_duplicates(subset=['Ethnicity'])\n",
        "data_ema_2012_corr"
      ],
      "execution_count": null,
      "outputs": [
        {
          "output_type": "execute_result",
          "data": {
            "text/html": [
              "<div>\n",
              "<style scoped>\n",
              "    .dataframe tbody tr th:only-of-type {\n",
              "        vertical-align: middle;\n",
              "    }\n",
              "\n",
              "    .dataframe tbody tr th {\n",
              "        vertical-align: top;\n",
              "    }\n",
              "\n",
              "    .dataframe thead th {\n",
              "        text-align: right;\n",
              "    }\n",
              "</style>\n",
              "<table border=\"1\" class=\"dataframe\">\n",
              "  <thead>\n",
              "    <tr style=\"text-align: right;\">\n",
              "      <th></th>\n",
              "      <th>Year of Birth</th>\n",
              "      <th>Gender</th>\n",
              "      <th>Ethnicity</th>\n",
              "      <th>Child's First Name</th>\n",
              "      <th>Count</th>\n",
              "      <th>Rank</th>\n",
              "    </tr>\n",
              "  </thead>\n",
              "  <tbody>\n",
              "    <tr>\n",
              "      <th>7918</th>\n",
              "      <td>2012</td>\n",
              "      <td>FEMALE</td>\n",
              "      <td>ASIAN AND PACI</td>\n",
              "      <td>EMMA</td>\n",
              "      <td>97</td>\n",
              "      <td>5</td>\n",
              "    </tr>\n",
              "    <tr>\n",
              "      <th>8084</th>\n",
              "      <td>2012</td>\n",
              "      <td>FEMALE</td>\n",
              "      <td>BLACK NON HISP</td>\n",
              "      <td>EMMA</td>\n",
              "      <td>27</td>\n",
              "      <td>31</td>\n",
              "    </tr>\n",
              "    <tr>\n",
              "      <th>8302</th>\n",
              "      <td>2012</td>\n",
              "      <td>FEMALE</td>\n",
              "      <td>HISPANIC</td>\n",
              "      <td>EMMA</td>\n",
              "      <td>125</td>\n",
              "      <td>9</td>\n",
              "    </tr>\n",
              "    <tr>\n",
              "      <th>8619</th>\n",
              "      <td>2012</td>\n",
              "      <td>FEMALE</td>\n",
              "      <td>WHITE NON HISP</td>\n",
              "      <td>EMMA</td>\n",
              "      <td>228</td>\n",
              "      <td>1</td>\n",
              "    </tr>\n",
              "  </tbody>\n",
              "</table>\n",
              "</div>"
            ],
            "text/plain": [
              "      Year of Birth  Gender       Ethnicity Child's First Name  Count  Rank\n",
              "7918           2012  FEMALE  ASIAN AND PACI               EMMA     97     5\n",
              "8084           2012  FEMALE  BLACK NON HISP               EMMA     27    31\n",
              "8302           2012  FEMALE        HISPANIC               EMMA    125     9\n",
              "8619           2012  FEMALE  WHITE NON HISP               EMMA    228     1"
            ]
          },
          "metadata": {
            "tags": []
          },
          "execution_count": 51
        }
      ]
    },
    {
      "cell_type": "code",
      "metadata": {
        "colab": {
          "base_uri": "https://localhost:8080/"
        },
        "id": "WAnxpvyh0Umv",
        "outputId": "00ece3c4-f272-4551-fccd-f8c1ec05dca9"
      },
      "source": [
        "numero_EMMA_2012 = data_ema_2012_corr['Count'].sum()\n",
        "numero_EMMA_2012"
      ],
      "execution_count": null,
      "outputs": [
        {
          "output_type": "execute_result",
          "data": {
            "text/plain": [
              "477"
            ]
          },
          "metadata": {
            "tags": []
          },
          "execution_count": 52
        }
      ]
    },
    {
      "cell_type": "markdown",
      "metadata": {
        "id": "jMZzvjhV05bR"
      },
      "source": [
        "** Con los datos ordenados y filtrados se puede realizar el gráfico **\n"
      ]
    },
    {
      "cell_type": "code",
      "metadata": {
        "colab": {
          "base_uri": "https://localhost:8080/",
          "height": 371
        },
        "id": "jP5phid5029K",
        "outputId": "85497847-383c-4a49-d5d2-520581b21172"
      },
      "source": [
        "data_ema_2012_corr.plot.bar(x='Ethnicity',y='Count')"
      ],
      "execution_count": null,
      "outputs": [
        {
          "output_type": "execute_result",
          "data": {
            "text/plain": [
              "<matplotlib.axes._subplots.AxesSubplot at 0x7fd2fc87dbd0>"
            ]
          },
          "metadata": {
            "tags": []
          },
          "execution_count": 25
        },
        {
          "output_type": "display_data",
          "data": {
            "image/png": "[encoded data removed]",
            "text/plain": [
              "<Figure size 432x288 with 1 Axes>"
            ]
          },
          "metadata": {
            "tags": [],
            "needs_background": "light"
          }
        }
      ]
    },
    {
      "cell_type": "code",
      "metadata": {
        "id": "oUJmmmB3088c"
      },
      "source": [
        ""
      ],
      "execution_count": null,
      "outputs": []
    }
  ]
}